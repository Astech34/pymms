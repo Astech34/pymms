{
 "cells": [
  {
   "cell_type": "markdown",
   "metadata": {},
   "source": [
    "# Intro to pyMMS\n",
    "\n",
    "This notebook will describe how to use the pymms, a package for working with data from the Magnetospheric Multiscale (MMS) mission. Data and mission details can be found at the [Science Data Center](https://lasp.colorado.edu/mms/sdc/public/)."
   ]
  },
  {
   "cell_type": "markdown",
   "metadata": {},
   "source": [
    "## Installing Packages with Conda\n",
    "Since I am using `conda` and spacepy is not packaged for `conda`, I need to get `conda` to recognize pip packages. To do so, I follow the [`conda` tutorial](https://conda.io/docs/user-guide/tasks/manage-environments.html) for managing packages.\n",
    "```bash\n",
    "conda create --name mmsenv\n",
    "conda install -n mmsenv spyder numpy scipy matplotlib tqdm\n",
    "source activate mmsenv # Windos: activate mmsenv\n",
    "pip install spacepy\n",
    "```\n",
    "\n",
    "Note that SciPy and SpacePy require a Fortran compiler to be instealled. [This tutorial](http://skipperkongen.dk/2012/04/27/how-to-install-gfortran-on-mac-os-x/) explains how to install gFortran for MaxOSX. It is available via `Homebrew` and `MacPorts`. What I did was download the DMG file from [GNU](http://gcc.gnu.org/wiki/GFortranBinaries#MacOS). In install Spyder so that it can be launched while in the environment, as per [this page](https://stackoverflow.com/questions/30170468/how-to-run-spyder-in-virtual-environment)."
   ]
  },
  {
   "cell_type": "markdown",
   "metadata": {},
   "source": [
    "## Installing packages with pip\n",
    "To get started, we need to install [`numpy`](http://www.numpy.org/), [`scipy`](https://www.scipy.org/index.html), [`spacepy`](https://pythonhosted.org/SpacePy/index.html), [`matplotlib`](https://matplotlib.org/), and [`tqdm`](https://pypi.python.org/pypi/tqdm). I follow the \"Installing Via Pip\" section on the [SciPy install page](https://www.scipy.org/install.html).\n",
    "```bash\n",
    "pip3 install numpy scipy spacepy matplotlib tqdm\n",
    "```"
   ]
  },
  {
   "cell_type": "markdown",
   "metadata": {},
   "source": [
    "## Installing CDF\n",
    "Following the steps\n",
    "1. Go to the [CDF Download page](https://cdf.gsfc.nasa.gov/html/sw_and_docs.html)\n",
    "2. Click on the latest initial release (v3.6.4 at the time of this writing)\n",
    "3. Follow links for your operating system. Mine is [MacOSX](https://cdf.gsfc.nasa.gov/html/sw_and_docs.html)\n",
    "4. Read the AAREADME.txt\n",
    "5. Download tarball and install\n",
    "\n",
    "From the terminal in MacOSX:\n",
    "```bash\n",
    "cd ~/Downloads/\n",
    "wget -v -nd -np -nH https://spdf.sci.gsfc.nasa.gov/pub/software/cdf/dist/cdf36_4/macosx/cdf36_4_0-setup_universal_binary.tar.gz\n",
    "gunzip cdf36_4_0-setup_universal_binary.tar.gz\n",
    "tar -vxf cdf36_4_0-setup_universal_binary.tar\n",
    "\n",
    "# Installs into /Applications/cdf/cdf36_4-dist\n",
    "open CDF3640ub.pkg\n",
    "rm CDF3640ub.pkg\n",
    "```"
   ]
  },
  {
   "cell_type": "markdown",
   "metadata": {},
   "source": [
    "## Setting PYTHONPATH\n",
    "Next, I add my python directory to the `$PYTHONPATH` system variable. I do this programmatically here, but it can also be done [in a python or environment startup script](https://stackoverflow.com/questions/3402168/permanently-add-a-directory-to-pythonpath)."
   ]
  },
  {
   "cell_type": "code",
   "execution_count": 1,
   "metadata": {
    "scrolled": true
   },
   "outputs": [
    {
     "data": {
      "text/plain": [
       "['',\n",
       " '/Users/argall/anaconda3/lib/python36.zip',\n",
       " '/Users/argall/anaconda3/lib/python3.6',\n",
       " '/Users/argall/anaconda3/lib/python3.6/lib-dynload',\n",
       " '/Users/argall/anaconda3/lib/python3.6/site-packages',\n",
       " '/Users/argall/anaconda3/lib/python3.6/site-packages/aeosa',\n",
       " '/Users/argall/anaconda3/lib/python3.6/site-packages/IPython/extensions',\n",
       " '/Users/argall/.ipython',\n",
       " '/Users/argall/Documents/Python/']"
      ]
     },
     "execution_count": 1,
     "metadata": {},
     "output_type": "execute_result"
    }
   ],
   "source": [
    "import sys\n",
    "sys.path.append('/Users/argall/Documents/Python/')\n",
    "sys.path"
   ]
  },
  {
   "cell_type": "markdown",
   "metadata": {},
   "source": [
    "## Working with pyMMS\n",
    "Now I can import the MMS SDC module and create an instance of the MrMMS_SDC_API class."
   ]
  },
  {
   "cell_type": "markdown",
   "metadata": {},
   "source": [
    "### Available Files\n",
    "To see which files are available and motivate the attributes of the MrMMS_SDC_API class, I demonstrate the ``FileNames`` method."
   ]
  },
  {
   "cell_type": "code",
   "execution_count": 2,
   "metadata": {},
   "outputs": [
    {
     "name": "stdout",
     "output_type": "stream",
     "text": [
      "mms/data/mms4/scm/srvy/l2/scsrvy/2017/07/mms4_scm_srvy_l2_scsrvy_20170711_v2.2.0.cdf\n",
      "mms/data/mms4/mec/srvy/l2/ephts04d/2017/07/mms4_mec_srvy_l2_ephts04d_20170711_v2.0.2.cdf\n",
      "mms/data/mms4/mec/srvy/l2/epht89q/2017/07/mms4_mec_srvy_l2_epht89q_20170711_v2.0.2.cdf\n",
      "mms/data/mms4/mec/srvy/l2/epht89d/2017/07/mms4_mec_srvy_l2_epht89d_20170711_v2.0.2.cdf\n",
      "mms/data/mms4/hpca/srvy/l2/moments/2017/07/mms4_hpca_srvy_l2_moments_20170711000000_v3.2.5.cdf\n",
      "mms/data/mms4/hpca/srvy/l2/ion/2017/07/mms4_hpca_srvy_l2_ion_20170711000000_v3.2.5.cdf\n",
      "mms/data/mms4/fgm/srvy/l2/2017/07/mms4_fgm_srvy_l2_20170711_v5.95.0.cdf\n",
      "mms/data/mms4/feeps/srvy/l2/ion/2017/07/mms4_feeps_srvy_l2_ion_20170711000000_v6.0.1.cdf\n",
      "mms/data/mms4/feeps/srvy/l2/electron/2017/07/mms4_feeps_srvy_l2_electron_20170711000000_v6.0.1.cdf\n",
      "mms/data/mms4/epd-eis/srvy/l2/phxtof/2017/07/mms4_epd-eis_srvy_l2_phxtof_20170711_v4.0.3.cdf\n",
      "mms/data/mms4/epd-eis/srvy/l2/extof/2017/07/mms4_epd-eis_srvy_l2_extof_20170711_v4.0.3.cdf\n",
      "mms/data/mms4/epd-eis/srvy/l2/electronenergy/2017/07/mms4_epd-eis_srvy_l2_electronenergy_20170711_v4.0.3.cdf\n",
      "mms/data/mms4/edp/srvy/l2/hfesp/2017/07/mms4_edp_srvy_l2_hfesp_20170711_v0.4.3.cdf\n",
      "mms/data/mms4/edp/slow/l2/scpot/2017/07/mms4_edp_slow_l2_scpot_20170711000000_v2.4.3.cdf\n",
      "mms/data/mms4/edp/slow/l2/dce/2017/07/mms4_edp_slow_l2_dce_20170711_v2.3.0.cdf\n",
      "mms/data/mms4/edp/fast/l2/scpot/2017/07/mms4_edp_fast_l2_scpot_20170711000000_v2.4.3.cdf\n",
      "mms/data/mms4/edp/fast/l2/dce/2017/07/mms4_edp_fast_l2_dce_20170711_v2.3.0.cdf\n",
      "mms/data/mms4/edi/srvy/l2/q0/2017/07/mms4_edi_srvy_l2_q0_20170711_v4.0.0.cdf\n",
      "mms/data/mms4/edi/srvy/l2/efield/2017/07/mms4_edi_srvy_l2_efield_20170711_v1.6.0.cdf\n",
      "mms/data/mms4/edi/srvy/l2/amb-pm2/2017/07/mms4_edi_srvy_l2_amb-pm2_20170711_v3.2.1.cdf\n",
      "mms/data/mms4/dsp/slow/l2/epsd/2017/07/mms4_dsp_slow_l2_epsd_20170711_v0.6.3.cdf\n",
      "mms/data/mms4/dsp/slow/l2/bpsd/2017/07/mms4_dsp_slow_l2_bpsd_20170711_v2.2.0.cdf\n",
      "mms/data/mms4/dsp/fast/l2/swd/2017/07/mms4_dsp_fast_l2_swd_20170711_v0.5.0.cdf\n",
      "mms/data/mms4/dsp/fast/l2/epsd/2017/07/mms4_dsp_fast_l2_epsd_20170711_v0.6.3.cdf\n",
      "mms/data/mms4/dsp/fast/l2/bpsd/2017/07/mms4_dsp_fast_l2_bpsd_20170711_v2.2.3.cdf\n",
      "mms/data/mms4/aspoc/srvy/l2/2017/07/mms4_aspoc_srvy_l2_20170711_v2.0.3.cdf\n",
      "mms/data/mms3/scm/srvy/l2/scsrvy/2017/07/mms3_scm_srvy_l2_scsrvy_20170711_v2.2.0.cdf\n",
      "mms/data/mms3/mec/srvy/l2/ephts04d/2017/07/mms3_mec_srvy_l2_ephts04d_20170711_v2.0.2.cdf\n",
      "mms/data/mms3/mec/srvy/l2/epht89q/2017/07/mms3_mec_srvy_l2_epht89q_20170711_v2.0.2.cdf\n",
      "mms/data/mms3/mec/srvy/l2/epht89d/2017/07/mms3_mec_srvy_l2_epht89d_20170711_v2.0.2.cdf\n",
      "mms/data/mms3/hpca/srvy/l2/moments/2017/07/mms3_hpca_srvy_l2_moments_20170711000000_v3.2.5.cdf\n",
      "mms/data/mms3/hpca/srvy/l2/ion/2017/07/mms3_hpca_srvy_l2_ion_20170711000000_v3.2.5.cdf\n",
      "mms/data/mms3/fgm/srvy/l2/2017/07/mms3_fgm_srvy_l2_20170711_v5.95.0.cdf\n",
      "mms/data/mms3/feeps/srvy/l2/ion/2017/07/mms3_feeps_srvy_l2_ion_20170711000000_v6.0.1.cdf\n",
      "mms/data/mms3/feeps/srvy/l2/electron/2017/07/mms3_feeps_srvy_l2_electron_20170711000000_v6.0.1.cdf\n",
      "mms/data/mms3/epd-eis/srvy/l2/phxtof/2017/07/mms3_epd-eis_srvy_l2_phxtof_20170711_v4.0.3.cdf\n",
      "mms/data/mms3/epd-eis/srvy/l2/extof/2017/07/mms3_epd-eis_srvy_l2_extof_20170711_v4.0.3.cdf\n",
      "mms/data/mms3/epd-eis/srvy/l2/electronenergy/2017/07/mms3_epd-eis_srvy_l2_electronenergy_20170711_v4.0.3.cdf\n",
      "mms/data/mms3/edp/srvy/l2/hfesp/2017/07/mms3_edp_srvy_l2_hfesp_20170711_v0.4.4.cdf\n",
      "mms/data/mms3/edp/slow/l2/scpot/2017/07/mms3_edp_slow_l2_scpot_20170711000000_v2.4.4.cdf\n",
      "mms/data/mms3/edp/slow/l2/dce/2017/07/mms3_edp_slow_l2_dce_20170711_v2.3.0.cdf\n",
      "mms/data/mms3/edp/fast/l2/scpot/2017/07/mms3_edp_fast_l2_scpot_20170711000000_v2.4.3.cdf\n",
      "mms/data/mms3/edp/fast/l2/dce/2017/07/mms3_edp_fast_l2_dce_20170711_v2.3.0.cdf\n",
      "mms/data/mms3/edi/srvy/l2/q0/2017/07/mms3_edi_srvy_l2_q0_20170711_v4.0.0.cdf\n",
      "mms/data/mms3/edi/srvy/l2/efield/2017/07/mms3_edi_srvy_l2_efield_20170711_v1.6.0.cdf\n",
      "mms/data/mms3/edi/srvy/l2/amb-pm2/2017/07/mms3_edi_srvy_l2_amb-pm2_20170711_v3.1.1.cdf\n",
      "mms/data/mms3/dsp/slow/l2/epsd/2017/07/mms3_dsp_slow_l2_epsd_20170711_v0.6.3.cdf\n",
      "mms/data/mms3/dsp/slow/l2/bpsd/2017/07/mms3_dsp_slow_l2_bpsd_20170711_v2.2.0.cdf\n",
      "mms/data/mms3/dsp/fast/l2/swd/2017/07/mms3_dsp_fast_l2_swd_20170711_v0.5.0.cdf\n",
      "mms/data/mms3/dsp/fast/l2/epsd/2017/07/mms3_dsp_fast_l2_epsd_20170711_v0.6.3.cdf\n",
      "mms/data/mms3/dsp/fast/l2/bpsd/2017/07/mms3_dsp_fast_l2_bpsd_20170711_v2.2.3.cdf\n",
      "mms/data/mms3/aspoc/srvy/l2/2017/07/mms3_aspoc_srvy_l2_20170711_v2.0.4.cdf\n",
      "mms/data/mms2/scm/srvy/l2/scsrvy/2017/07/mms2_scm_srvy_l2_scsrvy_20170711_v2.2.0.cdf\n",
      "mms/data/mms2/mec/srvy/l2/ephts04d/2017/07/mms2_mec_srvy_l2_ephts04d_20170711_v2.0.2.cdf\n",
      "mms/data/mms2/mec/srvy/l2/epht89q/2017/07/mms2_mec_srvy_l2_epht89q_20170711_v2.0.2.cdf\n",
      "mms/data/mms2/mec/srvy/l2/epht89d/2017/07/mms2_mec_srvy_l2_epht89d_20170711_v2.0.2.cdf\n",
      "mms/data/mms2/hpca/srvy/l2/moments/2017/07/mms2_hpca_srvy_l2_moments_20170711000000_v3.2.5.cdf\n",
      "mms/data/mms2/hpca/srvy/l2/ion/2017/07/mms2_hpca_srvy_l2_ion_20170711000000_v3.2.5.cdf\n",
      "mms/data/mms2/fgm/srvy/l2/2017/07/mms2_fgm_srvy_l2_20170711_v5.95.0.cdf\n",
      "mms/data/mms2/feeps/srvy/l2/ion/2017/07/mms2_feeps_srvy_l2_ion_20170711000000_v6.0.1.cdf\n",
      "mms/data/mms2/feeps/srvy/l2/electron/2017/07/mms2_feeps_srvy_l2_electron_20170711000000_v6.0.1.cdf\n",
      "mms/data/mms2/epd-eis/srvy/l2/phxtof/2017/07/mms2_epd-eis_srvy_l2_phxtof_20170711_v4.0.3.cdf\n",
      "mms/data/mms2/epd-eis/srvy/l2/extof/2017/07/mms2_epd-eis_srvy_l2_extof_20170711_v4.0.3.cdf\n",
      "mms/data/mms2/epd-eis/srvy/l2/electronenergy/2017/07/mms2_epd-eis_srvy_l2_electronenergy_20170711_v4.0.3.cdf\n",
      "mms/data/mms2/edp/srvy/l2/hfesp/2017/07/mms2_edp_srvy_l2_hfesp_20170711_v0.4.4.cdf\n",
      "mms/data/mms2/edp/slow/l2/scpot/2017/07/mms2_edp_slow_l2_scpot_20170711000000_v2.4.4.cdf\n",
      "mms/data/mms2/edp/slow/l2/dce/2017/07/mms2_edp_slow_l2_dce_20170711_v2.3.0.cdf\n",
      "mms/data/mms2/edp/fast/l2/scpot/2017/07/mms2_edp_fast_l2_scpot_20170711000000_v2.4.3.cdf\n",
      "mms/data/mms2/edp/fast/l2/dce/2017/07/mms2_edp_fast_l2_dce_20170711_v2.3.0.cdf\n",
      "mms/data/mms2/edi/srvy/l2/q0/2017/07/mms2_edi_srvy_l2_q0_20170711_v4.0.0.cdf\n",
      "mms/data/mms2/edi/srvy/l2/efield/2017/07/mms2_edi_srvy_l2_efield_20170711_v1.6.0.cdf\n",
      "mms/data/mms2/edi/srvy/l2/amb-pm2/2017/07/mms2_edi_srvy_l2_amb-pm2_20170711_v3.1.1.cdf\n",
      "mms/data/mms2/dsp/slow/l2/epsd/2017/07/mms2_dsp_slow_l2_epsd_20170711_v0.6.3.cdf\n",
      "mms/data/mms2/dsp/slow/l2/bpsd/2017/07/mms2_dsp_slow_l2_bpsd_20170711_v2.2.0.cdf\n",
      "mms/data/mms2/dsp/fast/l2/swd/2017/07/mms2_dsp_fast_l2_swd_20170711_v0.5.0.cdf\n",
      "mms/data/mms2/dsp/fast/l2/epsd/2017/07/mms2_dsp_fast_l2_epsd_20170711_v0.6.3.cdf\n",
      "mms/data/mms2/dsp/fast/l2/bpsd/2017/07/mms2_dsp_fast_l2_bpsd_20170711_v2.2.3.cdf\n",
      "mms/data/mms2/aspoc/srvy/l2/2017/07/mms2_aspoc_srvy_l2_20170711_v2.0.4.cdf\n",
      "mms/data/mms1/scm/srvy/l2/scsrvy/2017/07/mms1_scm_srvy_l2_scsrvy_20170711_v2.2.0.cdf\n",
      "mms/data/mms1/mec/srvy/l2/ephts04d/2017/07/mms1_mec_srvy_l2_ephts04d_20170711_v2.0.2.cdf\n",
      "mms/data/mms1/mec/srvy/l2/epht89q/2017/07/mms1_mec_srvy_l2_epht89q_20170711_v2.0.2.cdf\n",
      "mms/data/mms1/mec/srvy/l2/epht89d/2017/07/mms1_mec_srvy_l2_epht89d_20170711_v2.0.2.cdf\n",
      "mms/data/mms1/hpca/srvy/l2/moments/2017/07/mms1_hpca_srvy_l2_moments_20170711000000_v3.2.4.cdf\n",
      "mms/data/mms1/hpca/srvy/l2/ion/2017/07/mms1_hpca_srvy_l2_ion_20170711000000_v3.2.4.cdf\n",
      "mms/data/mms1/fgm/srvy/l2/2017/07/mms1_fgm_srvy_l2_20170711_v5.95.0.cdf\n",
      "mms/data/mms1/feeps/srvy/l2/ion/2017/07/mms1_feeps_srvy_l2_ion_20170711000000_v6.0.1.cdf\n",
      "mms/data/mms1/feeps/srvy/l2/electron/2017/07/mms1_feeps_srvy_l2_electron_20170711000000_v6.0.1.cdf\n",
      "mms/data/mms1/epd-eis/srvy/l2/electronenergy/2017/07/mms1_epd-eis_srvy_l2_electronenergy_20170711_v4.0.3.cdf\n",
      "mms/data/mms1/edp/srvy/l2/hfesp/2017/07/mms1_edp_srvy_l2_hfesp_20170711_v0.4.4.cdf\n",
      "mms/data/mms1/edp/slow/l2/scpot/2017/07/mms1_edp_slow_l2_scpot_20170711000000_v2.4.4.cdf\n",
      "mms/data/mms1/edp/slow/l2/dce/2017/07/mms1_edp_slow_l2_dce_20170711_v2.3.0.cdf\n",
      "mms/data/mms1/edp/fast/l2/scpot/2017/07/mms1_edp_fast_l2_scpot_20170711000000_v2.4.3.cdf\n",
      "mms/data/mms1/edp/fast/l2/dce/2017/07/mms1_edp_fast_l2_dce_20170711_v2.3.0.cdf\n",
      "mms/data/mms1/edi/srvy/l2/q0/2017/07/mms1_edi_srvy_l2_q0_20170711_v4.0.0.cdf\n",
      "mms/data/mms1/edi/srvy/l2/efield/2017/07/mms1_edi_srvy_l2_efield_20170711_v1.6.0.cdf\n",
      "mms/data/mms1/edi/srvy/l2/amb-pm2/2017/07/mms1_edi_srvy_l2_amb-pm2_20170711_v3.1.1.cdf\n",
      "mms/data/mms1/dsp/slow/l2/epsd/2017/07/mms1_dsp_slow_l2_epsd_20170711_v0.6.3.cdf\n",
      "mms/data/mms1/dsp/slow/l2/bpsd/2017/07/mms1_dsp_slow_l2_bpsd_20170711_v2.2.0.cdf\n",
      "mms/data/mms1/dsp/fast/l2/swd/2017/07/mms1_dsp_fast_l2_swd_20170711_v0.5.0.cdf\n",
      "mms/data/mms1/dsp/fast/l2/epsd/2017/07/mms1_dsp_fast_l2_epsd_20170711_v0.6.3.cdf\n",
      "mms/data/mms1/dsp/fast/l2/bpsd/2017/07/mms1_dsp_fast_l2_bpsd_20170711_v2.2.3.cdf\n",
      "mms/data/mms1/aspoc/srvy/l2/2017/07/mms1_aspoc_srvy_l2_20170711_v2.0.4.cdf\n"
     ]
    }
   ],
   "source": [
    "import pymms as mms\n",
    "mysdc = mms.MrMMS_SDC_API(start_date='2017-07-11', end_date='2017-07-11',\n",
    "                          data_root='/Users/argall/MrWebData/mms/')\n",
    "files = mysdc.FileNames()\n",
    "print(*files, sep='\\n')"
   ]
  },
  {
   "cell_type": "markdown",
   "metadata": {},
   "source": [
    "MMS directories and file names have the format:\n",
    "* **files**: `sc_instr_mode_level[_optdesc]_tstart_vX.Y.Z.cdf`\n",
    "* **directories**:\n",
    "  * **srvy**: `sc/instr/mode/level[/optdesc]/YYYY/MM/`\n",
    "  * **brst**: `sc/instr/mode/level[/optdesc]/YYYY/MM/DD/`\n",
    "\n",
    "where\n",
    "* **sc**      = Spacecraft ID: {'mms1' | 'mms2' | 'mms3' | 'mms4'} \n",
    "* **instr**   = Instrument ID: many options\n",
    "* **mode**    = Data rate mode: {'slow' | 'fast' | 'srvy' | 'brst'}\n",
    "* **level**   = Data level: {'l1a', 'l1b', 'sitl', 'l2pre', 'l2', 'l3'}\n",
    "* **optdesc** = Optional file name descriptor.\n",
    "* **tstart**  = File start time (either `YYYYMMDD` or `YYYYMMDDhhmmss`)\n",
    "* **X.Y.Z**   = Version number\n",
    "\n",
    "The `start_date` and `end_date` parameters are half-inclusive. The API will find all files within the interval `[start_date, end_date)`. Note that `brst` files were not returned. This is because the time interval is such that only those files with start times of exactly `start_date` are returned. More often, `brst` files are scattered throughout the day.\n",
    "\n",
    "From the SDC website, [How to Get Data](https://lasp.colorado.edu/mms/sdc/public/data/) provides a description of the services that the API provides. The [File Browser](https://lasp.colorado.edu/mms/sdc/public/data/) allows you to browse for datasets.The directory structure is similar to the file name format. [Datasets](https://lasp.colorado.edu/mms/sdc/public/datasets/) provides description of the instruments and data products."
   ]
  },
  {
   "cell_type": "markdown",
   "metadata": {},
   "source": [
    "### Download Data\n",
    "We will set attributes to download level 2 vector magnetic field data from the FGM instrument. Level 2 data is the science quality data available to the public (no password required)."
   ]
  },
  {
   "cell_type": "code",
   "execution_count": 3,
   "metadata": {},
   "outputs": [
    {
     "name": "stderr",
     "output_type": "stream",
     "text": [
      "62.4kk [03:09, 329k/s]                            \n"
     ]
    }
   ],
   "source": [
    "mysdc.sc = 'mms1'\n",
    "mysdc.instr = 'fgm'\n",
    "mysdc.mode = 'srvy'\n",
    "mysdc.level = 'l2'\n",
    "file = mysdc.Download()"
   ]
  },
  {
   "cell_type": "markdown",
   "metadata": {},
   "source": [
    "As you can see, the data was saved to the location specified by the `data_root` attribute using the SDC directory structure."
   ]
  },
  {
   "cell_type": "markdown",
   "metadata": {},
   "source": [
    "### Reading and Displaying Data\n",
    "MMS data are saved into the Common Data Format [(CDF)](https://cdf.gsfc.nasa.gov/), created by NASA. SpacePy contains a module named [pycdf](https://pythonhosted.org/SpacePy/pycdf.html) that allows us to interface with the CDF files. As, the `pycdf` instructions state, we have to define the environment variable `CDF_LIB` so that it points to the newly installed CDF distribution."
   ]
  },
  {
   "cell_type": "code",
   "execution_count": 4,
   "metadata": {},
   "outputs": [
    {
     "ename": "ModuleNotFoundError",
     "evalue": "No module named 'spacepy'",
     "output_type": "error",
     "traceback": [
      "\u001b[0;31m---------------------------------------------------------------------------\u001b[0m",
      "\u001b[0;31mModuleNotFoundError\u001b[0m                       Traceback (most recent call last)",
      "\u001b[0;32m<ipython-input-4-c4476b18321b>\u001b[0m in \u001b[0;36m<module>\u001b[0;34m()\u001b[0m\n\u001b[1;32m      2\u001b[0m \u001b[0;32mimport\u001b[0m \u001b[0mos\u001b[0m\u001b[0;34m\u001b[0m\u001b[0m\n\u001b[1;32m      3\u001b[0m \u001b[0mos\u001b[0m\u001b[0;34m.\u001b[0m\u001b[0menviron\u001b[0m\u001b[0;34m[\u001b[0m\u001b[0;34m\"CDF_LIB\"\u001b[0m\u001b[0;34m]\u001b[0m \u001b[0;34m=\u001b[0m \u001b[0;34m\"/Applications/cdf/cdf36_4-dist/lib/\"\u001b[0m\u001b[0;34m\u001b[0m\u001b[0m\n\u001b[0;32m----> 4\u001b[0;31m \u001b[0;32mfrom\u001b[0m \u001b[0mspacepy\u001b[0m \u001b[0;32mimport\u001b[0m \u001b[0mpycdf\u001b[0m\u001b[0;34m\u001b[0m\u001b[0m\n\u001b[0m\u001b[1;32m      5\u001b[0m \u001b[0;32mimport\u001b[0m \u001b[0mnumpy\u001b[0m \u001b[0;32mas\u001b[0m \u001b[0mnp\u001b[0m\u001b[0;34m\u001b[0m\u001b[0m\n\u001b[1;32m      6\u001b[0m \u001b[0;32mimport\u001b[0m \u001b[0mmatplotlib\u001b[0m\u001b[0;34m.\u001b[0m\u001b[0mdates\u001b[0m\u001b[0;34m\u001b[0m\u001b[0m\n",
      "\u001b[0;31mModuleNotFoundError\u001b[0m: No module named 'spacepy'"
     ]
    }
   ],
   "source": [
    "# Import pycdf\n",
    "import os\n",
    "os.environ[\"CDF_LIB\"] = \"/Applications/cdf/cdf36_4-dist/lib/\"\n",
    "from spacepy import pycdf\n",
    "import numpy as np\n",
    "import matplotlib.dates\n",
    "import matplotlib.pyplot as plt\n",
    "\n",
    "# Open a file and list the variables\n",
    "cdf = pycdf.CDF(file)\n",
    "print(cdf)\n",
    "\n",
    "# Read the magnetic field data in GSE coordinates\n",
    "time = cdf['Epoch'][...]\n",
    "b_gse = cdf['mms1_fgm_b_gse_srvy_l2'][...]\n",
    "type(time[0])\n",
    "np.shape(b_gse)\n",
    "\n",
    "# Plot\n",
    "plt.plot(time, b_gse)\n",
    "plt.gcf().autofmt_xdate()\n",
    "plt.gca().YLim([-100,100])\n",
    "plt.show()"
   ]
  },
  {
   "cell_type": "code",
   "execution_count": null,
   "metadata": {
    "collapsed": true
   },
   "outputs": [],
   "source": []
  }
 ],
 "metadata": {
  "kernelspec": {
   "display_name": "Python 3",
   "language": "python",
   "name": "python3"
  },
  "language_info": {
   "codemirror_mode": {
    "name": "ipython",
    "version": 3
   },
   "file_extension": ".py",
   "mimetype": "text/x-python",
   "name": "python",
   "nbconvert_exporter": "python",
   "pygments_lexer": "ipython3",
   "version": "3.6.3"
  }
 },
 "nbformat": 4,
 "nbformat_minor": 2
}
