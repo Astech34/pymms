{
 "cells": [
  {
   "cell_type": "markdown",
   "metadata": {},
   "source": [
    "# Machine Learning Dataset\n",
    "This notebook will go through the steps of downloading MMS data for the machine learning project and creating a CSV file of the results. It will also be a small introduction to the structure of CDF files."
   ]
  },
  {
   "cell_type": "markdown",
   "metadata": {},
   "source": [
    "## Creating the pymms object\n",
    "First, we create an instance of the object that communicates with the SDC. For the sake of this example, we will start with data from `2015-10-16` because there are several magnetopause crossings and a well-studied electron diffusion region event. Also, for simplicity we will work with data from the MMS1 spacecraft. Data from other spacecraft can be loaded by changing the `sc` property below to `'mms2'`, `'mms3'`, or `'mms4'`."
   ]
  },
  {
   "cell_type": "code",
   "execution_count": 11,
   "metadata": {},
   "outputs": [],
   "source": [
    "import numpy as np\n",
    "import spacepy\n",
    "from spacepy import pycdf\n",
    "import pymms\n",
    "from pymms import mms_utils\n",
    "sdc = pymms.MrMMS_SDC_API()\n",
    "\n",
    "# Define the spacecraft. We will use the variable later when accessing the CDF files.\n",
    "sc = 'mms1'\n",
    "start_date = '2015-10-16'\n",
    "end_date = '2015-10-17'\n",
    "data_root = '/Users/argall/data/' # Specifying data_root=\"~/\" does not expand the tilde yet\n",
    "                                  # However, if data_root=None, then ~/data is the default\n",
    "\n",
    "# Set attributes\n",
    "sdc.sc = sc\n",
    "sdc.start_date = start_date\n",
    "sdc.end_date = end_date\n",
    "sdc.data_root = data_root"
   ]
  },
  {
   "cell_type": "markdown",
   "metadata": {},
   "source": [
    "## FGM\n",
    "The FGM dataset contains magnetic field data from the fluxgate magnetometer (FGM). [Since the Geocentric Solar Ecliptic](https://sscweb.gsfc.nasa.gov/users_guide/Appendix_C.html) (GSE) coordinate system is the standard for MMS data, we will extract non-scalar data in this system."
   ]
  },
  {
   "cell_type": "code",
   "execution_count": 12,
   "metadata": {},
   "outputs": [
    {
     "name": "stdout",
     "output_type": "stream",
     "text": [
      "FGM Files:\n",
      "/Users/argall/data/mms1/fgm/srvy/l2/2015/10/mms1_fgm_srvy_l2_20151016_v4.18.0.cdf\n"
     ]
    }
   ],
   "source": [
    "# First, define variables, as they will be used in creating variable names\n",
    "coords = 'gse'\n",
    "instr = 'fgm'\n",
    "mode = 'srvy'\n",
    "level = 'l2'\n",
    "\n",
    "# Set object properties and get data\n",
    "sdc.instr = instr\n",
    "sdc.mode = mode\n",
    "sdc.level = level\n",
    "files = sdc.Download()\n",
    "\n",
    "print('FGM Files:')\n",
    "print(*files, sep='\\n')"
   ]
  },
  {
   "cell_type": "markdown",
   "metadata": {},
   "source": [
    "### CDF Files\n",
    "CDF files are somewhat like netCDF or HDF5 files in that the contain data as well as metadata. Data is associated with variable names and variable metadata, or variable attributes. The file itself has metadata in the form of global attributes. For our purpose, we are interested in determining the variable names, what they mean, then selecting the subset of variables that are relevant to us. To do that, we will need `pycdf` from the `spacepy` package.\n",
    "\n",
    "The most important variable attributes are `CATDESC`, which describes the variable, `FILLVAL`, which gives the value used for bad or missing data, and `DEPEND_[0-3]`, which list the dependent variables of a data variable. Typically, the dimensions of CDF variables are ordered as `[nRecs, nDep1, nDep2, nDep3]`, where `nRecs` is the total number of records, each record having dimensions `[nDep1, nDep2, nDep3]`. The value of `DEPEND_0` is typically `'Epoch'`, indicating that the CDF variable `'Epoch'` is a dependency. The `'Epoch'` variable contains a CDF Epoch time stamp at each of the `nRecs` number of records. Similarly `DEPEND_[1-3]` variables point to other variables in the CDF file that act as dependencies. If you want to plot a variable, you will need to also extract its `'DEPEND_0'` variables.\n",
    "\n",
    "Variables and attributes are described in more detail in the [ISTP CDF Guidelines](https://spdf.gsfc.nasa.gov/sp_use_of_cdf.html)."
   ]
  },
  {
   "cell_type": "code",
   "execution_count": 13,
   "metadata": {},
   "outputs": [
    {
     "name": "stdout",
     "output_type": "stream",
     "text": [
      "Global Attributes:\n",
      "\tProject\n",
      "\tSource_name\n",
      "\tDiscipline\n",
      "\tData_type\n",
      "\tDescriptor\n",
      "\tFile_naming_convention\n",
      "\tData_version\n",
      "\tPI_name\n",
      "\tPI_affiliation\n",
      "\tTEXT\n",
      "\tInstrument_type\n",
      "\tMission_group\n",
      "\tLogical_source\n",
      "\tLogical_file_id\n",
      "\tLogical_source_description\n",
      "\tTime_resolution\n",
      "\tRules_of_use\n",
      "\tGenerated_by\n",
      "\tGeneration_date\n",
      "\tAcknowledgement\n",
      "\tMODS\n",
      "\tADID_ref\n",
      "\tLINK_TEXT\n",
      "\tLINK_TITLE\n",
      "\tHTTP_LINK\n",
      "\tParents\n",
      "\n",
      "Variable Attributes:\n",
      "\tEpoch\n",
      "\tmms1_fgm_b_gse_srvy_l2\n",
      "\tmms1_fgm_b_gsm_srvy_l2\n",
      "\tmms1_fgm_b_dmpa_srvy_l2\n",
      "\tmms1_fgm_b_bcs_srvy_l2\n",
      "\tmms1_fgm_flag_srvy_l2\n",
      "\tEpoch_state\n",
      "\tmms1_fgm_r_gse_srvy_l2\n",
      "\tmms1_fgm_r_gsm_srvy_l2\n",
      "\tlabel_b_gse\n",
      "\tlabel_b_gsm\n",
      "\tlabel_b_dmpa\n",
      "\tlabel_b_bcs\n",
      "\tlabel_r_gse\n",
      "\tlabel_r_gsm\n",
      "\trepresent_vec_tot\n",
      "\tmms1_fgm_hirange_srvy_l2\n",
      "\tmms1_fgm_bdeltahalf_srvy_l2\n",
      "\tmms1_fgm_stemp_srvy_l2\n",
      "\tmms1_fgm_etemp_srvy_l2\n",
      "\tmms1_fgm_mode_srvy_l2\n",
      "\tmms1_fgm_rdeltahalf_srvy_l2\n",
      "\n",
      "Variable Attributes for \"mms1_fgm_b_gse_srvy_l2\":\n",
      "\tCATDESC\n",
      "\tDEPEND_0\n",
      "\tDISPLAY_TYPE\n",
      "\tFIELDNAM\n",
      "\tFILLVAL\n",
      "\tFORMAT\n",
      "\tLABL_PTR_1\n",
      "\tUNITS\n",
      "\tVALIDMIN\n",
      "\tVALIDMAX\n",
      "\tVAR_TYPE\n",
      "\tSCALETYP\n",
      "\tCOORDINATE_SYSTEM\n",
      "\tSI_CONVERSION\n",
      "\tTENSOR_ORDER\n",
      "\tREPRESENTATION_1\n",
      "\n",
      "Values of Important Variable Attributes:\n",
      "\t CATDESC:  Magnetic field vector in Geocentric Solar Ecliptic (GSE) cartesian coordinates plus Btotal (8 or 16 S/s)\n",
      "\t FILLVAL:  -1e+31\n",
      "\t DEPEND_0:  Epoch\n"
     ]
    }
   ],
   "source": [
    "# Open the file and pr\n",
    "cdf = pycdf.CDF(files[0])\n",
    "\n",
    "# Show global attribute\n",
    "print('Global Attributes:')\n",
    "for gAttrName in cdf.attrs:\n",
    "    print('\\t' + gAttrName)\n",
    "\n",
    "# Show variable names\n",
    "print('\\nVariable Attributes:')\n",
    "for varName in cdf:\n",
    "    print('\\t' + varName)\n",
    "\n",
    "# Show variable attributes for a particular variable\n",
    "print('\\nVariable Attributes for \"mms1_fgm_b_gse_srvy_l2\":')\n",
    "for vAttrName in cdf['mms1_fgm_b_gse_srvy_l2'].attrs:\n",
    "    print('\\t' + vAttrName)\n",
    "\n",
    "# Important variable attributes:\n",
    "print('\\nValues of Important Variable Attributes:')\n",
    "print('\\t', 'CATDESC: ', cdf[sc+'_fgm_b_gse_srvy_l2'].attrs['CATDESC'])\n",
    "print('\\t', 'FILLVAL: ', cdf[sc+'_fgm_b_gse_srvy_l2'].attrs['FILLVAL'])\n",
    "print('\\t', 'DEPEND_0: ', cdf[sc+'_fgm_b_gse_srvy_l2'].attrs['DEPEND_0'])"
   ]
  },
  {
   "cell_type": "markdown",
   "metadata": {},
   "source": [
    "### Reading Data\n",
    "Now we can read data and its corresponding time stamps for a CDF variable. We choose the `'mms1_fgm_b_gse_srvy_l2'` variable because, as shown above, its `CATDESC` attribute describes it as the magnetic field in GSE coordinates. In order to be completely general, I will build the variable names from the attributes we have already defined. Variable names have the convention of `sc_instr_param_coords_optdesc_mode_level`, where `param` describes the quantity and `coords` is the coordinate system whenever relevant. Other components are similar to the file name conventions."
   ]
  },
  {
   "cell_type": "code",
   "execution_count": 14,
   "metadata": {
    "collapsed": true
   },
   "outputs": [],
   "source": [
    "# Read the magnetic field and its time stamps\n",
    "b_vname = '_'.join((sc, instr, 'b', coords, mode, level))\n",
    "fgm_t = cdf[cdf[b_vname].attrs['DEPEND_0']][:]\n",
    "fgm_b = cdf[b_vname][:]\n",
    "\n",
    "# Close the CDF\n",
    "cdf.close()"
   ]
  },
  {
   "cell_type": "markdown",
   "metadata": {},
   "source": [
    "## FPI\n",
    "Next, we will repeat the process for the Fast Plasma Instrument (FPI), which consists of the Dual Electron Spectrometer (DES) and the Dual Ion Spectrometer (DIS). These measure characteristics of the electron and ion plasmas, respectively. Here, we are interested in the density, velocity, and temperature.\n",
    "\n",
    "Normally, survey mode files are a combination of fast and slow survey data and span an entire day. Because FPI produces so much data, however, it is only operated in fast survey mode and its \"daily files\" are broken up into several files of shorter time intervals."
   ]
  },
  {
   "cell_type": "markdown",
   "metadata": {},
   "source": [
    "### DIS"
   ]
  },
  {
   "cell_type": "code",
   "execution_count": 15,
   "metadata": {},
   "outputs": [
    {
     "name": "stderr",
     "output_type": "stream",
     "text": [
      "762k [00:00, 1.53kk/s]                          \n",
      "2.14kk [00:00, 3.06kk/s]                            \n",
      "2.14kk [00:00, 3.31kk/s]                            \n",
      "2.14kk [00:00, 3.04kk/s]                            \n",
      "2.13kk [00:01, 1.83kk/s]                            \n",
      "2.07kk [00:00, 2.76kk/s]                            \n",
      "1.07kk [00:01, 791k/s]                           \n"
     ]
    },
    {
     "name": "stdout",
     "output_type": "stream",
     "text": [
      "DIS Files:\n",
      "  /Users/argall/data/mms1/fpi/fast/l2/dis-moms/2015/10/mms1_fpi_fast_l2_dis-moms_20151016160000_v3.1.0.cdf\n",
      "  /Users/argall/data/mms1/fpi/fast/l2/dis-moms/2015/10/mms1_fpi_fast_l2_dis-moms_20151016140000_v3.1.0.cdf\n",
      "  /Users/argall/data/mms1/fpi/fast/l2/dis-moms/2015/10/mms1_fpi_fast_l2_dis-moms_20151016120000_v3.1.0.cdf\n",
      "  /Users/argall/data/mms1/fpi/fast/l2/dis-moms/2015/10/mms1_fpi_fast_l2_dis-moms_20151016100000_v3.1.0.cdf\n",
      "  /Users/argall/data/mms1/fpi/fast/l2/dis-moms/2015/10/mms1_fpi_fast_l2_dis-moms_20151016080000_v3.1.0.cdf\n",
      "  /Users/argall/data/mms1/fpi/fast/l2/dis-moms/2015/10/mms1_fpi_fast_l2_dis-moms_20151016060000_v3.1.0.cdf\n",
      "  /Users/argall/data/mms1/fpi/fast/l2/dis-moms/2015/10/mms1_fpi_fast_l2_dis-moms_20151016040000_v3.1.0.cdf\n"
     ]
    }
   ],
   "source": [
    "# Update instrument-specific variables\n",
    "instr = 'fpi'\n",
    "mode = 'fast'\n",
    "optdesc = 'dis-moms'\n",
    "\n",
    "# Set attributes\n",
    "sdc.instr = instr\n",
    "sdc.mode = mode\n",
    "sdc.optdesc = optdesc\n",
    "\n",
    "# DIS variable names\n",
    "n_vname = '_'.join((sc, 'dis', 'numberdensity', mode))\n",
    "v_vname = '_'.join((sc, 'dis', 'bulkv', coords, mode))\n",
    "t_para_vname = '_'.join((sc, 'dis', 'temppara', mode))\n",
    "t_perp_vname = '_'.join((sc, 'dis', 'tempperp', mode))\n",
    "\n",
    "# Open the file\n",
    "files = sdc.Download()\n",
    "\n",
    "# Read the data\n",
    "dis_t = []\n",
    "dis_n = []\n",
    "dis_v = []\n",
    "dis_temp_para = []\n",
    "dis_temp_perp = []\n",
    "print('DIS Files:')\n",
    "for file in files:\n",
    "    # Open the file\n",
    "    cdf = pycdf.CDF(file)\n",
    "    \n",
    "    # Read the data\n",
    "    #   - Convert numpyp arrays to lists to make appending easier\n",
    "    dis_t += list(cdf[cdf[n_vname].attrs['DEPEND_0']][:])\n",
    "    dis_n += list(cdf[n_vname][:])\n",
    "    dis_v += list(cdf[v_vname][:])\n",
    "    dis_temp_para += list(cdf[t_para_vname][:])\n",
    "    dis_temp_perp += list(cdf[t_perp_vname][:])\n",
    "    \n",
    "    # Close the file\n",
    "    cdf.close()\n",
    "    print('  ' + file)\n",
    "\n",
    "# Convert back to numpy arrays\n",
    "dis_t = np.array(dis_t)\n",
    "dis_n = np.array(dis_n)\n",
    "dis_v = np.array(dis_v)\n",
    "dis_temp_para = np.array(dis_temp_para)\n",
    "dis_temp_perp = np.array(dis_temp_perp)"
   ]
  },
  {
   "cell_type": "markdown",
   "metadata": {},
   "source": [
    "### DES"
   ]
  },
  {
   "cell_type": "code",
   "execution_count": 16,
   "metadata": {},
   "outputs": [
    {
     "name": "stderr",
     "output_type": "stream",
     "text": [
      "1.12kk [00:00, 2.19kk/s]                          \n",
      "3.22kk [00:00, 4.02kk/s]                            \n",
      "3.21kk [00:01, 3.01kk/s]                            \n",
      "3.22kk [00:00, 4.08kk/s]                            \n",
      "3.22kk [00:02, 1.20kk/s]                            \n",
      "3.21kk [00:00, 3.76kk/s]                            \n",
      "1.62kk [00:00, 2.22kk/s]                            \n"
     ]
    },
    {
     "name": "stdout",
     "output_type": "stream",
     "text": [
      "DES Files:\n",
      "  /Users/argall/data/mms1/fpi/fast/l2/des-moms/2015/10/mms1_fpi_fast_l2_des-moms_20151016160000_v3.1.0.cdf\n",
      "  /Users/argall/data/mms1/fpi/fast/l2/des-moms/2015/10/mms1_fpi_fast_l2_des-moms_20151016140000_v3.1.0.cdf\n",
      "  /Users/argall/data/mms1/fpi/fast/l2/des-moms/2015/10/mms1_fpi_fast_l2_des-moms_20151016120000_v3.1.0.cdf\n",
      "  /Users/argall/data/mms1/fpi/fast/l2/des-moms/2015/10/mms1_fpi_fast_l2_des-moms_20151016100000_v3.1.0.cdf\n",
      "  /Users/argall/data/mms1/fpi/fast/l2/des-moms/2015/10/mms1_fpi_fast_l2_des-moms_20151016080000_v3.1.0.cdf\n",
      "  /Users/argall/data/mms1/fpi/fast/l2/des-moms/2015/10/mms1_fpi_fast_l2_des-moms_20151016060000_v3.1.0.cdf\n",
      "  /Users/argall/data/mms1/fpi/fast/l2/des-moms/2015/10/mms1_fpi_fast_l2_des-moms_20151016040000_v3.1.0.cdf\n"
     ]
    }
   ],
   "source": [
    "# Update instrument-specific variables\n",
    "optdesc = 'des-moms'\n",
    "\n",
    "# Set attributes\n",
    "sdc.optdesc = optdesc\n",
    "\n",
    "# DIS variable names\n",
    "n_vname = '_'.join((sc, 'des', 'numberdensity', mode))\n",
    "v_vname = '_'.join((sc, 'des', 'bulkv', coords, mode))\n",
    "t_para_vname = '_'.join((sc, 'des', 'temppara', mode))\n",
    "t_perp_vname = '_'.join((sc, 'des', 'tempperp', mode))\n",
    "\n",
    "# Open the file\n",
    "files = sdc.Download()\n",
    "\n",
    "# Read the data\n",
    "des_t = []\n",
    "des_n = []\n",
    "des_v = []\n",
    "des_temp_para = []\n",
    "des_temp_perp = []\n",
    "print('DES Files:')\n",
    "for file in files:\n",
    "    # Open the file\n",
    "    cdf = pycdf.CDF(file)\n",
    "    \n",
    "    # Read the data\n",
    "    des_t += list(cdf[cdf[n_vname].attrs['DEPEND_0']][:])\n",
    "    des_n += list(cdf[n_vname][:])\n",
    "    des_v += list(cdf[v_vname][:])\n",
    "    des_temp_para += list(cdf[t_para_vname][:])\n",
    "    des_temp_perp += list(cdf[t_perp_vname][:])\n",
    "\n",
    "    # Close the file\n",
    "    cdf.close()\n",
    "    print('  ' + file)\n",
    "\n",
    "# Convert back to numpy arrays\n",
    "des_t = np.array(des_t)\n",
    "des_n = np.array(des_n)\n",
    "des_v = np.array(des_v)\n",
    "des_temp_para = np.array(des_temp_para)\n",
    "des_temp_perp = np.array(des_temp_perp)"
   ]
  },
  {
   "cell_type": "markdown",
   "metadata": {},
   "source": [
    "## Interpolate All Values to `t_des`\n",
    "In this step, we need to get all variables into the same time basis. We will interpolate data from FGM and DIS onto the time tags of DES."
   ]
  },
  {
   "cell_type": "code",
   "execution_count": 17,
   "metadata": {},
   "outputs": [
    {
     "name": "stdout",
     "output_type": "stream",
     "text": [
      "Time:                    (9297,) object\n",
      "DES Density:             (9297,) float32\n",
      "DES Velocity:            (9297, 3) float32\n",
      "DES Temperature (para):  (9297,) float32\n",
      "DES Temperature (perp):  (9297,) float32\n",
      "FGM Magnetic Field:      (9297, 4) float64\n",
      "DIS Density:             (9297,) float64\n",
      "DIS Velocity:            (9297, 3) float64\n",
      "DIS Temperature (para):  (9297,) float64\n",
      "DIS Temperature (perp):  (9297,) float64\n"
     ]
    }
   ],
   "source": [
    "# Convert datetime objects to floats\n",
    "des_t_stamp = [t.timestamp() for t in des_t]\n",
    "fgm_t_stamp = [t.timestamp() for t in fgm_t]\n",
    "dis_t_stamp = [t.timestamp() for t in dis_t]\n",
    "\n",
    "# Interpolate FGM data\n",
    "#   - An Nx4 array, ordered as (Bx, By, Bz, |B|)\n",
    "nTimes = len(des_t_stamp)\n",
    "nComps = np.size(fgm_b, 1)\n",
    "fgm_b_interp = np.zeros([nTimes, nComps], dtype=float)\n",
    "for idx in range(nComps):\n",
    "    fgm_b_interp[:,idx] = np.interp(des_t_stamp, fgm_t_stamp, fgm_b[:,idx])\n",
    "\n",
    "# Interpolate DIS data\n",
    "dis_n_interp = np.interp(des_t_stamp, dis_t_stamp, dis_n)\n",
    "dis_temp_para_interp = np.interp(des_t_stamp, dis_t_stamp, dis_temp_para)\n",
    "dis_temp_perp_interp = np.interp(des_t_stamp, dis_t_stamp, dis_temp_perp)\n",
    "\n",
    "# An Nx3 array, ordered as (Vx, Vy, Vz)\n",
    "nComps = np.size(dis_v, 1)\n",
    "dis_v_interp = np.zeros([nTimes, nComps])\n",
    "for idx in range(nComps):\n",
    "    dis_v_interp[:,idx] = np.interp(des_t_stamp, dis_t_stamp, dis_v[:,idx])\n",
    "\n",
    "# Print results\n",
    "print('Time:                   ', np.shape(des_t), des_t.dtype)\n",
    "print('DES Density:            ', np.shape(des_n), des_n.dtype)\n",
    "print('DES Velocity:           ', np.shape(des_v), des_v.dtype)\n",
    "print('DES Temperature (para): ', np.shape(des_temp_para), des_temp_para.dtype)\n",
    "print('DES Temperature (perp): ', np.shape(des_temp_perp), des_temp_perp.dtype)\n",
    "print('FGM Magnetic Field:     ', np.shape(fgm_b_interp), fgm_b_interp.dtype)\n",
    "print('DIS Density:            ', np.shape(dis_n_interp), dis_n_interp.dtype)\n",
    "print('DIS Velocity:           ', np.shape(dis_v_interp), dis_v_interp.dtype)\n",
    "print('DIS Temperature (para): ', np.shape(dis_temp_para_interp), dis_temp_para_interp.dtype)\n",
    "print('DIS Temperature (perp): ', np.shape(dis_temp_perp_interp), dis_temp_perp_interp.dtype)"
   ]
  },
  {
   "cell_type": "markdown",
   "metadata": {},
   "source": [
    "## Write to CSV File\n",
    "The last step is to export this data to a CSV file."
   ]
  },
  {
   "cell_type": "code",
   "execution_count": null,
   "metadata": {
    "collapsed": true
   },
   "outputs": [],
   "source": [
    "# Open file and write data\n",
    "import pandas as pa\n",
    "\n",
    "data = {\n",
    "    'Time':  des_t,\n",
    "    'DES Density' : des_n,\n",
    "    'DES Velocity' : des_v,\n",
    "    'DES Temperature (para)' : des_temp_para,\n",
    "    'DES Temperature (perp)' : des_temp_perp,\n",
    "    'FGM Magnetic Field' : fgm_b_interp,\n",
    "    'DIS Density' : dis_n_interp,\n",
    "    'DIS Velocity' : dis_v_interp,\n",
    "    'DIS Temperature (para)' : dis_temp_para_interp,\n",
    "    'DIS Temperature (perp)' : dis_temp_perp_interp,\n",
    "}\n",
    "\n",
    "data = pa.DataFrame(data)\n",
    "data.to_csv(\"~/data/output.csv\")"
   ]
  },
  {
   "cell_type": "markdown",
   "metadata": {},
   "source": [
    "## SITL Selections\n",
    "The actual selections that the SITL made are indicated by the start times of the burst file. These times are part of the file names themselves. To obtain the file names and parse the times,"
   ]
  },
  {
   "cell_type": "code",
   "execution_count": 29,
   "metadata": {},
   "outputs": [
    {
     "name": "stdout",
     "output_type": "stream",
     "text": [
      "20151016055934\n",
      "20151016060044\n",
      "20151016060204\n",
      "20151016062101\n",
      "20151016075744\n",
      "20151016081914\n",
      "20151016082334\n",
      "20151016083804\n",
      "20151016090134\n",
      "20151016090304\n",
      "20151016092224\n",
      "20151016092404\n",
      "20151016092534\n",
      "20151016093114\n",
      "20151016093234\n",
      "20151016093404\n",
      "20151016093554\n",
      "20151016094344\n",
      "20151016095304\n",
      "20151016095404\n",
      "20151016095724\n",
      "20151016095844\n",
      "20151016100144\n",
      "20151016101954\n",
      "20151016102534\n",
      "20151016102944\n",
      "20151016103254\n",
      "20151016103414\n",
      "20151016103654\n",
      "20151016104424\n",
      "20151016104554\n",
      "20151016104834\n",
      "20151016105454\n",
      "20151016110934\n",
      "20151016112554\n",
      "20151016112754\n",
      "20151016112914\n",
      "20151016113844\n",
      "20151016114004\n",
      "20151016125604\n",
      "20151016130224\n",
      "20151016130334\n",
      "20151016130524\n",
      "20151016130904\n",
      "20151016133344\n",
      "20151016133904\n",
      "20151016135404\n",
      "20151016135534\n",
      "20151016135714\n",
      "20151016140544\n",
      "20151016140704\n",
      "20151016145004\n",
      "20151016145104\n",
      "20151016145244\n",
      "20151016145354\n",
      "20151016145534\n"
     ]
    }
   ],
   "source": [
    "# Open file and write data\n",
    "sdc.instr = 'fpi'\n",
    "sdc.mode = 'brst'\n",
    "sdc.level = 'l2'\n",
    "sdc.optdesc = 'dis-moms'\n",
    "sitl_selections = [parts[5] for parts in mms_utils.parse_filename(sdc.FileNames())]\n",
    "print(*sitl_selections, sep='\\n')"
   ]
  }
 ],
 "metadata": {
  "kernelspec": {
   "display_name": "Python 3",
   "language": "python",
   "name": "python3"
  },
  "language_info": {
   "codemirror_mode": {
    "name": "ipython",
    "version": 3
   },
   "file_extension": ".py",
   "mimetype": "text/x-python",
   "name": "python",
   "nbconvert_exporter": "python",
   "pygments_lexer": "ipython3",
   "version": "3.6.3"
  }
 },
 "nbformat": 4,
 "nbformat_minor": 2
}
