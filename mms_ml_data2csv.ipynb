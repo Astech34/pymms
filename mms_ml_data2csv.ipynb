{
 "cells": [
  {
   "cell_type": "markdown",
   "metadata": {},
   "source": [
    "# Machine Learning Dataset\n",
    "This notebook will go through the steps of downloading MMS data for the machine learning project and creating a CSV file of the results. It will also be a small introduction to the structure of CDF files.\n",
    "\n",
    "**Outline**\n",
    "* [Setup: Creating the pymms Object](#pymms_object)\n",
    "* [Working with CDF Files](#working_with_cdf_files)\n",
    "  * [Downloading MMS CDF Files](#cdf_download)\n",
    "  * [CDF Attributes and Variables](#cdf_attrs_vars)\n",
    "* [Fluxgate Magnetometer (FGM)](#fgm)\n",
    "  * [Down and Read](#fgm_download_read)\n",
    "  * [Plot Data](#fgm_plot)\n",
    "  * [Dataframe](#fgm_dataframe)\n",
    "* [Electric Field Double Probes (EDP)](#edp)\n",
    "  * [Down and Read](#edp_download_read)\n",
    "  * [Plot Data](#edp_plot)\n",
    "  * [Dataframe](#edp_dataframe)\n",
    "* [FPI: Dual Ion Spectrometer (DIS)](#dis)\n",
    "  * [Down and Read](#dis_download_read)\n",
    "  * [Plot Data](#dis_plot)\n",
    "  * [Dataframe](#dis_dataframe)\n",
    "* [FPI: Dual Electron Spectrometer (DES)](#des)\n",
    "  * [Down and Read](#des_download_read)\n",
    "  * [Plot Data](#des_plot)\n",
    "  * [Dataframe](#des_dataframe)\n",
    "* [Electron Drift Instrument (EDI)](#edi)\n",
    "  * [Down and Read](#edi_download_read)\n",
    "  * [Plot Data](#edi_plot)\n",
    "  * [Dataframe](#edi_dataframe)\n",
    "* [Interpolate to DES](#interpolate_to_des)\n",
    "* [Write to CSV](#write_to_csv)\n",
    "* [SITL Selections](#sitl_selections)"
   ]
  },
  {
   "cell_type": "markdown",
   "metadata": {},
   "source": [
    "<a id='pymms_object'></a>\n",
    "## Creating the pymms object\n",
    "First, we create an instance of the object that communicates with the SDC. For the sake of this example, we will start with data from `2015-10-16` because there are several magnetopause crossings and a well-studied electron diffusion region event. Also, for simplicity we will work with data from the MMS1 spacecraft. Data from other spacecraft can be loaded by changing the `sc` property below to `'mms2'`, `'mms3'`, or `'mms4'`."
   ]
  },
  {
   "cell_type": "code",
   "execution_count": 1,
   "metadata": {
    "collapsed": true
   },
   "outputs": [],
   "source": [
    "import numpy as np\n",
    "import datetime as dt\n",
    "import spacepy\n",
    "from spacepy import pycdf\n",
    "import pandas as pd\n",
    "from pandas import DataFrame\n",
    "import matplotlib.pyplot as plt\n",
    "import matplotlib.dates as mdates\n",
    "import pymms\n",
    "from pymms import mms_utils\n",
    "\n",
    "# Create an instance of SDC object\n",
    "sdc = pymms.MrMMS_SDC_API()\n",
    "\n",
    "# Define the spacecraft. We will use the variable later when accessing the CDF files.\n",
    "sc = 'mms1'\n",
    "level = 'sitl'                    # 'l2' or 'sitl'\n",
    "start_date = '2015-12-06'\n",
    "end_date = '2015-12-06T23:59:59'\n",
    "data_root = '/Users/argall/data/mms/' # Specifying data_root=\"~/\" does not expand the tilde yet\n",
    "                                      # However, if data_root=None, then ~/data is the default\n",
    "\n",
    "# Set attributes\n",
    "sdc.sc = sc\n",
    "sdc.start_date = start_date\n",
    "sdc.end_date = end_date\n",
    "sdc.data_root = data_root"
   ]
  },
  {
   "cell_type": "markdown",
   "metadata": {},
   "source": [
    "<a id='working_with_cdf_files'></a>\n",
    "## Working with CDF Files\n",
    "CDF files are somewhat like netCDF or HDF5 files in that the contain data as well as metadata. Data is associated with variable names and variable metadata, or variable attributes. The file itself has metadata in the form of global attributes. For our purpose, we are interested in determining the variable names, what they mean, then selecting the subset of variables that are relevant to us. To do that, we will need to download an MMS CDF data file and make use of pycdf from the spacepy package."
   ]
  },
  {
   "cell_type": "markdown",
   "metadata": {},
   "source": [
    "<a id='cdf_download'></a>\n",
    "### Downloading an MMS CDF File\n",
    "Here, we will give a brief example of how to download a CDF file using the `pymms` package. We pick a file from the fluxgate magnetometer (FGM) team containing magnetic field data. For demonstration purposes, we select a science-quality data file (`level='l2'`) when the instrument was sampling in survey mode (`mode='srvy'`). [Since the Geocentric Solar Ecliptic](https://sscweb.gsfc.nasa.gov/users_guide/Appendix_C.html) (GSE) coordinate system is the standard for MMS data, we will extract non-scalar data in this system."
   ]
  },
  {
   "cell_type": "code",
   "execution_count": null,
   "metadata": {
    "collapsed": true
   },
   "outputs": [],
   "source": [
    "# First, define variables, as they will be used in creating variable names\n",
    "fgm_mode = 'srvy'\n",
    "fgm_coords = 'gse'\n",
    "fgm_instr = 'fgm'\n",
    "fgm_level = 'l2'\n",
    "\n",
    "# Set object properties and get data\n",
    "sdc.instr = fgm_instr\n",
    "sdc.mode = fgm_mode\n",
    "sdc.level = fgm_level\n",
    "files = sdc.Download()\n",
    "\n",
    "print('FGM Files:')\n",
    "print(*files, sep='\\n')"
   ]
  },
  {
   "cell_type": "markdown",
   "metadata": {},
   "source": [
    "<a id='cdf_attrs_vars'></a>\n",
    "### CDF Attributes and Variables\n",
    "In order to access data in a CDF file, it is necessary to know the names of the variables contained within. Often, it is also important to know additional information about the file contents or variable data. This metadata is contained in the global and variable attributes.\n",
    "\n",
    "The most important variable attributes are `CATDESC`, which describes the variable, `FILLVAL`, which gives the value used for bad or missing data, and `DEPEND_[0-3]`, which list the dependent variables of a data variable. Typically, the dimensions of CDF variables are ordered as `[nRecs, nDep1, nDep2, nDep3]`, where `nRecs` is the total number of records, each record having dimensions `[nDep1, nDep2, nDep3]`. The value of `DEPEND_0` is typically `'Epoch'`, indicating that the CDF variable `'Epoch'` is a dependency. The `'Epoch'` variable contains a CDF Epoch time stamp at each of the `nRecs` number of records. Similarly `DEPEND_[1-3]` variables point to other variables in the CDF file that act as dependencies. If you want to plot a variable, you will need to also extract its `'DEPEND_0'` variables.\n",
    "\n",
    "Variables and attributes are described in more detail in the [ISTP CDF Guidelines](https://spdf.gsfc.nasa.gov/sp_use_of_cdf.html). Below, we demonstrate how to obtain attribute and variable names and values."
   ]
  },
  {
   "cell_type": "code",
   "execution_count": null,
   "metadata": {
    "collapsed": true
   },
   "outputs": [],
   "source": [
    "# Open the file and pr\n",
    "cdf = pycdf.CDF(files[0])\n",
    "\n",
    "# Show global attribute\n",
    "print('Global Attributes:')\n",
    "for gAttrName in cdf.attrs:\n",
    "    print('\\t' + gAttrName)\n",
    "\n",
    "# Show variable names\n",
    "print('\\nVariable Names:')\n",
    "for varName in cdf:\n",
    "    print('\\t' + varName)\n",
    "\n",
    "# Select the magnetic field variable\n",
    "vname = '_'.join((sc, fgm_instr, 'b', fgm_coords, fgm_mode, fgm_level))\n",
    "\n",
    "# Show variable attributes for a particular variable\n",
    "print('\\nVariable Attributes for \"' + vname + '\":')\n",
    "for vAttrName in cdf[vname].attrs:\n",
    "    print('\\t' + vAttrName)\n",
    "\n",
    "# Important variable attributes:\n",
    "print('\\nValues of Important Variable Attributes:')\n",
    "print('\\t', 'CATDESC: ', cdf[vname].attrs['CATDESC'])\n",
    "print('\\t', 'FILLVAL: ', cdf[vname].attrs['FILLVAL'])\n",
    "print('\\t', 'DEPEND_0: ', cdf[vname].attrs['DEPEND_0'])"
   ]
  },
  {
   "cell_type": "markdown",
   "metadata": {},
   "source": [
    "<a id='fgm'></a>\n",
    "## FGM\n",
    "The FGM dataset contains magnetic field data from the fluxgate magnetometer (FGM). [Since the Geocentric Solar Ecliptic](https://sscweb.gsfc.nasa.gov/users_guide/Appendix_C.html) (GSE) coordinate system is the standard for MMS data, we will extract non-scalar data in this system."
   ]
  },
  {
   "cell_type": "markdown",
   "metadata": {},
   "source": [
    "<a id='fgm_download_read'></a>\n",
    "### Download & Read Data\n",
    "Now we can read data and its corresponding time stamps for a CDF variable. We choose the `'mms1_fgm_b_gse_srvy_l2'` variable because, as shown above, its `CATDESC` attribute describes it as the magnetic field in GSE coordinates. In order to be completely general, I will build the variable names from the attributes we have already defined. Variable names have the convention of `sc_instr_param_coords_optdesc_mode_level`, where `param` describes the quantity and `coords` is the coordinate system whenever relevant. Other components are similar to the file name conventions."
   ]
  },
  {
   "cell_type": "code",
   "execution_count": 7,
   "metadata": {},
   "outputs": [
    {
     "name": "stdout",
     "output_type": "stream",
     "text": [
      "FGM Files:\n",
      "  /Users/argall/data/mms1/dfg/srvy/ql/2016/10/mms1_dfg_srvy_ql_20161022_v2.53.3.cdf\n"
     ]
    }
   ],
   "source": [
    "# Update instrument-specific variables\n",
    "fgm_mode = 'srvy'\n",
    "if level == 'sitl':\n",
    "    fgm_coords = 'dmpa'\n",
    "    fgm_instr = 'dfg'\n",
    "    fgm_level = 'ql'\n",
    "else:\n",
    "    fgm_coords = 'gse'\n",
    "    fgm_instr = 'fgm'\n",
    "    fgm_level = 'l2'\n",
    "\n",
    "# Set object properties\n",
    "sdc.instr = fgm_instr\n",
    "sdc.mode = fgm_mode\n",
    "sdc.level = fgm_level\n",
    "\n",
    "# Download data\n",
    "files = sdc.Download()\n",
    "files = mms_utils.sort_files(files)[0]\n",
    "\n",
    "# Read the magnetic field and its time stamps\n",
    "if level == 'l2':\n",
    "    b_vname = '_'.join((sc, fgm_instr, 'b', fgm_coords, fgm_mode, fgm_level))\n",
    "else:\n",
    "    b_vname = '_'.join((sc, fgm_instr, fgm_mode, fgm_coords))\n",
    "\n",
    "fgm_t = []\n",
    "fgm_b = []\n",
    "\n",
    "print('FGM Files:')\n",
    "for file in files:\n",
    "    # Open the file\n",
    "    cdf = pycdf.CDF(file)\n",
    "    \n",
    "    # Read the data\n",
    "    #   - Convert numpy arrays to lists to make appending easier\n",
    "    fgm_t += list(cdf[cdf[b_vname].attrs['DEPEND_0']][:])\n",
    "    fgm_b += list(cdf[b_vname][:])\n",
    "    \n",
    "    # Close the file\n",
    "    cdf.close()\n",
    "    print('  ' + file)\n",
    "\n",
    "# Convert back to numpy arrays\n",
    "fgm_t = np.array(fgm_t)\n",
    "fgm_b = np.array(fgm_b)\n",
    "\n",
    "# Compute clock and normal angles\n",
    "fgm_ca = np.rad2deg(np.arctan2(fgm_b[:,1], fgm_b[:,2]))\n",
    "fgm_tbn = np.rad2deg(np.arctan2(fgm_b[:,0], fgm_b[:,2]))"
   ]
  },
  {
   "cell_type": "markdown",
   "metadata": {},
   "source": [
    "<a id='fgm_plot'></a>\n",
    "### Plot Data"
   ]
  },
  {
   "cell_type": "code",
   "execution_count": 8,
   "metadata": {},
   "outputs": [
    {
     "data": {
      "image/png": "[encoded data removed]",
      "text/plain": [
       "<matplotlib.figure.Figure at 0x10b4b8160>"
      ]
     },
     "metadata": {},
     "output_type": "display_data"
    }
   ],
   "source": [
    "# Visualize the data\n",
    "fig, ax = plt.subplots(nrows=2, ncols=1, squeeze=False)\n",
    "\n",
    "fig.autofmt_xdate()\n",
    "\n",
    "# B-field\n",
    "hbx, = ax[0,0].plot(fgm_t, fgm_b[:,0], 'b', label='Bx')\n",
    "hby, = ax[0,0].plot(fgm_t, fgm_b[:,1], 'g', label='By')\n",
    "hbz, = ax[0,0].plot(fgm_t, fgm_b[:,2], 'r', label='Bz')\n",
    "hb, = ax[0,0].plot(fgm_t, fgm_b[:,3], 'k', label='|B|')\n",
    "ax[0,0].set_title('FGM Magnetic Field in GSE Coordinates')\n",
    "ax[0,0].legend(loc='upper right')\n",
    "ax[0,0].set_ylabel('B\\n(nT)')\n",
    "ax[0,0].set_ylim([-75,75])\n",
    "\n",
    "# Angles\n",
    "htbn, = ax[1,0].plot(fgm_t, fgm_tbn, 'g', label=r'$\\theta_{Bn}$')\n",
    "hca, = ax[1,0].plot(fgm_t, fgm_ca, 'b', label=r'$\\theta_{CA}$')\n",
    "ax[1,0].legend(loc='upper right')\n",
    "ax[1,0].set_ylabel(r'$\\theta$\\n(deg)')\n",
    "\n",
    "# Plot properties\n",
    "#ax.set_xlabel('Time UTC (Month-Day Hour)')\n",
    "#ax.fmt_xdata = mdates.DateFormatter('%m-%d %H:%M')\n",
    "plt.show()"
   ]
  },
  {
   "cell_type": "markdown",
   "metadata": {},
   "source": [
    "<a id='fgm_dataframe'></a>\n",
    "### Data Frame"
   ]
  },
  {
   "cell_type": "code",
   "execution_count": 31,
   "metadata": {
    "collapsed": true
   },
   "outputs": [],
   "source": [
    "# Create a dictionary\n",
    "fgm_data = {\n",
    "    'Time' :  fgm_t,\n",
    "    'Bx' : fgm_b[:,0],\n",
    "    'By' : fgm_b[:,1],\n",
    "    'Bz' : fgm_b[:,2],\n",
    "    'Bmag' : fgm_b[:,3],\n",
    "    'clock_angle' : fgm_ca,\n",
    "    'normal_angle' : fgm_tbn\n",
    "}\n",
    "\n",
    "# Convert dictionary to data from\n",
    "fgm_data = pd.DataFrame(fgm_data, columns=fgm_data.keys())"
   ]
  },
  {
   "cell_type": "markdown",
   "metadata": {},
   "source": [
    "<a id='edp'></a>\n",
    "## EDP\n",
    "Now for electric field and spacecraft potential data from the Electric Field Double Pobles (EDP)."
   ]
  },
  {
   "cell_type": "markdown",
   "metadata": {},
   "source": [
    "<a id='edp_download_read'></a>\n",
    "### Download & Read"
   ]
  },
  {
   "cell_type": "code",
   "execution_count": 22,
   "metadata": {},
   "outputs": [
    {
     "name": "stdout",
     "output_type": "stream",
     "text": [
      "EDP Files:\n",
      "  /Users/argall/data/mms1/edp/fast/sitl/dce/2016/10/mms1_edp_fast_sitl_dce_20161022_v0.1.3.cdf\n",
      "  /Users/argall/data/mms1/edp/fast/sitl/scpot/2016/10/mms1_edp_fast_sitl_scpot_20161022_v0.1.3.cdf\n"
     ]
    }
   ],
   "source": [
    "# Update instrument-specific variables\n",
    "edp_instr = 'edp'\n",
    "edp_mode = 'fast'\n",
    "edp_level = level\n",
    "dce_optdesc = 'dce'\n",
    "scpot_optdesc = 'scpot'\n",
    "\n",
    "if level == 'l2':\n",
    "    edp_coords = 'gse'\n",
    "else:\n",
    "    edp_coords = 'dsl'\n",
    "\n",
    "# EDP variable names\n",
    "e_vname = '_'.join((sc, 'edp', dce_optdesc, edp_coords, edp_mode, edp_level))\n",
    "scpot_vname = '_'.join((sc, 'edp', scpot_optdesc, edp_mode, edp_level))\n",
    "\n",
    "# Download DCE files\n",
    "sdc.instr = edp_instr\n",
    "sdc.mode = edp_mode\n",
    "sdc.level = edp_level\n",
    "sdc.optdesc = dce_optdesc\n",
    "dce_files = sdc.Download()\n",
    "dce_files = mms_utils.sort_files(dce_files)[0]\n",
    "\n",
    "# Download SCPOT files\n",
    "sdc.optdesc = scpot_optdesc\n",
    "scpot_files = sdc.Download()\n",
    "scpot_files = mms_utils.sort_files(scpot_files)[0]\n",
    "\n",
    "# Read the data\n",
    "edp_t = []\n",
    "edp_e = []\n",
    "edp_v = []\n",
    "print('EDP Files:')\n",
    "for ifile, file in enumerate(dce_files):\n",
    "    # Open the file\n",
    "    dce_cdf = pycdf.CDF(dce_files[ifile])\n",
    "    scpot_cdf = pycdf.CDF(scpot_files[ifile])\n",
    "    \n",
    "    # Read data and replace fill value with NaN\n",
    "    e = dce_cdf[e_vname][:]\n",
    "    v = scpot_cdf[scpot_vname][:]\n",
    "    e[e == dce_cdf[e_vname].attrs['FILLVAL']] = np.nan\n",
    "    v[v == scpot_cdf[scpot_vname].attrs['FILLVAL']] = np.nan\n",
    "    \n",
    "    # Read the data\n",
    "    #   - Convert numpy arrays to lists to make appending easier\n",
    "    edp_t += list(dce_cdf[dce_cdf[e_vname].attrs['DEPEND_0']][:])\n",
    "    edp_e += list(e)\n",
    "    edp_v += list(v)\n",
    "    \n",
    "    # Close the file\n",
    "    dce_cdf.close()\n",
    "    scpot_cdf.close()\n",
    "    print('  ' + dce_files[ifile])\n",
    "    print('  ' + scpot_files[ifile])\n",
    "\n",
    "# Convert back to numpy arrays\n",
    "edp_t = np.array(edp_t)\n",
    "edp_e = np.array(edp_e)\n",
    "edp_v = np.array(edp_v)"
   ]
  },
  {
   "cell_type": "markdown",
   "metadata": {},
   "source": [
    "<a id='edp_plot'></a>\n",
    "### Plot"
   ]
  },
  {
   "cell_type": "code",
   "execution_count": 23,
   "metadata": {},
   "outputs": [
    {
     "data": {
      "image/png": "[encoded data removed]",
      "text/plain": [
       "<matplotlib.figure.Figure at 0x10988aa90>"
      ]
     },
     "metadata": {},
     "output_type": "display_data"
    }
   ],
   "source": [
    "# Visualize the data\n",
    "fig, ax = plt.subplots(nrows=2, ncols=1, squeeze=False)\n",
    "\n",
    "fig.autofmt_xdate()\n",
    "\n",
    "# E-field\n",
    "hx, = ax[0,0].plot(edp_t, edp_e[:,0], 'b', label='Ex')\n",
    "hy, = ax[0,0].plot(edp_t, edp_e[:,1], 'g', label='Ey')\n",
    "hz, = ax[0,0].plot(edp_t, edp_e[:,2], 'r', label='Ez')\n",
    "ax[0,0].set_title('EDP Electric Field')\n",
    "ax[0,0].legend(loc='upper right')\n",
    "ax[0,0].set_ylabel('E\\n(mV/m)')\n",
    "\n",
    "# Spacecraft Potential\n",
    "hv, = ax[1,0].plot(edp_t, edp_v)\n",
    "ax[1,0].set_ylabel('SCPot\\n(V)')\n",
    "\n",
    "plt.show()"
   ]
  },
  {
   "cell_type": "markdown",
   "metadata": {},
   "source": [
    "<a id='edp_dataframe'></a>\n",
    "### Data Frame"
   ]
  },
  {
   "cell_type": "code",
   "execution_count": null,
   "metadata": {
    "collapsed": true
   },
   "outputs": [],
   "source": [
    "# Create a dictionary\n",
    "edp_data = {\n",
    "    'Time' :  edp_t,\n",
    "    'Ex' : edp_e[:,0],\n",
    "    'Ey' : edp_e[:,1],\n",
    "    'Ez' : edp_e[:,2],\n",
    "    'scpot' : edp_v\n",
    "}\n",
    "\n",
    "# Convert dictionary to data from\n",
    "edp_data = pd.DataFrame(edp_data, columns=edp_data.keys())"
   ]
  },
  {
   "cell_type": "markdown",
   "metadata": {},
   "source": [
    "## FPI\n",
    "Next, we will repeat the process for the Fast Plasma Instrument (FPI), which consists of the Dual Electron Spectrometer (DES) and the Dual Ion Spectrometer (DIS). These measure characteristics of the electron and ion plasmas, respectively. Here, we are interested in the density, velocity, and temperature.\n",
    "\n",
    "Normally, survey mode files are a combination of fast and slow survey data and span an entire day. Because FPI produces so much data, however, it is only operated in fast survey mode and its \"daily files\" are broken up into several files of shorter time intervals."
   ]
  },
  {
   "cell_type": "markdown",
   "metadata": {},
   "source": [
    "<a id='dis'></a>\n",
    "## DIS"
   ]
  },
  {
   "cell_type": "markdown",
   "metadata": {},
   "source": [
    "<a id='dis_download_read'></a>\n",
    "### Download and Read"
   ]
  },
  {
   "cell_type": "code",
   "execution_count": 26,
   "metadata": {},
   "outputs": [
    {
     "name": "stderr",
     "output_type": "stream",
     "text": [
      "1.12MB [00:01, 830kB/s]                           \n",
      "1.75MB [00:02, 749kB/s]                            \n",
      "1.88MB [00:04, 424kB/s]                            \n",
      "1.88MB [00:05, 531kB/s]                            \n",
      "1.88MB [00:03, 638kB/s]                            \n",
      "1.88MB [00:07, 262kB/s]                            \n",
      "1.88MB [00:06, 284kB/s]                            \n"
     ]
    },
    {
     "name": "stdout",
     "output_type": "stream",
     "text": [
      "DIS Files:\n",
      "  /Users/argall/data/mms1/fpi/fast/ql/dis/2016/10/mms1_fpi_fast_ql_dis_20161022100000_v3.1.0.cdf\n",
      "  /Users/argall/data/mms1/fpi/fast/ql/dis/2016/10/mms1_fpi_fast_ql_dis_20161022120000_v3.1.0.cdf\n",
      "  /Users/argall/data/mms1/fpi/fast/ql/dis/2016/10/mms1_fpi_fast_ql_dis_20161022140000_v3.1.0.cdf\n",
      "  /Users/argall/data/mms1/fpi/fast/ql/dis/2016/10/mms1_fpi_fast_ql_dis_20161022160000_v3.1.0.cdf\n",
      "  /Users/argall/data/mms1/fpi/fast/ql/dis/2016/10/mms1_fpi_fast_ql_dis_20161022180000_v3.1.0.cdf\n",
      "  /Users/argall/data/mms1/fpi/fast/ql/dis/2016/10/mms1_fpi_fast_ql_dis_20161022200000_v3.1.0.cdf\n",
      "  /Users/argall/data/mms1/fpi/fast/ql/dis/2016/10/mms1_fpi_fast_ql_dis_20161022220000_v3.1.0.cdf\n"
     ]
    }
   ],
   "source": [
    "# Update instrument-specific variables\n",
    "dis_instr = 'fpi'\n",
    "dis_mode = 'fast'\n",
    "\n",
    "if level == 'sitl':\n",
    "    dis_coords = 'dbcs'\n",
    "    dis_level = 'ql'\n",
    "    dis_optdesc = 'dis'\n",
    "else:\n",
    "    dis_coords = 'gse'\n",
    "    dis_level = level\n",
    "    dis_optdesc = 'dis-moms'\n",
    "\n",
    "# Set attributes\n",
    "sdc.instr = dis_instr\n",
    "sdc.mode = dis_mode\n",
    "sdc.level = dis_level\n",
    "sdc.optdesc = dis_optdesc\n",
    "\n",
    "# DIS variable names\n",
    "n_vname = '_'.join((sc, 'dis', 'numberdensity', dis_mode))\n",
    "v_vname = '_'.join((sc, 'dis', 'bulkv', dis_coords, dis_mode))\n",
    "t_para_vname = '_'.join((sc, 'dis', 'temppara', dis_mode))\n",
    "t_perp_vname = '_'.join((sc, 'dis', 'tempperp', dis_mode))\n",
    "espec_vname = '_'.join((sc, 'dis', 'energyspectr', 'omni', dis_mode))\n",
    "\n",
    "# Open the file\n",
    "files = sdc.Download()\n",
    "files = mms_utils.sort_files(files)[0]\n",
    "\n",
    "# Read the data\n",
    "dis_t = []\n",
    "dis_n = []\n",
    "dis_v = []\n",
    "dis_temp_para = []\n",
    "dis_temp_perp = []\n",
    "dis_espec = []\n",
    "dis_e = []\n",
    "print('DIS Files:')\n",
    "for file in files:\n",
    "    # Open the file\n",
    "    cdf = pycdf.CDF(file)\n",
    "    \n",
    "    # Read timee and shift to center of interval\n",
    "    #   - There must be a bug in the CDF package because the Epoch_plus_var variables\n",
    "    #     are read as empty but really contain scalar values\n",
    "    t = cdf[cdf[n_vname].attrs['DEPEND_0']][:]\n",
    "#    dt_minus = t.attrs['DELTA_MINUS_VAR']\n",
    "#    dt_plus = t.attrs['DELTA_PLUS_VAR']\n",
    "    dt_minus = 0\n",
    "    dt_plus = 4.5\n",
    "    t += dt.timedelta(seconds=(dt_plus - dt_minus) / 2.0)\n",
    "    \n",
    "    # Read the data\n",
    "    #   - Convert numpy arrays to lists to make appending easier\n",
    "    dis_t += list(t)\n",
    "    dis_n += list(cdf[n_vname][:])\n",
    "    dis_v += list(cdf[v_vname][:])\n",
    "    dis_temp_para += list(cdf[t_para_vname][:])\n",
    "    dis_temp_perp += list(cdf[t_perp_vname][:])\n",
    "    dis_espec += list(cdf[espec_vname][:])\n",
    "    dis_e += list(cdf[cdf[espec_vname].attrs['DEPEND_1']][:])\n",
    "    \n",
    "    # Close the file\n",
    "    cdf.close()\n",
    "    print('  ' + file)\n",
    "\n",
    "# Convert back to numpy arrays\n",
    "dis_t = np.array(dis_t)\n",
    "dis_n = np.array(dis_n)\n",
    "dis_v = np.array(dis_v)\n",
    "dis_temp_para = np.array(dis_temp_para)\n",
    "dis_temp_perp = np.array(dis_temp_perp)\n",
    "dis_espec = np.array(dis_espec)\n",
    "dis_e = np.array(dis_e)\n",
    "\n",
    "# Compute velocity magnitude\n",
    "dis_vmag = np.sqrt(dis_v[:,0]**2.0 + dis_v[:,1]**2.0 + dis_v[:,2]**2.0)\n",
    "\n",
    "# Compute scalar temperature\n",
    "dis_temp = 1.0/3.0 * (2.0*dis_temp_perp + dis_temp_para)"
   ]
  },
  {
   "cell_type": "markdown",
   "metadata": {},
   "source": [
    "<a id='dis_plot'></a>\n",
    "### Plot"
   ]
  },
  {
   "cell_type": "code",
   "execution_count": 27,
   "metadata": {},
   "outputs": [
    {
     "data": {
      "image/png": "[encoded data removed]",
      "text/plain": [
       "<matplotlib.figure.Figure at 0x109027908>"
      ]
     },
     "metadata": {},
     "output_type": "display_data"
    }
   ],
   "source": [
    "# Visualize the data\n",
    "fig, ax = plt.subplots(nrows=4, ncols=1, squeeze=False)\n",
    "\n",
    "fig.autofmt_xdate()\n",
    "\n",
    "# Density\n",
    "hn = ax[0,0].plot(dis_t, dis_n)\n",
    "ax[0,0].set_title('DIS Data in GSE Coordinates')\n",
    "ax[0,0].set_ylabel('n\\n($cm^{-3}$)')\n",
    "\n",
    "# Velocity\n",
    "hvx, = ax[1,0].plot(dis_t, dis_v[:,0], 'b', label='vx')\n",
    "hvy, = ax[1,0].plot(dis_t, dis_v[:,1], 'g', label='vy')\n",
    "hvz, = ax[1,0].plot(dis_t, dis_v[:,2], 'r', label='vz')\n",
    "hvz, = ax[1,0].plot(dis_t, dis_vmag, 'k', label='|v|')\n",
    "ax[1,0].legend(loc='upper right')\n",
    "ax[1,0].set_ylabel('V\\n(km/s)')\n",
    "\n",
    "# Temperature\n",
    "htpara, = ax[2,0].plot(dis_t, dis_temp_para, 'b', label='$T_{\\parallel}$')\n",
    "htperp, = ax[2,0].plot(dis_t, dis_temp_perp, 'r', label='$T_{\\perp}$')\n",
    "htperp, = ax[2,0].plot(dis_t, dis_temp, 'k', label='$T$')\n",
    "ax[2,0].legend(loc='upper right')\n",
    "ax[2,0].set_ylabel('T\\n(eV)')\n",
    "\n",
    "# Energy Spectrogram\n",
    "# hespec, = ax[3,0].contour(np.arange(len(dis_t)), dis_e, dis_espec)\n",
    "\n",
    "plt.show()"
   ]
  },
  {
   "cell_type": "markdown",
   "metadata": {},
   "source": [
    "<a id='dis_dataframe'></a>\n",
    "### Data Frame"
   ]
  },
  {
   "cell_type": "code",
   "execution_count": 36,
   "metadata": {
    "collapsed": true
   },
   "outputs": [],
   "source": [
    "# Create a dictionary\n",
    "dis_data = {\n",
    "    'Time' :  dis_t,\n",
    "    'N' : dis_n,\n",
    "    'Vx' : dis_v[:,0],\n",
    "    'Vy' : dis_v[:,1],\n",
    "    'Vz' : dis_v[:,2],\n",
    "    'Vmag' : dis_vmag,\n",
    "    'Tpara' : dis_temp_para,\n",
    "    'Tperp' : dis_temp_perp,\n",
    "    'T' : dis_temp\n",
    "#    'ESpec': dis_espec,\n",
    "#    'Energy': dis_e,\n",
    "}\n",
    "\n",
    "# Convert dictionary to data from\n",
    "dis_data = pd.DataFrame(dis_data, columns=dis_data.keys())"
   ]
  },
  {
   "cell_type": "markdown",
   "metadata": {},
   "source": [
    "<a id='des'></a>\n",
    "### DES"
   ]
  },
  {
   "cell_type": "markdown",
   "metadata": {},
   "source": [
    "<a id='des_download_read'></a>\n",
    "### Download and Read"
   ]
  },
  {
   "cell_type": "code",
   "execution_count": 28,
   "metadata": {},
   "outputs": [
    {
     "name": "stderr",
     "output_type": "stream",
     "text": [
      "1.75MB [00:10, 183kB/s]                            \n",
      "3.00MB [00:07, 897kB/s]                            \n",
      "3.00MB [00:14, 223kB/s]                            \n",
      "3.00MB [00:10, 307kB/s]                            \n",
      "2.88MB [00:10, 459kB/s]                            \n",
      "2.88MB [00:13, 309kB/s]                            \n",
      "2.75MB [00:09, 318kB/s]                            \n"
     ]
    },
    {
     "name": "stdout",
     "output_type": "stream",
     "text": [
      "DES Files:\n",
      "  /Users/argall/data/mms1/fpi/fast/ql/des/2016/10/mms1_fpi_fast_ql_des_20161022100000_v3.1.0.cdf\n",
      "  /Users/argall/data/mms1/fpi/fast/ql/des/2016/10/mms1_fpi_fast_ql_des_20161022120000_v3.1.0.cdf\n",
      "  /Users/argall/data/mms1/fpi/fast/ql/des/2016/10/mms1_fpi_fast_ql_des_20161022140000_v3.1.0.cdf\n",
      "  /Users/argall/data/mms1/fpi/fast/ql/des/2016/10/mms1_fpi_fast_ql_des_20161022160000_v3.1.0.cdf\n",
      "  /Users/argall/data/mms1/fpi/fast/ql/des/2016/10/mms1_fpi_fast_ql_des_20161022180000_v3.1.0.cdf\n",
      "  /Users/argall/data/mms1/fpi/fast/ql/des/2016/10/mms1_fpi_fast_ql_des_20161022200000_v3.1.0.cdf\n",
      "  /Users/argall/data/mms1/fpi/fast/ql/des/2016/10/mms1_fpi_fast_ql_des_20161022220000_v3.1.0.cdf\n"
     ]
    }
   ],
   "source": [
    "# Update instrument-specific variables\n",
    "des_instr = 'fpi'\n",
    "des_mode = 'fast'\n",
    "\n",
    "if level == 'sitl':\n",
    "    des_coords = 'dbcs'\n",
    "    des_level = 'ql'\n",
    "    des_optdesc = 'des'\n",
    "else:\n",
    "    des_coords = 'gse'\n",
    "    des_level = level\n",
    "    des_optdesc = 'des-moms'\n",
    "\n",
    "# Set attributes\n",
    "sdc.instr = des_instr\n",
    "sdc.mode = des_mode\n",
    "sdc.level = des_level\n",
    "sdc.optdesc = des_optdesc\n",
    "\n",
    "# DIS variable names\n",
    "n_vname = '_'.join((sc, 'des', 'numberdensity', des_mode))\n",
    "v_vname = '_'.join((sc, 'des', 'bulkv', des_coords, des_mode))\n",
    "t_para_vname = '_'.join((sc, 'des', 'temppara', des_mode))\n",
    "t_perp_vname = '_'.join((sc, 'des', 'tempperp', des_mode))\n",
    "espec_vname = '_'.join((sc, 'des', 'energyspectr', 'omni', des_mode))\n",
    "pad_low_vname = '_'.join((sc, 'des', 'pitchangdist', 'lowen', des_mode))\n",
    "pad_mid_vname = '_'.join((sc, 'des', 'pitchangdist', 'miden', des_mode))\n",
    "pad_high_vname = '_'.join((sc, 'des', 'pitchangdist', 'highen', des_mode))\n",
    "\n",
    "\n",
    "# Open the file\n",
    "files = sdc.Download()\n",
    "files = mms_utils.sort_files(files)[0]\n",
    "\n",
    "# Read the data\n",
    "des_t = []\n",
    "des_n = []\n",
    "des_v = []\n",
    "des_temp_para = []\n",
    "des_temp_perp = []\n",
    "des_espec = []\n",
    "des_energy = []\n",
    "des_pad_low = []\n",
    "des_pad_mid = []\n",
    "des_pad_high = []\n",
    "des_pa = []\n",
    "print('DES Files:')\n",
    "for file in files:\n",
    "    # Open the file\n",
    "    cdf = pycdf.CDF(file)\n",
    "    \n",
    "    # Read timee and shift to center of interval\n",
    "    #   - There must be a bug in the CDF package because the Epoch_plus_var variables\n",
    "    #     are read as empty but really contain scalar values\n",
    "    t = cdf[cdf[n_vname].attrs['DEPEND_0']][:]\n",
    "#    dt_minus = t.attrs['DELTA_MINUS_VAR']\n",
    "#    dt_plus = t.attrs['DELTA_PLUS_VAR']\n",
    "    dt_minus = 0\n",
    "    dt_plus = 4.5\n",
    "    t += dt.timedelta(seconds=(dt_plus - dt_minus) / 2.0)\n",
    "    \n",
    "    # Read the data\n",
    "    des_t += list(t)\n",
    "    des_n += list(cdf[n_vname][:])\n",
    "    des_v += list(cdf[v_vname][:])\n",
    "    des_temp_para += list(cdf[t_para_vname][:])\n",
    "    des_temp_perp += list(cdf[t_perp_vname][:])\n",
    "    des_espec += list(cdf[espec_vname][:])\n",
    "    des_energy += list(cdf[cdf[espec_vname].attrs['DEPEND_1']][:])\n",
    "    des_pad_low += list(cdf[pad_low_vname][:])\n",
    "    des_pad_mid += list(cdf[pad_mid_vname][:])\n",
    "    des_pad_high += list(cdf[pad_high_vname][:])\n",
    "    des_pa += list(cdf[cdf[pad_low_vname].attrs['DEPEND_1']][:])\n",
    "\n",
    "    # Close the file\n",
    "    cdf.close()\n",
    "    print('  ' + file)\n",
    "\n",
    "# Convert back to numpy arrays\n",
    "des_t = np.array(des_t)\n",
    "des_n = np.array(des_n)\n",
    "des_v = np.array(des_v)\n",
    "des_temp_para = np.array(des_temp_para)\n",
    "des_temp_perp = np.array(des_temp_perp)\n",
    "des_espec = np.array(des_espec)\n",
    "des_energy = np.array(des_energy)\n",
    "des_pad_low = np.array(des_pad_low)\n",
    "des_pad_mid = np.array(des_pad_mid)\n",
    "des_pad_high = np.array(des_pad_high)\n",
    "des_pa = np.array(des_pa)\n",
    "\n",
    "# Compute velocity magnitude\n",
    "des_vmag = np.sqrt(des_v[:,0]**2.0 + des_v[:,1]**2.0 + des_v[:,2]**2.0)\n",
    "\n",
    "# Compute scalar temperature\n",
    "des_temp = 1.0/3.0*(2.0*des_temp_perp + des_temp_para)\n",
    "\n",
    "# Compute pich angle distribution\n",
    "des_pad = (des_pad_low + des_pad_mid + des_pad_high) / 3.0"
   ]
  },
  {
   "cell_type": "markdown",
   "metadata": {},
   "source": [
    "<a id='des_plot'></a>\n",
    "### Plot"
   ]
  },
  {
   "cell_type": "code",
   "execution_count": 29,
   "metadata": {
    "scrolled": true
   },
   "outputs": [
    {
     "data": {
      "image/png": "[encoded data removed]",
      "text/plain": [
       "<matplotlib.figure.Figure at 0x1141bdf98>"
      ]
     },
     "metadata": {},
     "output_type": "display_data"
    }
   ],
   "source": [
    "# Visualize the data\n",
    "fig, ax = plt.subplots(nrows=5, ncols=1, squeeze=False)\n",
    "\n",
    "fig.autofmt_xdate()\n",
    "\n",
    "# Density\n",
    "hn = ax[0,0].plot(des_t, des_n)\n",
    "ax[0,0].set_title('DES Data in GSE Coordinates')\n",
    "ax[0,0].set_ylabel('n\\n($cm^{-3}$)')\n",
    "\n",
    "# Velocity\n",
    "hvx, = ax[1,0].plot(des_t, des_v[:,0], 'b', label='vx')\n",
    "hvy, = ax[1,0].plot(des_t, des_v[:,1], 'g', label='vy')\n",
    "hvz, = ax[1,0].plot(des_t, des_v[:,2], 'r', label='vz')\n",
    "hvz, = ax[1,0].plot(des_t, des_vmag, 'k', label='|v|')\n",
    "ax[1,0].legend(loc='upper right')\n",
    "ax[1,0].set_ylabel('V\\n(km/s)')\n",
    "\n",
    "# Temperature\n",
    "htpara, = ax[2,0].plot(des_t, des_temp_para, 'b', label='$T_{\\parallel}$')\n",
    "htperp, = ax[2,0].plot(des_t, des_temp_perp, 'r', label='$T_{\\perp}$')\n",
    "htperp, = ax[2,0].plot(des_t, des_temp, 'k', label='$T$')\n",
    "ax[2,0].legend(loc='upper right')\n",
    "ax[2,0].set_ylabel('T\\n(eV)')\n",
    "\n",
    "# Energy Spectrogram\n",
    "\n",
    "# Pitch Angle Spectrogram\n",
    "\n",
    "plt.show()"
   ]
  },
  {
   "cell_type": "markdown",
   "metadata": {},
   "source": [
    "<a id='des_dataframe'></a>\n",
    "### Data Frame"
   ]
  },
  {
   "cell_type": "code",
   "execution_count": 39,
   "metadata": {
    "collapsed": true
   },
   "outputs": [],
   "source": [
    "# Create a dictionary\n",
    "des_data = {\n",
    "    'Time' :  des_t,\n",
    "    'N' : des_n,\n",
    "    'Vx' : des_v[:,0],\n",
    "    'Vy' : des_v[:,1],\n",
    "    'Vz' : des_v[:,2],\n",
    "    'Vmag' : des_vmag,\n",
    "    'Tpara' : des_temp_para,\n",
    "    'Tperp' : des_temp_perp,\n",
    "    'T' : des_temp\n",
    "#    'ESpec': dis_espec,\n",
    "#    'Energy': dis_e,\n",
    "#    'PAD': des_pad,\n",
    "#    'PA': des_pa\n",
    "}\n",
    "\n",
    "# Convert dictionary to data from\n",
    "des_data = pd.DataFrame(des_data, columns=des_data.keys())"
   ]
  },
  {
   "cell_type": "markdown",
   "metadata": {},
   "source": [
    "<a id='edi'></a>\n",
    "### EDI"
   ]
  },
  {
   "cell_type": "markdown",
   "metadata": {},
   "source": [
    "<a id='des_download_read'></a>\n",
    "### Download and Read"
   ]
  },
  {
   "cell_type": "code",
   "execution_count": 12,
   "metadata": {},
   "outputs": [
    {
     "name": "stdout",
     "output_type": "stream",
     "text": [
      "EDI Files:\n",
      "  /Users/argall/data/mms/mms1/edi/srvy/ql/amb/2015/12/mms1_edi_srvy_ql_amb_20151206_v0.1.0.cdf\n"
     ]
    }
   ],
   "source": [
    "# Update instrument-specific variables\n",
    "edi_instr = 'edi'\n",
    "edi_mode = 'srvy'\n",
    "edi_optdesc = None   # Get whatever is available\n",
    "\n",
    "if level == 'sitl':\n",
    "    edi_level = 'ql'\n",
    "else:\n",
    "    edi_level = level\n",
    "\n",
    "# Set attributes\n",
    "sdc.instr = edi_instr\n",
    "sdc.mode = edi_mode\n",
    "sdc.level = edi_level\n",
    "sdc.optdesc = edi_optdesc\n",
    "\n",
    "# Figure out which data product is available\n",
    "files = sdc.FileNames()\n",
    "parts = mms_utils.parse_filename(files)\n",
    "edi_optdesc = [p[4] for p in parts]\n",
    "\n",
    "# EDI variable names\n",
    "cts1_0_vname = '_'.join((sc, 'edi', 'counts1', '0'))\n",
    "cts1_180_vname = '_'.join((sc, 'edi', 'counts1', '180'))\n",
    "\n",
    "# Open the file\n",
    "files = sdc.Download()\n",
    "files = mms_utils.sort_files(files)[0]\n",
    "\n",
    "# Read the data\n",
    "edi_t = []\n",
    "edi_cts1_0 = []\n",
    "edi_cts1_180 = []\n",
    "print('EDI Files:')\n",
    "for file in files:\n",
    "    # Open the file\n",
    "    cdf = pycdf.CDF(file)\n",
    "        \n",
    "    # Read the data\n",
    "    edi_t += list(cdf[cdf[cts1_0_vname].attrs['DEPEND_0']][:])\n",
    "    edi_cts1_0 += list(cdf[cts1_0_vname][:])\n",
    "    edi_cts1_180 += list(cdf[cts1_180_vname][:])\n",
    "\n",
    "    # Close the file\n",
    "    cdf.close()\n",
    "    print('  ' + file)\n",
    "\n",
    "# Convert back to numpy arrays\n",
    "edi_t = np.array(edi_t)\n",
    "edi_cts1_0 = np.array(edi_cts1_0)\n",
    "edi_cts1_180 = np.array(edi_cts1_180)"
   ]
  },
  {
   "cell_type": "markdown",
   "metadata": {},
   "source": [
    "<a id='des_plot'></a>\n",
    "### Plot"
   ]
  },
  {
   "cell_type": "code",
   "execution_count": 13,
   "metadata": {
    "scrolled": true
   },
   "outputs": [
    {
     "data": {
      "image/png": "[encoded data removed]",
      "text/plain": [
       "<matplotlib.figure.Figure at 0x105e554a8>"
      ]
     },
     "metadata": {},
     "output_type": "display_data"
    }
   ],
   "source": [
    "# Visualize the data\n",
    "fig, ax = plt.subplots(nrows=2, ncols=1, squeeze=False)\n",
    "\n",
    "fig.autofmt_xdate()\n",
    "\n",
    "# PA=0\n",
    "hn = ax[0,0].plot(edi_t, edi_cts1_0)\n",
    "ax[0,0].set_title('EDI Data')\n",
    "ax[0,0].set_ylabel('Counts')\n",
    "\n",
    "# PA=180\n",
    "hvx, = ax[1,0].plot(edi_t, edi_cts1_0)\n",
    "ax[1,0].set_ylabel('Counts')\n",
    "\n",
    "plt.show()"
   ]
  },
  {
   "cell_type": "code",
   "execution_count": 26,
   "metadata": {},
   "outputs": [
    {
     "name": "stdout",
     "output_type": "stream",
     "text": [
      "dict_keys(['Time', 'cts1_0', 'cts1_180'])\n",
      "(2440448, 1)\n"
     ]
    }
   ],
   "source": [
    "print(edi_data.keys())\n",
    "print(edi_data['cts1_180'].shape)"
   ]
  },
  {
   "cell_type": "markdown",
   "metadata": {},
   "source": [
    "<a id='des_dataframe'></a>\n",
    "### Data Frame"
   ]
  },
  {
   "cell_type": "code",
   "execution_count": 33,
   "metadata": {},
   "outputs": [
    {
     "name": "stdout",
     "output_type": "stream",
     "text": [
      "<class 'dict'>\n",
      "dict_keys(['Time', 'cts1_0', 'cts1_180'])\n",
      "(1, 2440448)\n"
     ]
    },
    {
     "ename": "ValueError",
     "evalue": "If using all scalar values, you must pass an index",
     "output_type": "error",
     "traceback": [
      "\u001b[0;31m---------------------------------------------------------------------------\u001b[0m",
      "\u001b[0;31mValueError\u001b[0m                                Traceback (most recent call last)",
      "\u001b[0;32m<ipython-input-33-8b6dc44410a2>\u001b[0m in \u001b[0;36m<module>\u001b[0;34m()\u001b[0m\n\u001b[1;32m     10\u001b[0m \u001b[0mprint\u001b[0m\u001b[0;34m(\u001b[0m\u001b[0medi_data\u001b[0m\u001b[0;34m.\u001b[0m\u001b[0mkeys\u001b[0m\u001b[0;34m(\u001b[0m\u001b[0;34m)\u001b[0m\u001b[0;34m)\u001b[0m\u001b[0;34m\u001b[0m\u001b[0m\n\u001b[1;32m     11\u001b[0m \u001b[0mprint\u001b[0m\u001b[0;34m(\u001b[0m\u001b[0medi_data\u001b[0m\u001b[0;34m[\u001b[0m\u001b[0;34m'Time'\u001b[0m\u001b[0;34m]\u001b[0m\u001b[0;34m.\u001b[0m\u001b[0mshape\u001b[0m\u001b[0;34m)\u001b[0m\u001b[0;34m\u001b[0m\u001b[0m\n\u001b[0;32m---> 12\u001b[0;31m \u001b[0medi_data\u001b[0m \u001b[0;34m=\u001b[0m \u001b[0mpd\u001b[0m\u001b[0;34m.\u001b[0m\u001b[0mDataFrame\u001b[0m\u001b[0;34m(\u001b[0m\u001b[0medi_data\u001b[0m\u001b[0;34m,\u001b[0m \u001b[0mcolumns\u001b[0m\u001b[0;34m=\u001b[0m\u001b[0medi_data\u001b[0m\u001b[0;34m.\u001b[0m\u001b[0mkeys\u001b[0m\u001b[0;34m(\u001b[0m\u001b[0;34m)\u001b[0m\u001b[0;34m)\u001b[0m\u001b[0;34m\u001b[0m\u001b[0m\n\u001b[0m",
      "\u001b[0;32m~/anaconda3/lib/python3.6/site-packages/pandas/core/frame.py\u001b[0m in \u001b[0;36m__init__\u001b[0;34m(self, data, index, columns, dtype, copy)\u001b[0m\n\u001b[1;32m    273\u001b[0m                                  dtype=dtype, copy=copy)\n\u001b[1;32m    274\u001b[0m         \u001b[0;32melif\u001b[0m \u001b[0misinstance\u001b[0m\u001b[0;34m(\u001b[0m\u001b[0mdata\u001b[0m\u001b[0;34m,\u001b[0m \u001b[0mdict\u001b[0m\u001b[0;34m)\u001b[0m\u001b[0;34m:\u001b[0m\u001b[0;34m\u001b[0m\u001b[0m\n\u001b[0;32m--> 275\u001b[0;31m             \u001b[0mmgr\u001b[0m \u001b[0;34m=\u001b[0m \u001b[0mself\u001b[0m\u001b[0;34m.\u001b[0m\u001b[0m_init_dict\u001b[0m\u001b[0;34m(\u001b[0m\u001b[0mdata\u001b[0m\u001b[0;34m,\u001b[0m \u001b[0mindex\u001b[0m\u001b[0;34m,\u001b[0m \u001b[0mcolumns\u001b[0m\u001b[0;34m,\u001b[0m \u001b[0mdtype\u001b[0m\u001b[0;34m=\u001b[0m\u001b[0mdtype\u001b[0m\u001b[0;34m)\u001b[0m\u001b[0;34m\u001b[0m\u001b[0m\n\u001b[0m\u001b[1;32m    276\u001b[0m         \u001b[0;32melif\u001b[0m \u001b[0misinstance\u001b[0m\u001b[0;34m(\u001b[0m\u001b[0mdata\u001b[0m\u001b[0;34m,\u001b[0m \u001b[0mma\u001b[0m\u001b[0;34m.\u001b[0m\u001b[0mMaskedArray\u001b[0m\u001b[0;34m)\u001b[0m\u001b[0;34m:\u001b[0m\u001b[0;34m\u001b[0m\u001b[0m\n\u001b[1;32m    277\u001b[0m             \u001b[0;32mimport\u001b[0m \u001b[0mnumpy\u001b[0m\u001b[0;34m.\u001b[0m\u001b[0mma\u001b[0m\u001b[0;34m.\u001b[0m\u001b[0mmrecords\u001b[0m \u001b[0;32mas\u001b[0m \u001b[0mmrecords\u001b[0m\u001b[0;34m\u001b[0m\u001b[0m\n",
      "\u001b[0;32m~/anaconda3/lib/python3.6/site-packages/pandas/core/frame.py\u001b[0m in \u001b[0;36m_init_dict\u001b[0;34m(self, data, index, columns, dtype)\u001b[0m\n\u001b[1;32m    367\u001b[0m             \u001b[0;31m# raise ValueError if only scalars in dict\u001b[0m\u001b[0;34m\u001b[0m\u001b[0;34m\u001b[0m\u001b[0m\n\u001b[1;32m    368\u001b[0m             \u001b[0;32mif\u001b[0m \u001b[0mindex\u001b[0m \u001b[0;32mis\u001b[0m \u001b[0;32mNone\u001b[0m\u001b[0;34m:\u001b[0m\u001b[0;34m\u001b[0m\u001b[0m\n\u001b[0;32m--> 369\u001b[0;31m                 \u001b[0mextract_index\u001b[0m\u001b[0;34m(\u001b[0m\u001b[0mlist\u001b[0m\u001b[0;34m(\u001b[0m\u001b[0mdata\u001b[0m\u001b[0;34m.\u001b[0m\u001b[0mvalues\u001b[0m\u001b[0;34m(\u001b[0m\u001b[0;34m)\u001b[0m\u001b[0;34m)\u001b[0m\u001b[0;34m)\u001b[0m\u001b[0;34m\u001b[0m\u001b[0m\n\u001b[0m\u001b[1;32m    370\u001b[0m \u001b[0;34m\u001b[0m\u001b[0m\n\u001b[1;32m    371\u001b[0m             \u001b[0;31m# prefilter if columns passed\u001b[0m\u001b[0;34m\u001b[0m\u001b[0;34m\u001b[0m\u001b[0m\n",
      "\u001b[0;32m~/anaconda3/lib/python3.6/site-packages/pandas/core/frame.py\u001b[0m in \u001b[0;36mextract_index\u001b[0;34m(data)\u001b[0m\n\u001b[1;32m   5533\u001b[0m \u001b[0;34m\u001b[0m\u001b[0m\n\u001b[1;32m   5534\u001b[0m         \u001b[0;32mif\u001b[0m \u001b[0;32mnot\u001b[0m \u001b[0mindexes\u001b[0m \u001b[0;32mand\u001b[0m \u001b[0;32mnot\u001b[0m \u001b[0mraw_lengths\u001b[0m\u001b[0;34m:\u001b[0m\u001b[0;34m\u001b[0m\u001b[0m\n\u001b[0;32m-> 5535\u001b[0;31m             raise ValueError('If using all scalar values, you must pass'\n\u001b[0m\u001b[1;32m   5536\u001b[0m                              ' an index')\n\u001b[1;32m   5537\u001b[0m \u001b[0;34m\u001b[0m\u001b[0m\n",
      "\u001b[0;31mValueError\u001b[0m: If using all scalar values, you must pass an index"
     ]
    }
   ],
   "source": [
    "# Create a dictionary\n",
    "edi_data = {\n",
    "    'Time' : edi_t,\n",
    "    'cts1_0' : edi_cts1_0,\n",
    "    'cts1_180' : edi_cts1_180\n",
    "}\n",
    "\n",
    "# Convert dictionary to data from\n",
    "print(type(edi_data))\n",
    "print(edi_data.keys())\n",
    "print(edi_data['Time'].shape)\n",
    "edi_data = pd.DataFrame(edi_data, columns=edi_data.keys())"
   ]
  },
  {
   "cell_type": "markdown",
   "metadata": {},
   "source": [
    "<a id='interpolate_to_des'></a>\n",
    "## Interpolate All Values to `t_des`\n",
    "In this step, we need to get all variables into the same time basis. We will interpolate data from FGM and DIS onto the time tags of DES."
   ]
  },
  {
   "cell_type": "code",
   "execution_count": null,
   "metadata": {
    "collapsed": true
   },
   "outputs": [],
   "source": [
    "# Convert datetime objects to floats\n",
    "des_t_stamp = [t.timestamp() for t in des_t]\n",
    "fgm_t_stamp = [t.timestamp() for t in fgm_t]\n",
    "dis_t_stamp = [t.timestamp() for t in dis_t]\n",
    "\n",
    "# Interpolate FGM data\n",
    "#   - An Nx4 array, ordered as (Bx, By, Bz, |B|)\n",
    "nTimes = len(des_t_stamp)\n",
    "nComps = np.size(fgm_b, 1)\n",
    "fgm_b_interp = np.zeros([nTimes, nComps], dtype=float)\n",
    "for idx in range(nComps):\n",
    "    fgm_b_interp[:,idx] = np.interp(des_t_stamp, fgm_t_stamp, fgm_b[:,idx])\n",
    "\n",
    "# Interpolate DIS data\n",
    "dis_n_interp = np.interp(des_t_stamp, dis_t_stamp, dis_n)\n",
    "dis_temp_para_interp = np.interp(des_t_stamp, dis_t_stamp, dis_temp_para)\n",
    "dis_temp_perp_interp = np.interp(des_t_stamp, dis_t_stamp, dis_temp_perp)\n",
    "\n",
    "# An Nx3 array, ordered as (Vx, Vy, Vz)\n",
    "nComps = np.size(dis_v, 1)\n",
    "dis_v_interp = np.zeros([nTimes, nComps])\n",
    "for idx in range(nComps):\n",
    "    dis_v_interp[:,idx] = np.interp(des_t_stamp, dis_t_stamp, dis_v[:,idx])\n",
    "\n",
    "# Print results\n",
    "print('Time:                   ', np.shape(des_t), des_t.dtype)\n",
    "print('DES Density:            ', np.shape(des_n), des_n.dtype)\n",
    "print('DES Velocity:           ', np.shape(des_v), des_v.dtype)\n",
    "print('DES Temperature (para): ', np.shape(des_temp_para), des_temp_para.dtype)\n",
    "print('DES Temperature (perp): ', np.shape(des_temp_perp), des_temp_perp.dtype)\n",
    "print('FGM Magnetic Field:     ', np.shape(fgm_b_interp), fgm_b_interp.dtype)\n",
    "print('DIS Density:            ', np.shape(dis_n_interp), dis_n_interp.dtype)\n",
    "print('DIS Velocity:           ', np.shape(dis_v_interp), dis_v_interp.dtype)\n",
    "print('DIS Temperature (para): ', np.shape(dis_temp_para_interp), dis_temp_para_interp.dtype)\n",
    "print('DIS Temperature (perp): ', np.shape(dis_temp_perp_interp), dis_temp_perp_interp.dtype)"
   ]
  },
  {
   "cell_type": "code",
   "execution_count": null,
   "metadata": {
    "collapsed": true,
    "scrolled": true
   },
   "outputs": [],
   "source": [
    "# Visualize the data\n",
    "fig, ax = plt.subplots(nrows=6, ncols=1, squeeze=False)\n",
    "\n",
    "fig.autofmt_xdate()\n",
    "\n",
    "# Magnetic field\n",
    "hn = ax[0,0].plot(des_t, fgm_b_interp)\n",
    "ax[0,0].legend(labels=['Bx', 'By', 'Bz', '|B|'])\n",
    "ax[0,0].set_title(sc + ' Data')\n",
    "ax[0,0].set_ylabel('B\\n(nT)')\n",
    "\n",
    "# Density\n",
    "hni, = ax[1,0].plot(des_t, dis_n_interp, label='ni')\n",
    "hne, = ax[1,0].plot(des_t, des_n, label='ne')\n",
    "ax[1,0].legend()\n",
    "ax[1,0].set_ylabel('n\\n($cm^{-3}$)')\n",
    "\n",
    "# DIS Velocity\n",
    "ax[2,0].plot(des_t, dis_v_interp)\n",
    "ax[2,0].legend(labels=['Vx', 'Vy', 'Vz'])\n",
    "ax[2,0].set_ylabel('Vi\\n(km/s)')\n",
    "\n",
    "# DES Velocity\n",
    "hvx = ax[3,0].plot(des_t, des_v)\n",
    "ax[3,0].legend(labels=['Vx', 'Vy', 'Vz'])\n",
    "ax[3,0].set_ylabel('Ve\\n(km/s)')\n",
    "\n",
    "# DIS Temperature\n",
    "htpara, = ax[4,0].plot(des_t, dis_temp_para_interp, 'b', label='$T_{\\parallel}$')\n",
    "htperp, = ax[4,0].plot(des_t, dis_temp_perp_interp, 'r', label='$T_{\\perp}$')\n",
    "ax[4,0].legend(loc='upper right')\n",
    "ax[4,0].set_ylabel('Ti\\n(eV)')\n",
    "\n",
    "# DES Temperature\n",
    "htpara, = ax[5,0].plot(des_t, des_temp_para, 'b', label='$T_{\\parallel}$')\n",
    "htperp, = ax[5,0].plot(des_t, des_temp_perp, 'r', label='$T_{\\perp}$')\n",
    "ax[5,0].legend(loc='upper right')\n",
    "ax[5,0].set_ylabel('Te\\n(eV)')\n",
    "\n",
    "plt.show()"
   ]
  },
  {
   "cell_type": "markdown",
   "metadata": {},
   "source": [
    "<a id='wrie_to_csv'></a>\n",
    "## Write to CSV File\n",
    "To create a CSV file, we will make use of the `pandas` package. First, we make a data frame and use `pandas` to visualize the data."
   ]
  },
  {
   "cell_type": "code",
   "execution_count": null,
   "metadata": {
    "collapsed": true
   },
   "outputs": [],
   "source": [
    "# Open file and write data\n",
    "data = {\n",
    "    'Time'   :  des_t,\n",
    "    'DES N'  : des_n,\n",
    "    'DES Vx' : des_v[:,0],\n",
    "    'DES Vy' : des_v[:,1],\n",
    "    'DES Vz' : des_v[:,2],\n",
    "    'DES T_para' : des_temp_para,\n",
    "    'DES T_perp' : des_temp_perp,\n",
    "    'FGM Bx' : fgm_b_interp[:,0],\n",
    "    'FGM By' : fgm_b_interp[:,1],\n",
    "    'FGM Bz' : fgm_b_interp[:,2],\n",
    "    'FGM Bt' : fgm_b_interp[:,3],\n",
    "    'DIS N'  : dis_n_interp,\n",
    "    'DIS Vx' : dis_v_interp[:,0],\n",
    "    'DIS Vy' : dis_v_interp[:,1],\n",
    "    'DIS Vz' : dis_v_interp[:,2],\n",
    "    'DIS T_para' : dis_temp_para_interp,\n",
    "    'DIS T_perp' : dis_temp_perp_interp,\n",
    "}\n",
    "\n",
    "# Create a data frame\n",
    "data = pd.DataFrame(data, columns=data.keys())"
   ]
  },
  {
   "cell_type": "code",
   "execution_count": null,
   "metadata": {
    "collapsed": true
   },
   "outputs": [],
   "source": [
    "# Visualize the data\n",
    "fig, ax = plt.subplots(nrows=6, ncols=1, squeeze=False)\n",
    "\n",
    "fig.autofmt_xdate()\n",
    "\n",
    "# Magnetic field\n",
    "data.plot('Time', 'FGM Bx', ax=ax[0,0], sharex=True)\n",
    "data.plot('Time', 'FGM By', ax=ax[0,0], sharex=True)\n",
    "data.plot('Time', 'FGM Bz', ax=ax[0,0], sharex=True)\n",
    "data.plot('Time', 'FGM Bt', ax=ax[0,0], sharex=True)\n",
    "ax[0,0].set_ylabel('B\\n(nT)')\n",
    "\n",
    "# Density\n",
    "data.plot('Time', 'DIS N', ax=ax[1,0], sharex=True)\n",
    "data.plot('Time', 'DES N', ax=ax[1,0], sharex=True)\n",
    "ax[1,0].set_ylabel('N\\n($cm^{-3}$)')\n",
    "\n",
    "# DIS Velocity\n",
    "data.plot('Time', 'DIS Vx', ax=ax[2,0], sharex=True)\n",
    "data.plot('Time', 'DIS Vy', ax=ax[2,0], sharex=True)\n",
    "data.plot('Time', 'DIS Vz', ax=ax[2,0], sharex=True)\n",
    "ax[2,0].set_ylabel('Vi\\n(km/s)')\n",
    "\n",
    "# DES Velocity\n",
    "data.plot('Time', 'DES Vx', ax=ax[3,0], sharex=True)\n",
    "data.plot('Time', 'DES Vy', ax=ax[3,0], sharex=True)\n",
    "data.plot('Time', 'DES Vz', ax=ax[3,0], sharex=True)\n",
    "ax[3,0].set_ylabel('Ve\\n(km/s)')\n",
    "\n",
    "# DIS Temperature\n",
    "data.plot('Time', 'DIS T_para', ax=ax[4,0], sharex=True)\n",
    "data.plot('Time', 'DIS T_perp', ax=ax[4,0], sharex=True)\n",
    "ax[4,0].set_ylabel('Ti\\n(K)')\n",
    "\n",
    "# DES Temperature\n",
    "data.plot('Time', 'DES T_para', ax=ax[5,0], sharex=True)\n",
    "data.plot('Time', 'DES T_perp', ax=ax[5,0], sharex=True)\n",
    "ax[5,0].set_ylabel('Te\\n(K)')\n",
    "\n",
    "plt.show()"
   ]
  },
  {
   "cell_type": "markdown",
   "metadata": {},
   "source": [
    "Finally, we output to a CSV file."
   ]
  },
  {
   "cell_type": "code",
   "execution_count": null,
   "metadata": {
    "collapsed": true
   },
   "outputs": [],
   "source": [
    "data.to_csv(\"~/data/output.csv\", index=False)"
   ]
  },
  {
   "cell_type": "markdown",
   "metadata": {},
   "source": [
    "<a id='sitl_selections'></a>\n",
    "## SITL Selections\n",
    "The actual selections that the SITL made are saved in separate CSV files accessed through the UNH [MMS data server](http://mmssitl.sr.unh.edu/sitl/)."
   ]
  }
 ],
 "metadata": {
  "kernelspec": {
   "display_name": "Python 3",
   "language": "python",
   "name": "python3"
  },
  "language_info": {
   "codemirror_mode": {
    "name": "ipython",
    "version": 3
   },
   "file_extension": ".py",
   "mimetype": "text/x-python",
   "name": "python",
   "nbconvert_exporter": "python",
   "pygments_lexer": "ipython3",
   "version": "3.6.3"
  }
 },
 "nbformat": 4,
 "nbformat_minor": 2
}
