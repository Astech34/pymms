{
 "cells": [
  {
   "cell_type": "markdown",
   "metadata": {},
   "source": [
    "# Log-In to the SDC\n",
    "This notebook will walk through learning how to log-in to the [MMS Science Data Center](https://lasp.colorado.edu/mms/sdc/public/) using components of its [API](https://lasp.colorado.edu/mms/sdc/public/about/how-to/)."
   ]
  },
  {
   "cell_type": "markdown",
   "metadata": {},
   "source": [
    "## Attempting to get data\n",
    "Here, we will try to download the MMS trigger data numbers (TDNs), which are an L1A data product. Access is restricteed to MMS team members and, hence, log-in is required. We first start by setting up the MMS_SDC_API class to attemp a download of FIELDS TDNs."
   ]
  },
  {
   "cell_type": "code",
   "execution_count": 218,
   "metadata": {},
   "outputs": [],
   "source": [
    "import requests\n",
    "import urllib3\n",
    "\n",
    "# Disable warnings (we are not using certificates)\n",
    "urllib3.disable_warnings(urllib3.exceptions.InsecureRequestWarning)\n",
    "\n",
    "# Log-In Credentials\n",
    "username = ''\n",
    "password = ''\n",
    "if (username == '') | (password == ''):\n",
    "    ValueError('Must provide username and password.')"
   ]
  },
  {
   "cell_type": "markdown",
   "metadata": {},
   "source": [
    "### Initial Attempt\n",
    "We start by attempting to access the team-side of the SDC. This redirects us to a log-in page. To figure out what is going on, we will set `verify=False` because we do not have a verifcation certificate, and set `allow_redirects=False` in order to catch the redirect page."
   ]
  },
  {
   "cell_type": "code",
   "execution_count": 202,
   "metadata": {},
   "outputs": [
    {
     "name": "stdout",
     "output_type": "stream",
     "text": [
      "URL:            https://lasp.colorado.edu/mms/sdc/team/\n",
      "Status Code:    302\n",
      "Cookies:        {}\n",
      "Headers:\n",
      "\t Date: Fri, 13 Apr 2018 20:27:28 GMT\n",
      "\t Expires: Wed, 01 Jan 1997 12:00:00 GMT\n",
      "\t Cache-Control: private,no-store,no-cache,max-age=0\n",
      "\t Location: https://lasp-login.colorado.edu/idp/profile/SAML2/Redirect/SSO?SAMLRequest=fZLLbsIwEEV%2FJfI%2BcXB41SKRKCyKRAsitItuKicewJJjpx6nr69veFWgSqx9fe7M0YxQVLrm48bvzAreG0AffFXaID88pKRxhluBCrkRFSD3Jc%2FHj3POopjXznpbWk2CMSI4r6yZWINNBS4H96FKeF7NU7LzvkZOqRZYR23cOiFtBLKh%2BU4VhdXgdxGipXswo8tFvibBtJ1EGbFnXhNCbbfKXHOUrGk7zEZpOEFWIJWD0tM8X5BgNk3J212%2F6PU2ciPjpCcT2e3fJYIlgyGLYcDKftzGEBuYGfTC%2BJSwuDMM427YSdYs5mzA2fCVBMvTzvfKSGW2twUVxxDyh%2FV6GR4XewGHh6XaAMlGe838UOwuxN%2FGirNtkp3NyOonxNYmi%2F5bxj%2FLI3pRd%2Byu%2BVPLn02XVqvyOxhrbT8nDoSHlHQIzY5fri8k%2BwU%3D&RelayState=ss%3Amem%3A89d91c6d33d79551a7c0b8328ebb678e7f548ac30994472aba2db4ff8f319275\n",
      "\t Content-Length: 903\n",
      "\t Content-Type: text/html; charset=iso-8859-1\n"
     ]
    }
   ],
   "source": [
    "# Attempt to access the site\n",
    "url0 = 'https://lasp.colorado.edu/mms/sdc/team/'\n",
    "r = requests.get(url0, verify=0, allow_redirects=False)\n",
    "print('URL:           ', url0)\n",
    "print('Status Code:   ', r.status_code)\n",
    "print('Cookies:       ', r.cookies.get_dict())\n",
    "print('Headers:')\n",
    "for key in r.headers:\n",
    "    print('\\t', key+':', r.headers[key])\n",
    "\n",
    "# Store the re-direct information\n",
    "url1 = r.headers['Location']"
   ]
  },
  {
   "cell_type": "markdown",
   "metadata": {},
   "source": [
    "### Redirect #1\n",
    "Now we will post to the next redirect page. This time we are given cookies that we must hold onto."
   ]
  },
  {
   "cell_type": "code",
   "execution_count": 203,
   "metadata": {},
   "outputs": [
    {
     "name": "stdout",
     "output_type": "stream",
     "text": [
      "URL:            https://lasp-login.colorado.edu/idp/profile/SAML2/Redirect/SSO?SAMLRequest=fZLLbsIwEEV%2FJfI%2BcXB41SKRKCyKRAsitItuKicewJJjpx6nr69veFWgSqx9fe7M0YxQVLrm48bvzAreG0AffFXaID88pKRxhluBCrkRFSD3Jc%2FHj3POopjXznpbWk2CMSI4r6yZWINNBS4H96FKeF7NU7LzvkZOqRZYR23cOiFtBLKh%2BU4VhdXgdxGipXswo8tFvibBtJ1EGbFnXhNCbbfKXHOUrGk7zEZpOEFWIJWD0tM8X5BgNk3J212%2F6PU2ciPjpCcT2e3fJYIlgyGLYcDKftzGEBuYGfTC%2BJSwuDMM427YSdYs5mzA2fCVBMvTzvfKSGW2twUVxxDyh%2FV6GR4XewGHh6XaAMlGe838UOwuxN%2FGirNtkp3NyOonxNYmi%2F5bxj%2FLI3pRd%2Byu%2BVPLn02XVqvyOxhrbT8nDoSHlHQIzY5fri8k%2BwU%3D&RelayState=ss%3Amem%3A89d91c6d33d79551a7c0b8328ebb678e7f548ac30994472aba2db4ff8f319275\n",
      "Status Code:    302\n",
      "Cookies:        {'JSESSIONID': '78DC188BE4EF1F0FBA0478FFEA8DBE98', '_idp_authn_lc_key': '2e0bf353-4a49-4634-9659-dd61197f02b5'}\n",
      "Headers:\n",
      "\t Date: Fri, 13 Apr 2018 20:27:28 GMT\n",
      "\t Set-Cookie: JSESSIONID=78DC188BE4EF1F0FBA0478FFEA8DBE98; Path=/idp; Secure, _idp_authn_lc_key=2e0bf353-4a49-4634-9659-dd61197f02b5; Version=1; Path=/idp; Secure\n",
      "\t Expires: 0\n",
      "\t Cache-Control: no-cache, no-store, must-revalidate, max-age=0\n",
      "\t Pragma: no-cache\n",
      "\t Location: https://lasp-login.colorado.edu:443/idp/AuthnEngine\n",
      "\t Content-Length: 0\n",
      "\t Connection: close\n",
      "\t Content-Type: text/plain; charset=UTF-8\n"
     ]
    }
   ],
   "source": [
    "# Attempt to access the next page\n",
    "r = requests.get(url1, verify=False, allow_redirects=False)\n",
    "print('URL:           ', url1)\n",
    "print('Status Code:   ', r.status_code)\n",
    "print('Cookies:       ', r.cookies.get_dict())\n",
    "print('Headers:')\n",
    "for key in r.headers:\n",
    "    print('\\t', key+':', r.headers[key])\n",
    "\n",
    "# Save cookies and redirect\n",
    "url2 = r.headers['Location']\n",
    "cookies1 = r.cookies"
   ]
  },
  {
   "cell_type": "markdown",
   "metadata": {},
   "source": [
    "### Redirect #2\n",
    "Follow the redirected, poviding the cookies from the last page. Without the cookies, we are redirected to an error page saying that cookies are required to access the site."
   ]
  },
  {
   "cell_type": "code",
   "execution_count": 204,
   "metadata": {},
   "outputs": [
    {
     "name": "stdout",
     "output_type": "stream",
     "text": [
      "URL:            https://lasp-login.colorado.edu:443/idp/AuthnEngine\n",
      "Status Code:    302\n",
      "Cookies:        {}\n",
      "Headers:\n",
      "\t Date: Fri, 13 Apr 2018 20:27:28 GMT\n",
      "\t Expires: 0\n",
      "\t Cache-Control: no-cache, no-store, must-revalidate, max-age=0\n",
      "\t Pragma: no-cache\n",
      "\t Location: https://lasp-login.colorado.edu:443/idp/Authn/UserPassword\n",
      "\t Content-Length: 0\n",
      "\t Connection: close\n",
      "\t Content-Type: text/plain; charset=UTF-8\n"
     ]
    }
   ],
   "source": [
    "# Attempt to access the site\n",
    "r = requests.get(url2, verify=False, allow_redirects=False, cookies=cookies1)\n",
    "print('URL:           ', url2)\n",
    "print('Status Code:   ', r.status_code)\n",
    "print('Cookies:       ', r.cookies.get_dict())\n",
    "print('Headers:')\n",
    "for key in r.headers:\n",
    "    print('\\t', key+':', r.headers[key])\n",
    "\n",
    "# Store redirect information\n",
    "url3 = r.headers['Location']"
   ]
  },
  {
   "cell_type": "markdown",
   "metadata": {},
   "source": [
    "### Redirect #3\n",
    "Again, follow the redirect."
   ]
  },
  {
   "cell_type": "code",
   "execution_count": 205,
   "metadata": {},
   "outputs": [
    {
     "name": "stdout",
     "output_type": "stream",
     "text": [
      "URL:          https://lasp-login.colorado.edu:443/idp/Authn/UserPassword\n",
      "Status Code:  200\n",
      "Cookies:      <RequestsCookieJar[]>\n",
      "Headers:\n",
      "\t Date: Fri, 13 Apr 2018 20:27:29 GMT\n",
      "\t Expires: 0\n",
      "\t Cache-Control: no-cache, no-store, must-revalidate, max-age=0\n",
      "\t Pragma: no-cache\n",
      "\t Content-Type: text/html; charset=UTF-8\n",
      "\t Content-Length: 1820\n",
      "\t Connection: close\n",
      "Text: \n",
      "<html>\n",
      "  <head>\n",
      "    <title>LASP Login</title>\n",
      "    <link rel=\"stylesheet\" type=\"text/css\" href=\"/idp/login.css\"/>\n",
      "  </head>\n",
      "\n",
      "<body>\n",
      "  <div id=\"container\">\n",
      "    <a href=\"http://lasp.colorado.edu/\"><img src=\"/idp/images/logo.jpg\" alt=\"LASP\"/></a>\n",
      "    <div class=\"loginbox\">\n",
      "       <h1>Sign In</h1>\n",
      "       <div class=\"leftpane\">\n",
      "           \n",
      "           \n",
      "             <form action=\"/idp/Authn/UserPassword\" method=\"post\">\n",
      "           \n",
      "           <table>\n",
      "             <tr><td width=\"40%\"><label for=\"username\">Username:</label></td><td><input name=\"j_username\" type=\"text\" id=\"username\" autocapitalize=\"off\" /></td></tr>\n",
      "             <tr><td><label for=\"password\">Password:</label></td><td><input name=\"j_password\" type=\"password\" id=\"password\" /></td></tr>\n",
      "             <tr><td></td><td><button type=\"submit\" value=\"Login\">Login</button></td></tr>\n",
      "             <tr><td colspan=\"2\"><hr /></td></tr>\n",
      "             <tr><td colspan=\"2\" class=\"small\">Forgot Password? <a href=\"https://lasp-login.colorado.edu/pwm/public/ForgottenPassword\">Reset Password</a></td></tr>\n",
      "           </table></form>\n",
      "       </div>\n",
      "\n",
      "      <p class=\"disclaimer\">\n",
      "        This site is intended for the sole use of LASP Authorized users. Use of this site is subject to the Legal Notices,\n",
      "        Terms for Use and Privacy Statement located on this site. Use of the site by customers and partners, if authorized,\n",
      "        is also subject to the terms of your contract(s) with LASP. \n",
      "      </p>\n",
      "    </div><!-- loginbox -->\n",
      "    <p class=\"copyright\">\n",
      "         Laboratory&nbsp;for&nbsp;Atmospheric&nbsp;and&nbsp;Space&nbsp;Physics &middot;\n",
      "         1234 Innovation Drive, Boulder, CO  80303-7814, 303-492-6412 &middot;\n",
      "         &copy;&nbsp;2013&nbsp;Regents&nbsp;of&nbsp;the&nbsp;University&nbsp;of&nbsp;Colorado\n",
      "    </p>\n",
      "  </div><!-- container -->\n",
      "</body>\n",
      "</html>\n",
      "\n"
     ]
    }
   ],
   "source": [
    "# Access the page\n",
    "r = requests.get(url3, verify=False, allow_redirects=False, cookies=cookies1)\n",
    "print('URL:         ', url3)\n",
    "print('Status Code: ', r.status_code)\n",
    "print('Cookies:     ', r.cookies)\n",
    "print('Headers:')\n",
    "for key in r.headers:\n",
    "    print('\\t', key+':', r.headers[key])\n",
    "print('Text:', r.text)"
   ]
  },
  {
   "cell_type": "markdown",
   "metadata": {},
   "source": [
    "### Send Log-In Credentials\n",
    "This time we get a status code of 200, meaning everything is ok. Reading through the text of the webpage, it looks like our username and password have to be submitted in association with the keys `'j_username'` and `'j_password'`. Let's try to post them. "
   ]
  },
  {
   "cell_type": "code",
   "execution_count": 206,
   "metadata": {},
   "outputs": [
    {
     "name": "stdout",
     "output_type": "stream",
     "text": [
      "URL:          https://lasp-login.colorado.edu:443/idp/Authn/UserPassword\n",
      "Status Code:  302\n",
      "Cookies:      {'_idp_session': 'MTMyLjE3Ny4yNDQuNjY%3D%7COGI5MjMyMTg1MTY4M2RlMTMxOGI3YzUxMjQ5ZjcwY2Q1YjIwYWJlOWYwMGQ4ZTk0Yzk1ZGZlOWIxODk4NTgwMg%3D%3D%7CoddsDjccAJEBZn2%2FdqZlZJrIfSo%3D'}\n",
      "Headers:\n",
      "\t Date: Fri, 13 Apr 2018 20:27:29 GMT\n",
      "\t Expires: 0\n",
      "\t Cache-Control: no-cache, no-store, must-revalidate, max-age=0\n",
      "\t Pragma: no-cache\n",
      "\t Set-Cookie: _idp_session=MTMyLjE3Ny4yNDQuNjY%3D%7COGI5MjMyMTg1MTY4M2RlMTMxOGI3YzUxMjQ5ZjcwY2Q1YjIwYWJlOWYwMGQ4ZTk0Yzk1ZGZlOWIxODk4NTgwMg%3D%3D%7CoddsDjccAJEBZn2%2FdqZlZJrIfSo%3D; Version=1; Path=/idp; Secure\n",
      "\t Location: https://lasp-login.colorado.edu:443/idp/profile/SAML2/Redirect/SSO\n",
      "\t Content-Length: 0\n",
      "\t Connection: close\n",
      "\t Content-Type: text/plain; charset=UTF-8\n"
     ]
    }
   ],
   "source": [
    "# Send login credentials\n",
    "payload = {'j_username': username, 'j_password': password}\n",
    "r = requests.post(url3, verify=False, allow_redirects=False, cookies=cookies1, data=payload)\n",
    "print('URL:         ', url3)\n",
    "print('Status Code: ', r.status_code)\n",
    "print('Cookies:     ', r.cookies.get_dict())\n",
    "print('Headers:')\n",
    "for key in r.headers:\n",
    "    print('\\t', key+':', r.headers[key])\n",
    "\n",
    "# Update cookies\n",
    "cookies2 = r.cookies\n",
    "all_cookies = cookies1\n",
    "all_cookies.update(cookies2)\n",
    "\n",
    "# Next redirect\n",
    "url4 = r.headers['Location']"
   ]
  },
  {
   "cell_type": "markdown",
   "metadata": {},
   "source": [
    "### Verify Log-In Status"
   ]
  },
  {
   "cell_type": "code",
   "execution_count": 207,
   "metadata": {},
   "outputs": [
    {
     "name": "stdout",
     "output_type": "stream",
     "text": [
      "URL:          https://lasp-login.colorado.edu:443/idp/profile/SAML2/Redirect/SSO\n",
      "Status Code:  200\n",
      "Cookies:      {}\n",
      "Headers:\n",
      "\t Date: Fri, 13 Apr 2018 20:27:30 GMT\n",
      "\t Expires: 0\n",
      "\t Cache-Control: no-cache, no-store\n",
      "\t Pragma: no-cache\n",
      "\t Set-Cookie: _idp_authn_lc_key=2e0bf353-4a49-4634-9659-dd61197f02b5; Version=1; Max-Age=0; Expires=Thu, 01-Jan-1970 00:00:10 GMT; Path=/idp\n",
      "\t Content-Type: text/html;charset=UTF-8\n",
      "\t Connection: close\n",
      "\t Transfer-Encoding: chunked\n",
      "Text: \n",
      "<html xmlns=\"http://www.w3.org/1999/xhtml\" xml:lang=\"en\">\n",
      "\n",
      "    <body onload=\"document.forms[0].submit()\">\n",
      "        <noscript>\n",
      "            <p>\n",
      "                <strong>Note:</strong> Since your browser does not support JavaScript,\n",
      "                you must press the Continue button once to proceed.\n",
      "            </p>\n",
      "        </noscript>\n",
      "        \n",
      "        <form action=\"https&#x3a;&#x2f;&#x2f;lasp.colorado.edu&#x2f;Shibboleth.sso&#x2f;SAML2&#x2f;POST\" method=\"post\">\n",
      "            <div>\n",
      "                <input type=\"hidden\" name=\"RelayState\" value=\"ss&#x3a;mem&#x3a;89d91c6d33d79551a7c0b8328ebb678e7f548ac30994472aba2db4ff8f319275\"/>                \n",
      "                                \n",
      "                <input type=\"hidden\" name=\"SAMLResponse\" value=\"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\"/>                \n",
      "            </div>\n",
      "            <noscript>\n",
      "                <div>\n",
      "                    <input type=\"submit\" value=\"Continue\"/>\n",
      "                </div>\n",
      "            </noscript>\n",
      "        </form>\n",
      "        \n",
      "    </body>\n",
      "</html>\n"
     ]
    }
   ],
   "source": [
    "# Check page again, now with log-in cookies\n",
    "r = requests.get(url4, verify=False, allow_redirects=False, cookies=all_cookies)\n",
    "print('URL:         ', url4)\n",
    "print('Status Code: ', r.status_code)\n",
    "print('Cookies:     ', r.cookies.get_dict())\n",
    "print('Headers:')\n",
    "for key in r.headers:\n",
    "    print('\\t', key+':', r.headers[key])\n",
    "print('Text:', r.text)"
   ]
  },
  {
   "cell_type": "markdown",
   "metadata": {},
   "source": [
    "### Parse Form\n",
    "Now we have to read the form and click the \"Continue\" button. To do so find the form addres, then search for the input key-value pairs."
   ]
  },
  {
   "cell_type": "code",
   "execution_count": 208,
   "metadata": {},
   "outputs": [
    {
     "name": "stdout",
     "output_type": "stream",
     "text": [
      "URL: https://lasp.colorado.edu/Shibboleth.sso/SAML2/POST\n",
      "Form:  {'RelayState': 'ss:mem:89d91c6d33d79551a7c0b8328ebb678e7f548ac30994472aba2db4ff8f319275', 'SAMLResponse': 'PD94bWwgdmVyc2lvbj0iMS4wIiBlbmNvZGluZz0iVVRGLTgiPz48c2FtbDJwOlJlc3BvbnNlIHhtbG5zOnNhbWwycD0idXJuOm9hc2lzOm5hbWVzOnRjOlNBTUw6Mi4wOnByb3RvY29sIiBEZXN0aW5hdGlvbj0iaHR0cHM6Ly9sYXNwLmNvbG9yYWRvLmVkdS9TaGliYm9sZXRoLnNzby9TQU1MMi9QT1NUIiBJRD0iXzYxMmJiMDVhYzIyZmQxMDZjNWE4MTA4NmQxYzU5ODk5IiBJblJlc3BvbnNlVG89Il85NmI1NWZkZmQwMzVkM2Q0NjkzYTIzNzgyMGU3MmM2MCIgSXNzdWVJbnN0YW50PSIyMDE4LTA0LTEzVDIwOjI3OjMwLjE3NloiIFZlcnNpb249IjIuMCI+PHNhbWwyOklzc3VlciB4bWxuczpzYW1sMj0idXJuOm9hc2lzOm5hbWVzOnRjOlNBTUw6Mi4wOmFzc2VydGlvbiIgRm9ybWF0PSJ1cm46b2FzaXM6bmFtZXM6dGM6U0FNTDoyLjA6bmFtZWlkLWZvcm1hdDplbnRpdHkiPmh0dHBzOi8vbGFzcC1sb2dpbi5jb2xvcmFkby5lZHUvaWRwL3NoaWJib2xldGg8L3NhbWwyOklzc3Vlcj48c2FtbDJwOlN0YXR1cz48c2FtbDJwOlN0YXR1c0NvZGUgVmFsdWU9InVybjpvYXNpczpuYW1lczp0YzpTQU1MOjIuMDpzdGF0dXM6U3VjY2VzcyIvPjwvc2FtbDJwOlN0YXR1cz48c2FtbDI6RW5jcnlwdGVkQXNzZXJ0aW9uIHhtbG5zOnNhbWwyPSJ1cm46b2FzaXM6bmFtZXM6dGM6U0FNTDoyLjA6YXNzZXJ0aW9uIj48eGVuYzpFbmNyeXB0ZWREYXRhIHhtbG5zOnhlbmM9Imh0dHA6Ly93d3cudzMub3JnLzIwMDEvMDQveG1sZW5jIyIgSWQ9Il85NDkzZWI0YWVhYTBlNTUwZGE1OTA4YzcyMzJhODZiZCIgVHlwZT0iaHR0cDovL3d3dy53My5vcmcvMjAwMS8wNC94bWxlbmMjRWxlbWVudCI+PHhlbmM6RW5jcnlwdGlvbk1ldGhvZCBBbGdvcml0aG09Imh0dHA6Ly93d3cudzMub3JnLzIwMDEvMDQveG1sZW5jI2FlczEyOC1jYmMiIHhtbG5zOnhlbmM9Imh0dHA6Ly93d3cudzMub3JnLzIwMDEvMDQveG1sZW5jIyIvPjxkczpLZXlJbmZvIHhtbG5zOmRzPSJodHRwOi8vd3d3LnczLm9yZy8yMDAwLzA5L3htbGRzaWcjIj48eGVuYzpFbmNyeXB0ZWRLZXkgSWQ9Il82MjQ4Zjc3NTJmMDlkZmJjYTk3NWU4MjYwZDJkZDE4YyIgeG1sbnM6eGVuYz0iaHR0cDovL3d3dy53My5vcmcvMjAwMS8wNC94bWxlbmMjIj48eGVuYzpFbmNyeXB0aW9uTWV0aG9kIEFsZ29yaXRobT0iaHR0cDovL3d3dy53My5vcmcvMjAwMS8wNC94bWxlbmMjcnNhLW9hZXAtbWdmMXAiIHhtbG5zOnhlbmM9Imh0dHA6Ly93d3cudzMub3JnLzIwMDEvMDQveG1sZW5jIyI+PGRzOkRpZ2VzdE1ldGhvZCBBbGdvcml0aG09Imh0dHA6Ly93d3cudzMub3JnLzIwMDAvMDkveG1sZHNpZyNzaGExIiB4bWxuczpkcz0iaHR0cDovL3d3dy53My5vcmcvMjAwMC8wOS94bWxkc2lnIyIvPjwveGVuYzpFbmNyeXB0aW9uTWV0aG9kPjxkczpLZXlJbmZvPjxkczpYNTA5RGF0YT48ZHM6WDUwOUNlcnRpZmljYXRlPk1JSUVEakNDQXZHZ0F3SUJBZ0lKQUp6ZWMvV1B5SDhyTUEwR0NTcUdTSWIzRFFFQkJRVUFNRll4Q3pBSkJnTlZCQVlUQWxWVE1SRXcKRHdZRFZRUUlEQWhEYjJ4dmNtRmtiekVRTUE0R0ExVUVCd3dIUW05MWJHUmxjakVUTUJFR0ExVUVDZ3dLUTFVZ1FtOTFiR1JsY2pFTgpNQXNHQTFVRUN3d0VURUZUVURBZUZ3MHhOVEExTURZeU1UUXdNRGRhRncwME5UQTBNamd5TVRRd01EZGFNRll4Q3pBSkJnTlZCQVlUCkFsVlRNUkV3RHdZRFZRUUlEQWhEYjJ4dmNtRmtiekVRTUE0R0ExVUVCd3dIUW05MWJHUmxjakVUTUJFR0ExVUVDZ3dLUTFVZ1FtOTEKYkdSbGNqRU5NQXNHQTFVRUN3d0VURUZUVURDQ0FTWXdEUVlKS29aSWh2Y05BUUVCQlFBRGdnRVRBRENDQVE0Q2dnRUZDaEZ2eW9pcQpCSGE1Yy9PYWNacStzTUZHU3ljRXY2bWhLdDhCOHIwWHFvVEJSaVZRWmNJRkkwRHl1OXFmaUdlV29FRTc1RVNnY01FK3h1L1h4VnUvCk5IdjYrTXBuV3B1SDU0YmprZ0QzZWJsemc3T251aDg4SThkMmRPWEdzNFVsQXR1WFRXNmIwZzdraUhFRnhmemNQaDU0a0lZQ2hISHcKNXp6ZWxGbUpPZHRMVy90TWJLbmdGSWkzQStqMUhZNEZ5bldhRFNBb2ptVVUvcStzMEE5UXFwTjE3QXg5MEFROE1mMHkvK1k5THJ0RwpWNVB6d3dlMkJmdzZ2WmsxSnlaNlJRQ0dNYXFWeHMvNlViVm9NMi9VWHd0TTJMMjZSSDFUYjlqNGFINHVKNUhYc2lzQ0VhRzV4WDlpCjlXTUFrckYrYjBLb0hyTERMd0hQMWFxcGdJT2RFN1lYMXRHWkFnTUJBQUdqZ2RVd2dkSXdDUVlEVlIwVEJBSXdBREFMQmdOVkhROEUKQkFNQ0JlQXdnYmNHQTFVZEVRU0JyekNCcklJZWQyVmlhV0Z0TFdOdmNtVXhMbXhoYzNBdVkyOXNiM0poWkc4dVpXUjFnZ3gzWldKcApZVzB0WTI5eVpUR0NIbmRsWW1saGJTMWpiM0psTWk1c1lYTndMbU52Ykc5eVlXUnZMbVZrZFlJTWQyVmlhV0Z0TFdOdmNtVXlnaHRrCmJYb3RjMmhwWWpFdWJHRnpjQzVqYjJ4dmNtRmtieTVsWkhXQ0NXUnRlaTF6YUdsaU1ZSWJaRzE2TFhOb2FXSXlMbXhoYzNBdVkyOXMKYjNKaFpHOHVaV1IxZ2dsa2JYb3RjMmhwWWpJd0RRWUpLb1pJaHZjTkFRRUZCUUFEZ2dFR0FBZ0FaSHc5SGNmaVg2ZVU5Z3dLeFEyUgpkVXNiblhDaHJJcUdTZkZ4Rzd0Tm9PRWpTeERMQ2lpbXlJWDg2SmdaWGJ6dGJIUzNyYVg2bGlwbEExM0p5NnRzT2VUUFkyQjU1azgxCkZXQ3JrWExWb3pubkQzTzNCcWNJUjZGdlV4TE03QTVwaDd4NEcwaHo5MGhNbXFUbnEvRUM5R3QvT0RCdGlza043bzdCekJmaFg0dlgKaVpOclZCM3pYNGlzSGYrT2JMUDE3UjZacFpjMXpmVGxqL1hQdW1IQmdRK1JMZERQSEhjekJXTXk0WTNsaGdDVFk0U0ZOZG9sa0swRgp1YUd3SkloUGtTclJ4Y2dsZXZzeW5YeWVJLzNMVUtlOHFBYjlPNmtiMTlqOEg4aE94ZGlhWXJxdmxtZjFweGRXZC9yVjhZdkNRWjBjCkZ3TXB6ZEdzMWhuaGxUdmhTM2wrTkE9PTwvZHM6WDUwOUNlcnRpZmljYXRlPjwvZHM6WDUwOURhdGE+PC9kczpLZXlJbmZvPjx4ZW5jOkNpcGhlckRhdGEgeG1sbnM6eGVuYz0iaHR0cDovL3d3dy53My5vcmcvMjAwMS8wNC94bWxlbmMjIj48eGVuYzpDaXBoZXJWYWx1ZT5BM3ExQ1l5Tm1hRnFTL0NEVEk4NnhMbnZMemt2RHZRVkxBNFdtNFdTTFpzNXVEUDFTZ2J6dkY0ZVhxajNSZ2FoOFJUQ2VWOFdPZmdmYWFUWUltN1RMZTNTK216NVhPemx3UWJLbytuUXppUHhzVnppYXVHZGFBZVY2dEs4SENHN2YrdDJJTjRpR1RQODJjRkN1ZkpaTjQrYmxzTnRZcHlSVzJoSDBXRnpUWUJtcktxU01TNWZ5bFdCY3BlMFFUVmVDNDNGeFk4eHVDQXhnT0t4K2N4YTFScjl2TVFscU9BZXpiSTBPZlh6dTVJdWhOV2ZvV1NPUXFWMmZjc0hTeFprRkt2bGcxQ04vYm44VFVpbERuRUVMalhnOTc0Ykw0WFk1S0lKbTZ4THhKTVU5UlN5RXpjT3RBRGxocEY2WngweDNIdFNWMkVWREhBSnJ5QTBNcW9qNW1FcG9PSWI8L3hlbmM6Q2lwaGVyVmFsdWU+PC94ZW5jOkNpcGhlckRhdGE+PC94ZW5jOkVuY3J5cHRlZEtleT48L2RzOktleUluZm8+PHhlbmM6Q2lwaGVyRGF0YSB4bWxuczp4ZW5jPSJodHRwOi8vd3d3LnczLm9yZy8yMDAxLzA0L3htbGVuYyMiPjx4ZW5jOkNpcGhlclZhbHVlPitzTEdNN3F2NURLMDU4ZE1xUFpZcWd2TXZFdDBxWDZvbWExNllGbm9XLzJmeEhvRjhHVFZvbWdkKzBMNnBMaHNEYVNvcDRaQmlpbnRlOXo4MU5YMG4wMnhOcUlNVC9KU1Y5WTdtdTV3TFhqR01DTHVmN2crZjJ6aDRUV0VnR21TbU9URzk5NFVpTkdRUkNEQ3F3dUtXQmpTeWFPdVRQanNDa3hYRmhXMER4K21EY3ladDBpdGtLQjZGU1FQL043U2FrdFhzRmpiSFNuRUcxQWZTRnhHMWlJQ3ZUeVVPSVNXMDBxM1RYUXBYajVsYkRnVjgxY21Nd2tGbVk2Y2NHYUNTWE9rb1FIM3ZINWJRYnlVWldoWUlqMGU2U1BsSFU4eU1ydzVGd3ZqcTBDNkRHK3lqUTZRSmpyYTQ0eFdjK0Y0eThVeW9jajFQT0FFR0g4Skhpam5mdFByWmRMRFhtOG9mbFNqQnJ5QnNXbFlmYVRlaWRITVRnRGQ5MXdwYVE0WHptSkd6czhGSFlsZEFLWUU4cHNyaVFtcTBYWkNKeFJNQWI2V2wvVUllMnhIck1mNitOVWUwa3YrVnBlZU5NamNCVnFucWtGcEsvc09sTW52Y0lwcnB0dlhxVms5dllxVHg4TkpQK2NpNFFDQXoycnc0TVVRbVJaSFMrME9FaEYyQTJualRPM1ZZcWhpSkNmSmNoa2lvTkw1YUZzYVpMSld2VkJjbU53NW5ITXN6MDlxY2NBUGtsWXovcmFtcFVDeWU2UDhUZjJnSjMxbDRzNDF5WlA3N1ZvZ29tTE9KK2o5R1g5Q0VlZW02QXpIUEtvUkdjazk4N2k0VkhBUXRaNG43TXpsZmNSY25XNUJvTkFHMGhBdnY4YXhOOVl3ZEdOcUpsdTdyWS9vdmU1SlRzQWY1NmxzbElOQnEveVJjTjRMY3M4eTdLcTVtTXpKcXZKWVR1MGVWazVHckRHTXgxRDd2TEdXSzRWbXhKYU9MSnFYQ3BoM0MvRktIbTFPMVNhYk1NR0ttVE1qRXIrUmVuaGtEbUNBNzVSbHJnQUVEcVhxS0llWkxubG5mRWhCeVk2UVFWL24weVEvSjlKUmRRVmgybWQvWVpwTDJjNTZZc1NNV3hkMUgvVGpNVmRycmhaTmVOekx1VmY4ajUzQ2picEhxY3h5WnFMc08zNkIva2ZnekErYW1FeEpVc0QvN3BCR3RMTlF5Mi96bWtxOXlhSTIwb29lM3VVaUl4RFAxcWlKTFJmK1k4TVVhMzZ3MjdpVnVHbjdlS3htM05sZTlCWC9tOGJsNC9sQ1FGRVZ1eER4RWpaMGNEV2lhTlA1RnhyendPQnZ4Q0xVdm56VkNqTlJZLzJYRmpJOEN5RHFvY3JzSVEyTTNKUndaRUVnWTJ4UjNUS0lXc3VjK1ZKbXJUYnNwNkdramtZR0wra1hMLzhRSWxZVzdnOFQwQ2xHUG4ya0dIVVExa2lTWC9WamRmVUdleGZIek1nRjFGQzhWQXY0MytVWnpRNXRnNUpLeXZITEx6enYrejZWRmRQL0lhbFREZzluM1BPMHdMVHNkQVRaNi9XT2pZenNNRVRZSWNKdlU4ZnFiNHc5UEpiV3dhbU1DRDR3UklDUER3aytlRE5XTGg5SUpRUmV1Uyt1VFdwSUZRZ3NsbUZjTnRBeWJnZXF1amtZSy96S25Yc0NWVk16dWlpUGJEUFhoVDBNTEVrbGo5VzhxVGV3MkJNMzkzZHNxeXBjSXNza1llL0k3aWc0NW85WW5OczFSTnU2cGpaWjNPdktZSEFSK0ZhT2htU1RwcDN4T3NML3U0SFEvTC91eTVPM3BxaHFiWW1OMmZnaVVSQS9qT05JVVBISUcwd0hvU1NvT0ovNVg0eXRsQmRVdnBnVm9CY1I0MkJ2Z3RwY29NMTk0aHhhMldkU2U0UjYvZC9qWEt0eW5LdzhOZ0huSk1NZG5lOWhIYWFkL3F4c1NRdFNMbmRTVEVpWFdLNEJKUFkzbjZxVE4rdlpqeGZqKzJXMWx4OVpPaHFrMm5kdXg4L1ZtZkgwUFJmYng2akJ2OExxMHBVVnZITyswY3pNRGtSYVROWXYvZnhuM3k3NWV0S0NvRWtJVjh0VlpBVzlPVzFycU1lMkViaFZEY1VkNUxmOFF2U3cwTHNzTmUwT0lPeW9vcHE3SzhNbUxxNWxIOGhGZUJxVUZ0T3JYVGtETDN5MkZkK1dLdmZQdXcwN0N0cDFxNFlMSkNlWTNUME9TVEhrcXd6MDZvRTVtRW1ZUWtWRCswZWpWWk04aGMrNFBESmR6anovU003RXdLenFVVjlvTWhJektxK3dkcG92R1RMVlJnUHlIUE1HelFHOVdkcWVJQ2JoSHpBZFo0RlB1WkRRcjc5ZmtueGN5WExFMVVVc0l1OFdxREdCUDNueGhsR1dGN2ZJd1dUR3BkcEtBZzkrdHB0YWpLVitlVGt1Zlp0V1RIbEk0cnhzQ01jbm5MNHZybXVvaWErdEQzbG5TSWhENW9GNEo2elRFK24wRnFESkJ4dUZldEtyaTBMTzZsRU02dGtkdlpjR1FqZ09ZNVBVTTgwVDRvZEVKWlY1RHJzY3VZaGFEdUFlVlNHdG9tQytzN3BVT1N4d1FvQk01M1V2dzNzcytHNDhsS1FRTzAvQkVBdTROM0N0ZUl6amtBbG8yRnRiNXZ1L25Qa3dMQ1ovZzNRdWtJSVU4TEYzOHdtNGJxRG54U05uVG9LMXVFcGtxdFQraFM3STB1TU5DeE01eHRtajRiL3BOVDNQQmtoelJQdWpqR3BQUThjdFoza2IwcTU2eDlvSzBXR0JFOG9xNEEzTUhiSGZHdFppMnRZYTU4UDJINDNKNUxqb3RXT09NNjkvb2M0K29oeEp2ck80NHlCc1Q1K1FxbTdpTXVDU1VPK1c5ZjVNbHFpYUZ0YjBPdU1hOUFMVkhld2gvc3U4Y0VxK1pCcmpSQ1B3N0QvSS9qdm1md0w5YjA3T29xbkZWMFJpd2p2eG16aVNSaStybnpTdnJRclluTjdmbWMvV0p4TmNJNit2Zk1jUWYwZ3ZqNW9XK3hia3UzK1FDZ3c5RG5rYU5aTnpid1Zad1RFUEtDdDJKSUJ6R2NIQXpBVU91R0d1TFpocHoraVdzVTE0UkZESVRybXVLZ0tOejNGaDlvclp6S1daWmxQYm1OWXY5aHZaZDR1SnIxK1NJeHhqaC9DRkJQY1R2bzREYmt0R3dLdWMyR0pTTGF6V3czL0lLN3pUZmthQWcyN1M1cVNCT0pCWlRTRHRQRHJwQkRKNFRPYlVTU2REbFEwdE9DY29TNGlyQU1tSmdjNklMbGtscHd2b252RFdVZzgzMkpkdFRrWkdRc3BCOVppT2lKTndYQ1kxUkZ4ZDhZR2VSZm14bnBMdHNLYmk5RGNycmtubTc4b2kycVFMVmlsRUtCUTEzcE9iT0w4dXI1bDUvbFNzUUtuT2NwUkdTYlExWG1wYVFKOXBORTFXMXNjSDVQbW5PQmdRR0lXL2ZMaEFnWnRGZkpsbmpER2Z4RkFoUUpoYlhjUVMyVmVxRlJQUXlIZUI1T3NoTHhWNE42YlVrSjVhRUdHVU5XMmVYcGU1Y2NyOFZJQVFsNTN5Q1lSRDVpKzhnMWZkeHdQSnZmd1hKR2Y5alViMWZJUURxREVlS3hnTWMzMWoyeEgwdm9kQTFPYjhVRkZ4VjVkUEFqM2czbFRMTitwRkZqTzdaaHZ2bjVsQU8yeHN4ZGZiZGRKd1lkKzRGclRXU1hFcDBUNTlLTENVSkl5S25KRlFBQm44R2VnaCt4V2Y0V1NVN3VybGZsN0RrSi8vQXNlcGxKZk8xeTJ3b0FOc2hCaTk1RzJrb3hWQjlSTjRydlkrRVZEZ1pXRUptRUgrZDJZVHZzTnNvTzBLcmhhSG9YNitJRWNKQ1VHZzUvR3FlcEtPS1NIZ00xRVdCK3Z5aUVJOTlYZk9Jakx2Zy9VWjN0dE45dkI3emdvZnBBdkJZYXFHSDJUYU5ZeUc1NDBjWjVyZytjbllmbWFJNEZBdUNZbWt6QVQzZmIvaVRvYXRhV0RxSmhIaGl1N0k4ZVowN2xWVGJkbWl1bXdSMUZac25DdzJZeWFOTmk5REpCakI1cVh4UUtXaXNXWXp5Y09CUnFidzZ2dFgwY202REc3cWFzckFIV2hyYlRGV0tVaVhWMjNsYklGWjU0bDk5SjIrZVpKUjk0VDZlcXVTUVBoeUtCUkppOFNsK0tIeUZPczFuZUxJNFFwNys1aHpjNXF4NDlRZEFIQUF3QlJHM2tFVXozZjlUcnpEVU04Q09KM0lYZHlkTU01elU2K3M5SmRVZWVwZjdINk5DVURZcU5rc25zZVpQeHprajBXZW1Yc0FEL2NFT2lUQzhubWZhWmh6R2NzVEFENGdrVnZTMDFyMlJabWNPVzVkWXNnc0FOM0Q5SFJHdTc1V0g0THJJNnF5MFZWR1FldmFxK2dPcUtyeElUYStZMkdDY2dPdXZMK1BKdnR4eVFNK3FBR2FDWXlVQ1Frejc5aFZkMG1LNFpxaUpvZis0UWZCYW1XUGdrdklnYmxzNVcxNU9oT25POHBlSlBKWjNKUmJqYTJVcmJiaUIrVnp3SUUrZzhxTDFqVnhKVVdJWGhJZi9NQkFQeVNzWGRsa3Q0cUtBWnNaV29pYzh6V1kzZ2JhRmNxOEhCVldMRUxGWEJaa2p1TFlSZGZ5Y1BOTi96TVViRVRLWDdIR1Vib2RvNS9JbnlJcm85d3pZeEdhV205KzllSTJuc1dVK1psNVk1QWwrYS94eTdSVUlDYmtZNk02SmdneStUbjdZeUxuNXByRkgwa0FBRnFUSmk5SlJrN0RPcVFSblBrZTZoMDRkc1dmNXNpQjIwZU96M1FwOEJKUjQxdXZ0QWFIK2Z0TEgwZzBjbWNjZS9TS2NDNXlHRUs1NVF6SE5EbjNJSFBNa1oyaWpjdzVSdmlaeTNjQlF3VUl3OUZJMktKWGVWdVBhSitLaytkNFpHVzFGTFVpRHczSDVUblgzbkFYVWFFRkYvSzdFU2ExRmxOWlhMMFdkZ3IwUzd5bTZWQVVpc3Q5M1BzWmxLTWhobVBIR2d5TXJlSGZSaFZsUlNjZ1lSbEUzV3BjajlVRktWZ1pGem9VQWdTaHd2dURYZ0tnTkVKWUZGQkJiZzBjYXNYdmZTT2x5N1VrZFdSb1M1YWV2QnVjaW5tK1FiM3grMElpVnlITXcrYjZwTHdTZlNwU2NxZi9IRTlrb0d5M1lhQnFQZmxMQ2VkdmRrd2lnQkNrTnlyLzFONHk2QU9iWndnRXFDSmE0dm5sVTVmSnNzakNSelFpTXNkUXNNQi94Vk9XelFoU0trNUw3TWtsTmZteTh6R2xZd3d0NUVSMit6YkwvdHlQMVM4Z1NickFSWEFJcUN0M1M1Nm1ZaXhRK3NtTjgyQS9SRHE3cmxjQzMvYm1JM1Y5Nk8zWnVyMzFxUDA0cHkxbkFMRkZZd2daUkJJN2J6UWlzNVVtVVVQYWkyQWNxT3hRWkV6UERWUVBBRUdTU01ScjNSOVA4RmYrc2pDbGEyVXBKSnhESG1IYnlFaG9TekwrZ1phVmRLTHR4cXRPM2xGZHM5YnFObEpRekwzYm1mMG5Sdm81TExGTVdrRDNhSldOZUlrdlRSRm55OFNqOEd1bGkwY0tkWDZyb0hOTE1XU2dNNkxBaXltWisrTjA4SjNXWUdvUlVKRlQ5NGlKUmRLcmhvbXAraHcyekR6cjhZdnl0NzgydzM0YVpZUTNqUFUwNU90dGFCRnJ4ZC9nOHRmSEFDcnNDV1dHTlNkYk5NVDYwaDN5NWdvalBkWmNxMVZQcHV1RXM4M0VaeWd6WldpMVR2NDNZdkxxM1JIVFM2Wk1mZzhheVlDSWE4bjBWUWFkZHY1R3l6dU8rcmpBOXRhRk5hTGtJa29yb3lVWmRTamxNb1BidWtON01EdEEzR3dyeTE5ZThjZEYrc01vR0ZwQzl6ZkpDcTZvUlJtdXNYc2JBb3hEb2p5MGluUFV0eDJFa2lmbER2eXBSY1MxaFNBYWoyQnd6SzJya3pFOXFKcXAxS3lQQXZYTThHMGxKWHBaZmNoZGI0cVNobndCWXp0TzF0NmNVaXg0NHpheFRWSTNmUGNuTW1YVldZQkVtRzNYRzF2Y0E5dE9vcFV4NFhSZkFYMDc0OUFYVmJrY0lzZE1lQnhPd2pIcDNCc0x0NGhYaWxrTTlTT29xdFR0enNVcDJPbU9KTVl6aUtQd2YrNGVlK095dDdWYmFjY1N2NlZvNFhmVllveGR2aUNaclR2cEZYeEVrUE85QXY1bU1PL2dJQkFlVjdnRlg0cXd3TW9Kc2s5UlpMMWQzeXZodE9ydFIvVVVibkJJY1dMdnZqYXlSSFBWdFJac245T29JMGMwWDNmZm1jcDR0T05qdThINThJYkZEbGpkTkdjUktINTRYWlYrUStIZVFKR29EUGdlZ041OXV6ckU5SE1rdVBjK2tDMXlaTExJU2ZIOFcrdTJVUDErUzNWSVlLRk85MDhwcXNpdWxsOVllSDhIUkl0bFZ1Ni9reVVxMXA3NEgrYVBaSXhRMUNPaHFDWG5NM0VaMStzWldRZ0ZPUWFwYnBaZE5FaTlsc3pmaE1vbmNJejZJQUNqWVorU1pzZDM1NlVMaEZ3RHdoa1psQWE3WmtpY29DZU1XbmJMRTd3VWZVS0doOTdpQ0p2UHhQejMvaFJudjNqZVZhOFdkQ1VJTGR4K1VhQk8weURhUzhGOGY3MnpOV01ScFlReEllUDgwZXhYNW14ZXBadzdYUjNMQjdJaVN4M0c2MzRYSGFqdlo0VGFvOGZGRzZ2TUJVc2RmMVQrOGlUWmVsbW81Nld4WXlnSEVtMGV0dmdIbUtjN3dkS2RnK0VjbWF3UTY0TnlISkZ4NzYrY24xVzdTOUJScHFzTEM1b3Rhc0VESm1YdXg5Q0c0VW1wS0NsQVRFRmlsRTV6RFZGbnkvU1M5bk4yL0NBT3E0U282bDBmaXA0clBlUkZ1dlp3NmNpTzRiS1R5QVV0dzYyd1lDUXJVRVRuZWVaT1VXU2hka3FiRzFCYlFGUmlmUzFXSHVlSURDekR5UVhXWVdkMDkxWkFqSGxpMGVKdVlBbEptZXZuWGhaVzNLNTk0YWdyMnpjWGJ5WmJvbU1VRWpqRi9KZDdYbmw4RlNPaHRoMnBMejY2aGl0bXdWcmZ3bXJOcVExSUJSTEtnbWkybkswUGcyamtFY0JaUjFXTGxjQ3ErK01uOEplOWEyalE5VllDeWR6d2dxbEtwck02eXNhS0ZMSVByWDNKbmZLTlhZNWpTUlBNM3V5c2g4cWRVSjZFaEk5bzZzb0lRN04zMjNxcDRWSEloMHQ3SG1hUzNOb1ZTaEtSQVZGSWpUMGRseDB1enpoMkV6VWdNVlNMenkwMHI0bFhha3UybWlGclVpY3VkM3ZEMjhsUW5oaENaZGM4Rjdpei9KaTRManV3RWdaenBQbC9KUWxLYkxtakZzMEFBVDA1cHVXZWU1eXlkYXFnTWdLV2VSQjRpOWJEeHowVGZkb0hPTTZqNkJyazIwaHRRbzlHTUkyZndJbHd5b1pJUzd3Zk5oaGtKYVJheXZGWlhlL09zRm5mZlVHN2N3TmVqb0x1ZFFkWHlqQUdZaVZ5MVVGRE5xL0I0Z1B1S3loS1pzKzVnV3FJaklpRHU2RGhvZVZVNHZSaUNDc3VBOHo4cTVpTGEwaWg3R3BQb1U0NDZNQjA0eFg2QVVCaUFHU0pzemdOTnVqN2wxK1lBWWU5R0pienU1aDRtU3I4VmNQTTRCY2c0NmE4NlBQa1lUUHNsTmg0eHhRZGNqRmFxZFJsK0h6djhnaUQxQWk1eVQ0aWN3aytYNUtmaVZTM200YWQzM2RBV29XYUo0d0d5UWtkcjR3bytna2diMDJjYThkMXBVTzlTQks5QUlTMVVpWmdhZG44UHR3dDlWR0FlVTBtSW5tbVRjdGYvOG5yeDNZV3owQnd0T3Y3RHZCU0ZTN3NaVTllMGxPQ21aQWhraHVqeCtBdUNTNFA2OWd5dmxHLzUzMUlDREprU1pWOGtwdzNyZ2VOcU1qdy9ucmhmVk5FTnZhenltVWUvL2Y5NTZjcjFvaTBWR1Rld3owRE9kSDBVK1pFL2ZXMmV5dHhGSXJLU3hPU3RkVnlnMzc2WlVlSU9OcXh4S0VzNmRneFl2ZENCcHFxOThSaWNYQW9hNktNOHp2eGxldy9LWlp0QlR5UTRMTlkzd1h1TGRFWklKSk5KWVErVzRISDl5Ly9CSWtYcUZ6TFZkT1U0TXNxMlUyUXFad2taN0RrbzlVaUFpeDlUbE9UYTBPaFZ6QUt0NkpveTNmWlBtTGxsUzcydEphaTVwYzRlYnFMelZIQVkzRVZTRGNPV2JpY2NyQ0c4SVNOR3Q1bEhlVDhyU2tQdFZKdVFLUWVxbThtR3gxL3h1aGE2S3FsNzVOaks4R2N5ZyszMmxGeWRUZk9GcDFOMVRPcFJxUUJ5VG1OV1RxdUJqUzNjY015ZThpVGhGTENRengzOCtqakxFWmFGMGVJaFd0RVVzKzNjOHlKMW9NdXZHYU1xMjlNMUFCb3lUZm5rMzRxQnhMbGpJSVdvVUNidk82aWtrejhoZ3F0QzNBWHo2RDVZSVd0Qi9ldG1GcHVnQUVra0U5Z2JONDZIZmFkUUVsQjBYaGRLNUlaS2RudExpM0JLcVY5RXlsd3pzZC95OENOdUsxUHFZZExiNkE5a1FZWE1yUUJPTysxWWVVeUYwaUQ3cFVhYlo0MWQ1bkFidTBuSWxjSHZRUit0bGtNcXlSRmpWVnc0bktKR0dNeXlGNStOeElOZ2VUWDNIR1Rmeko1VnNRaFN5N05ZdXhPS3p5eVFGZVFFM1MvWlJPZnlKdVhsbDR3MFdsczViSUd3dFhUTkZqcVlrQU1QNWpzc0Fwc0NkZTVHVTRvbzY2VHZNR1hZOTFnU2MzaWk0ZEZrUWpMOHVtcGVzUE9FY042dVA0QlpmM2VtZXd4Z1Qvd0hMRDVkdTYxSEw5NDJJaldYN0RVV1FnaUU0OXJHRmFZTDZ3ZFhaUHZneFc1OXFiSUxyMUtodHB3Nm1kSDVya1JEN09SVjZ4eEFzYkZ0b3VkdDVoVmloSTJlQnhvNnBtMmZYS3ZqbDFHUTZ1TjRhKzA2R1RTS2V3dGVOM0J2bW1WZ3FIT1lHd25PRHdJTFVGTno5b3d1ZjNwMmpkeEZRd2thdktxZUMybkljWkFsZVhPWXpUazhQaFVkSUsvQjB3S2dmMUQrVVpmSWlKbTBlZFlzRzd4SkVrbDgzM2pjQjRYUDJOWlRZYkNYZHdSakdsYzh4c3NxUUJHQWNtWkRDdTdqbTVCZE5mLzcrSHhhS1RpR0ZSZTZtTVNITGQxSFlZRFRhRzVVQVZnV0ZVeEYrRThhNnc5NjN5enAyQ2RJandXdDkwcWlRRldkTVo3bWJ2WWdsczhVenpzTDl6QktrTVhUazhjcXFnazc3SXc5ZWhqZVNFZGZLRy9RVzRjdmpaUmR2V1MvR2Y2TlhHYW0xOFZQOWE3K3NDOWhSdXJCYVlqd3o1dHhDK3E4Z2tYZGhRTVNOQm4xWVRiRWNQcGNWWWx5cnNWWmY0em9CNTI0d2x3SXFPUlV1Y24xS3gvWjVXZ3NuRlB4c01BcGdwTXRhc2VTRDljOXJBNlk0U2Ztdi80cWRaK1hnamRQTzR4UjRSNHBhV0VsRjFjdWZHQWNwYjNjODU1V1BtNGVlaDlpODl6ZWRMVHFVcmdBc05XM3pUQzVrZzZQbFlxRjhvMlVYR0R1TWk5aDJZWkJNdVJoSERMS05vQ2FVWmdPeG5xaW5ZOWJqVFBWVS9GN2RyeEU2dUZRV3pLd0JRQWd1TEcyd2MyV3RHZk00eGc0cHVUbjQ2M2w4YUl1c2ZzNlhENXVHQ0VqMTlLRHhFSXFyTUV0aFIzeUpOc0J1Y2pMWCs0UVEydlFqcm9jczJqak9FWnZ0bit1UDJ2cHRhbkg5TnVBVWplbHNKZWNOSVpPK2VXQ0RrVHB3N1NIRVJiQ2pxNGtjVFpuNFpSWFJadGF6N2FtSTlZR2dWNGVTcXRCK1dyejF0Wm1ORzg5RkdhVEpEaHREMzd2MEtZSUJZelFNcmF4SXhqVW1BZzdTS2ZmZlNtTmRWWVBhUnZUaDE5WUJUdUJIQmxLVFRRdGx1MkhONEdvUnRKbTl2Z3F1ajdZaTJ0RVBZcmw3QmNMaS9jUlFBODJldC9QMjZlYiswOENDaXdSVFVuR21zZDhpSTMwYUFSeVhXeGFNdlZHLy9oYzIwekFaZVZpbUJodjBxUXhCb2ZOc0dhQjZqdGM3WXJSaXhBMGNsMG1qOWVESVhSRzgvYjFMcjBuSWtIbk51OVQvVXA4elJPbzRVT1g0TkdjT25ySzM2eUs3MTdsSE9RRHo2VmdDRThVYzJNejM4MEllYlUxOTR4YkdRU05EN3krWHhPVDFnaTRRK0lndTNjSzZBZ2tmZFBxSjdGc0xLdkdRVTE2bE12Z0dIK2xHVktNUzZIT3R6MkJvM1QyRFVQTlRnNVJrMGIvNnN1VnJOY0xzOGdFOGRhWDlpUU9BTThxTHltb0FTKzJvRThDWHpNWDd6SW02ZjJFT045TXlPa3ZFS294ZlUybU5XaWN0UjYxaVNvRTlRbVhRaUFlb0IrK0JvWEZVeVNCbE91cXI2RktKaThKWWJBM3pkdHVXelVYSTArTk8rdEU3UFg5a2REMjRuMGs3NzJKUUZjZm85NTB6TndQeUNYNzFZZER3c094U0RObHAxSlJXQktvbm42K2ZobkljaXh2Tm1Xajh0cVhpUkI4aVNVbUsvSXh1aWhVMXNvYmtEM2JXRzNmb2JmZklEWENJc3JTVXNLTFF2S1dwS3ZRRk9VeW1vS3orMUJpazVkVHBNTWNSdlpBUWlTS1NtRUJJaEtEZHcvS0FJcldiekN0NlMyWSsxMU1NNHpkUHQwSlp6RDBIRzVBYTBXWUVtbE1oY0JWQ2ZieDFhSTkwbE5XOG16Mjk0dHN0elE0a2kwOFdtRzVlVDYyekRnQTREMG1LOWRJYWRob0NnckFDd2R2U29rYlg1empYcXB5cnNhL1E4V2paczlJYmltcG9RcXZrM2lWOWQyQkJYZVZFTVQyRVhSRE91VWFNZW05SDUxY2tCL1ZOUENxY0tybjE0d2h2Z1NYZ0lDY1EvN1VvNXhmMUZaMHdoaHIvTk8wOFJaWkk3TFVrTnQrMUFuQ1N5dmFoN1NpcGxxUHh4UzcxQ1ZmWmRyek5ROFpuSkRvNGhkYk56UE9kNWFZaTMwRVpZbThYTmt5eXZlUHhaam5LcFIyVmZ2c096NXVoZTZtWmd1elp6YnM3bFhJOE13UThSY2wzUmhnaHg2ZDJ3Wkk2T2ZTSHI0OWM5UVhNeXdoNUdKTnVTZHlyRXRhRDQ3S3dwck9IcFRVbmtpdXlaYXRRMkQrd2h0bm9tK3R3N0FPNHNjMTNSZzFXK04zQjZwWDNUdEFtSUE5S3BITGZVTzhxZkNPRlZlaDhFdkJWV3FOc0tNUkNRdTJTUXRhQkwrQUU2K1B1ZWJwREZhME9QWlNHdHV0ZTlSbTE0K2o1YmpLamNlRzg0c0lLVGZFeHQzVFFEMkRrZXV3KzFkSGh2NHg0TDhNRHp0WHpUcGNuTXlFa1FGV1VBSXFYM3k2SDB2djhHNnhRRUlnR1VEeUJJU3FFaFFzNXM4N0hHTkxuS0RJcS91RVp1YjJBenBiNklQQmd0N1JIT2lOUXhHYkVQdFNRS3ptQUszSVpDZnJDT25xTVNWVVdZSnNBaFRzK1hYTFJCUm9Kd0RnVXNueFZTN3krV2RxdWYrS1BHL1l3alR6Z29GTFNKZlhTRDRkZFprRHdIZUN5N1N6bnlVT0wrNUFJaXlXeHdyUVhBUmh5Y3hpbmVTdytmTFhNczU0bzBFeVFxdndyeFE5UXJIM3hFWjJCRDh4VHZYVUxBb243Uit2S3Zpam0ydncrSlVqZGQ4OE5tVThic0FNa1ZIR1Y3anM3Q1lXN0RLTk9KUkpzVk9ZejJJVXg2N29tSGM0dEp0ZmowTC85ZUI3UFNjc1VsUnZpYStwSy9xQmJuNHBiT2pVWHlsUDYzNEY3Mi8wZlJNaGZ4cFRKaUEzZWUwWU5wRmJKNXhHSnR3RDVUb216cGhCYThpR2tlOEhmMmtOVDBJZWhMRENDTEpmVklyVDBHTXUvMDhjcENaWGUwRzBsOTFxZ0U1cm5yc1Y3UThVR2hsemVsZlgwejVYV1UvaWNwUmJ5RmpzaTljRjVGUEFtc2w0M1JUVngyMmhzdU5KSVdZcnJpYW10ZEVqWS96aG5SNjlGKzRlL29ycEVXWWc5d1I4alljc3pVbGlOejB3eVYxTzMrYkJma2RJVlZoMDdvMllHNmx3ak4ySHBnTjVsSU81cHJuTmF6dzFtV0MzdkVkOWxmUEJQM1ByYkd4U3J6dTRGTjB6Y1NoeWlKdjhsSlNOcE9INVJUdUF3U1JmZnBDOXdYaWFSa2tJTWgySjZEd0NLajdoRDNUTzZDOWRzSVRGNFJ0UCtxU2ZxNUxDU05BZVc1dHdmVnZXZVpkR0o0YkMxMmxocUMrWkdKb3k1WitJeDhkTEIwKzFPdDJiY0ExMkJjR3doREZMNThCWGNPSUlJQVRaKzgweTJFdWt6R3Y3Rnprcmp6K2trdHJqY0JDaFE9PTwveGVuYzpDaXBoZXJWYWx1ZT48L3hlbmM6Q2lwaGVyRGF0YT48L3hlbmM6RW5jcnlwdGVkRGF0YT48L3NhbWwyOkVuY3J5cHRlZEFzc2VydGlvbj48L3NhbWwycDpSZXNwb25zZT4='}\n"
     ]
    }
   ],
   "source": [
    "# Find action URL\n",
    "pstart = r.text.find('<form')\n",
    "pend = r.text.find('>', pstart)\n",
    "paction = r.text.find('action', pstart, pend)\n",
    "pquote1 = r.text.find('\"', pstart, pend)\n",
    "pquote2 = r.text.find('\"', pquote1+1, pend)\n",
    "url5 = r.text[pquote1+1:pquote2]\n",
    "url5 = url5.replace('&#x3a;', ':')\n",
    "url5 = url5.replace('&#x2f;', '/')\n",
    "print('URL:', url5)\n",
    "\n",
    "# Parse values from the form\n",
    "pinput = r.text.find('<input', pend+1)\n",
    "form = {}\n",
    "while pinput != -1:\n",
    "    # Parse the name-value pair\n",
    "    pend = r.text.find('/>', pinput)\n",
    "    \n",
    "    # Name\n",
    "    pname = r.text.find('name', pinput, pend)\n",
    "    pquote1 = r.text.find('\"', pname, pend)\n",
    "    pquote2 = r.text.find('\"', pquote1+1, pend)\n",
    "    name = r.text[pquote1+1:pquote2]\n",
    "    \n",
    "    # Value\n",
    "    if pname != -1:\n",
    "        pvalue = r.text.find('value', pquote2+1, pend)\n",
    "        pquote1 = r.text.find('\"', pvalue, pend)\n",
    "        pquote2 = r.text.find('\"', pquote1+1, pend)\n",
    "        value = r.text[pquote1+1:pquote2]\n",
    "        value = value.replace('&#x3a;', ':')\n",
    "\n",
    "        # Extract the values\n",
    "        form[name] = value\n",
    "\n",
    "    # Next iteraction\n",
    "    pinput = r.text.find('<input', pend+1)\n",
    "\n",
    "print('Form: ', form) "
   ]
  },
  {
   "cell_type": "markdown",
   "metadata": {},
   "source": [
    "### Click Continue\n",
    "Submitting the form to continue will return the session cookies. These can be submitted with future posts to the team site without having to log back in again."
   ]
  },
  {
   "cell_type": "code",
   "execution_count": 209,
   "metadata": {},
   "outputs": [
    {
     "name": "stdout",
     "output_type": "stream",
     "text": [
      "URL:          https://lasp.colorado.edu/Shibboleth.sso/SAML2/POST\n",
      "Status Code:  302\n",
      "Cookies:      {'_shibsession_64656661756c7468747470733a2f2f646d7a2d73686962322e6c6173702e636f6c6f7261646f2e6564752f73686962626f6c657468': '_e1c8443a4c025ff691aa1cfbfef706c0'}\n",
      "Headers:\n",
      "\t Date: Fri, 13 Apr 2018 20:27:36 GMT\n",
      "\t Server: Apache/2.2.15 (Red Hat)\n",
      "\t Set-Cookie: _shibsession_64656661756c7468747470733a2f2f646d7a2d73686962322e6c6173702e636f6c6f7261646f2e6564752f73686962626f6c657468=_e1c8443a4c025ff691aa1cfbfef706c0; path=/; secure; HttpOnly\n",
      "\t Expires: Wed, 01 Jan 1997 12:00:00 GMT\n",
      "\t Cache-Control: private,no-store,no-cache,max-age=0\n",
      "\t Location: https://lasp.colorado.edu/mms/sdc/team/\n",
      "\t Content-Length: 308\n",
      "\t Content-Type: text/html; charset=iso-8859-1\n",
      "Text: <!DOCTYPE HTML PUBLIC \"-//IETF//DTD HTML 2.0//EN\">\n",
      "<html><head>\n",
      "<title>302 Found</title>\n",
      "</head><body>\n",
      "<h1>Found</h1>\n",
      "<p>The document has moved <a href=\"https://lasp.colorado.edu/mms/sdc/team/\">here</a>.</p>\n",
      "<hr>\n",
      "<address>Apache/2.2.15 (Red Hat) Server at lasp.colorado.edu Port 443</address>\n",
      "</body></html>\n",
      "\n"
     ]
    }
   ],
   "source": [
    "# Submit the form\n",
    "r = requests.post(url5, verify=False, allow_redirects=False, data=form)\n",
    "print('URL:         ', url5)\n",
    "print('Status Code: ', r.status_code)\n",
    "print('Cookies:     ', r.cookies.get_dict())\n",
    "print('Headers:')\n",
    "for key in r.headers:\n",
    "    print('\\t', key+':', r.headers[key])\n",
    "print('Text:', r.text)"
   ]
  },
  {
   "cell_type": "markdown",
   "metadata": {},
   "source": [
    "### Save Cookies for Later\n",
    "Since the cookie dictionary has weird keys, save as a key-value pair as a tuple."
   ]
  },
  {
   "cell_type": "code",
   "execution_count": 215,
   "metadata": {},
   "outputs": [
    {
     "name": "stdout",
     "output_type": "stream",
     "text": [
      "('_shibsession_64656661756c7468747470733a2f2f646d7a2d73686962322e6c6173702e636f6c6f7261646f2e6564752f73686962626f6c657468', '_e1c8443a4c025ff691aa1cfbfef706c0')\n"
     ]
    }
   ],
   "source": [
    "key = r.cookies.keys()[0]\n",
    "value = r.cookies[key]\n",
    "session_cookies = (key, value)\n",
    "print(session_cookies)"
   ]
  }
 ],
 "metadata": {
  "kernelspec": {
   "display_name": "Python 3",
   "language": "python",
   "name": "python3"
  },
  "language_info": {
   "codemirror_mode": {
    "name": "ipython",
    "version": 3
   },
   "file_extension": ".py",
   "mimetype": "text/x-python",
   "name": "python",
   "nbconvert_exporter": "python",
   "pygments_lexer": "ipython3",
   "version": "3.6.3"
  }
 },
 "nbformat": 4,
 "nbformat_minor": 2
}
