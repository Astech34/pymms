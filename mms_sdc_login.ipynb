{
 "cells": [
  {
   "cell_type": "markdown",
   "metadata": {},
   "source": [
    "# Log-In to the SDC\n",
    "This notebook will walk through learning how to log-in to the [MMS Science Data Center](https://lasp.colorado.edu/mms/sdc/public/) using components of its [API](https://lasp.colorado.edu/mms/sdc/public/about/how-to/).\n",
    "\n",
    "**Outline**\n",
    "* [Obtain Cookie Credentials with Manual Redirects](#manual_redirects)\n",
    "  * 9-Step Process\n",
    "  * Session cookie saved after successful log-in\n",
    "* [Obtain Cookie Credentials with Automated Redirects](#auto_redirects)\n",
    "  * 4 Attempts\n",
    "* [Download Data](#download_data)\n",
    "* [Latis Log-In](#latis_login)\n",
    "* [Conclusions](#conclusions)"
   ]
  },
  {
   "cell_type": "markdown",
   "metadata": {},
   "source": [
    "<a id='manual_redirects'></a>\n",
    "## Obtain Cookie Credentials with Manual Redirects\n",
    "Here, we will try to download the MMS trigger data numbers (TDNs), which are an L1A data product. Access is restricteed to MMS team members and, hence, log-in is required. We first start by setting up the MMS_SDC_API class to attemp a download of FIELDS TDNs."
   ]
  },
  {
   "cell_type": "code",
   "execution_count": 2,
   "metadata": {
    "scrolled": true
   },
   "outputs": [],
   "source": [
    "import requests\n",
    "import urllib3\n",
    "\n",
    "# Disable warnings (we are not using certificates)\n",
    "urllib3.disable_warnings(urllib3.exceptions.InsecureRequestWarning)\n",
    "\n",
    "# Log-In Credentials\n",
    "username = ''\n",
    "password = ''\n",
    "if (username == '') | (password == ''):\n",
    "    raise ValueError('Must provide username and password.')"
   ]
  },
  {
   "cell_type": "markdown",
   "metadata": {},
   "source": [
    "### Initial Attempt\n",
    "We start by attempting to access the team-side of the SDC. This redirects us to a log-in page. To figure out what is going on, we will set `verify=False` because we do not have a verifcation certificate, and set `allow_redirects=False` in order to catch the redirect page."
   ]
  },
  {
   "cell_type": "code",
   "execution_count": 3,
   "metadata": {
    "collapsed": true
   },
   "outputs": [],
   "source": [
    "# Function to examine responses\n",
    "def show_response(r):\n",
    "    '''Print attributes of the response function.'''\n",
    "    print('Status: ', r.status_code)\n",
    "    print('Cookies: ', r.cookies.get_dict())\n",
    "    print('Headers:')\n",
    "    for key in r.headers:\n",
    "        print('\\t', key+':', r.headers[key])"
   ]
  },
  {
   "cell_type": "code",
   "execution_count": 4,
   "metadata": {},
   "outputs": [
    {
     "name": "stdout",
     "output_type": "stream",
     "text": [
      "URL:  https://lasp.colorado.edu/mms/sdc/team/\n",
      "Status:  302\n",
      "Cookies:  {}\n",
      "Headers:\n",
      "\t Date: Thu, 19 Apr 2018 12:29:18 GMT\n",
      "\t Expires: Wed, 01 Jan 1997 12:00:00 GMT\n",
      "\t Cache-Control: private,no-store,no-cache,max-age=0\n",
      "\t Location: https://lasp-login.colorado.edu/idp/profile/SAML2/Redirect/SSO?SAMLRequest=fZJdb4IwFIb%2FCuk91CIz2IiJ04uZuGmE7WI3S4GDNikt6yn7%2BvVD0UWzxOu%2Bfd5znpwJilo1fNa6vd7CewvovK9aaeTHh4S0VnMjUCLXogbkruDp7HHFw2DAG2ucKYwi3gwRrJNGz43Gtgabgv2QBTxvVwnZO9cgp1QJbIIubqwoTQBlS9O9zHOjwO0DREMP4JBu1mlGvEU3idTiwLwm%2BMrspL7myLKh3TCVVHCCbKGUFgpH03RNvOUiIW9VdDfO41EZD8KcFTkTUVUNhyOAOGKCVVUXQ2xhqdEJ7RISDljsDyKfjTMW8nDMWfxKvM1p53upS6l3twXlfQj5Q5Zt%2FH6xF7B4XKoLkOnkoJkfi%2B2F%2BNtYcbZNpmczZf3jY2czDP5bxj%2FLE3pR13c3%2FKnjLxcbo2Tx7c2UMp9zC8JBQhih0%2F7L9YVMfwE%3D&RelayState=ss%3Amem%3A4c2df31a922523d530f29727cee4845ab9fc9def5435d6a5e11269ae2807c598\n",
      "\t Content-Length: 897\n",
      "\t Content-Type: text/html; charset=iso-8859-1\n"
     ]
    }
   ],
   "source": [
    "# Attempt to access the site\n",
    "url0 = 'https://lasp.colorado.edu/mms/sdc/team/'\n",
    "r = requests.get(url0, verify=0, allow_redirects=False)\n",
    "print('URL: ', url0)\n",
    "show_response(r)\n",
    "\n",
    "# Store the re-direct information\n",
    "url1 = r.headers['Location']"
   ]
  },
  {
   "cell_type": "markdown",
   "metadata": {},
   "source": [
    "### Redirect #1\n",
    "Now we will post to the next redirect page. This time we are given cookies that we must hold onto."
   ]
  },
  {
   "cell_type": "code",
   "execution_count": 5,
   "metadata": {},
   "outputs": [
    {
     "name": "stdout",
     "output_type": "stream",
     "text": [
      "URL:  https://lasp-login.colorado.edu/idp/profile/SAML2/Redirect/SSO?SAMLRequest=fZJdb4IwFIb%2FCuk91CIz2IiJ04uZuGmE7WI3S4GDNikt6yn7%2BvVD0UWzxOu%2Bfd5znpwJilo1fNa6vd7CewvovK9aaeTHh4S0VnMjUCLXogbkruDp7HHFw2DAG2ucKYwi3gwRrJNGz43Gtgabgv2QBTxvVwnZO9cgp1QJbIIubqwoTQBlS9O9zHOjwO0DREMP4JBu1mlGvEU3idTiwLwm%2BMrspL7myLKh3TCVVHCCbKGUFgpH03RNvOUiIW9VdDfO41EZD8KcFTkTUVUNhyOAOGKCVVUXQ2xhqdEJ7RISDljsDyKfjTMW8nDMWfxKvM1p53upS6l3twXlfQj5Q5Zt%2FH6xF7B4XKoLkOnkoJkfi%2B2F%2BNtYcbZNpmczZf3jY2czDP5bxj%2FLE3pR13c3%2FKnjLxcbo2Tx7c2UMp9zC8JBQhih0%2F7L9YVMfwE%3D&RelayState=ss%3Amem%3A4c2df31a922523d530f29727cee4845ab9fc9def5435d6a5e11269ae2807c598\n",
      "Status:  302\n",
      "Cookies:  {'JSESSIONID': 'BE7DC41D0FC79191D9BDEEAE31C5FA38', '_idp_authn_lc_key': '7936e8b1-de7e-41f8-ac83-39e70db6f476'}\n",
      "Headers:\n",
      "\t Date: Thu, 19 Apr 2018 12:29:19 GMT\n",
      "\t Set-Cookie: JSESSIONID=BE7DC41D0FC79191D9BDEEAE31C5FA38; Path=/idp; Secure, _idp_authn_lc_key=7936e8b1-de7e-41f8-ac83-39e70db6f476; Version=1; Path=/idp; Secure\n",
      "\t Expires: 0\n",
      "\t Cache-Control: no-cache, no-store, must-revalidate, max-age=0\n",
      "\t Pragma: no-cache\n",
      "\t Location: https://lasp-login.colorado.edu:443/idp/AuthnEngine\n",
      "\t Content-Length: 0\n",
      "\t Connection: close\n",
      "\t Content-Type: text/plain; charset=UTF-8\n"
     ]
    }
   ],
   "source": [
    "# Attempt to access the next page\n",
    "r = requests.get(url1, verify=False, allow_redirects=False)\n",
    "print('URL: ', url1)\n",
    "show_response(r)\n",
    "\n",
    "# Save cookies and redirect\n",
    "url2 = r.headers['Location']\n",
    "cookies1 = r.cookies\n"
   ]
  },
  {
   "cell_type": "markdown",
   "metadata": {},
   "source": [
    "### Redirect #2\n",
    "Follow the redirected, poviding the cookies from the last page. Without the cookies, we are redirected to an error page saying that cookies are required to access the site."
   ]
  },
  {
   "cell_type": "code",
   "execution_count": 6,
   "metadata": {},
   "outputs": [
    {
     "name": "stdout",
     "output_type": "stream",
     "text": [
      "URL:  https://lasp-login.colorado.edu:443/idp/AuthnEngine\n",
      "Status:  302\n",
      "Cookies:  {}\n",
      "Headers:\n",
      "\t Date: Thu, 19 Apr 2018 12:29:19 GMT\n",
      "\t Expires: 0\n",
      "\t Cache-Control: no-cache, no-store, must-revalidate, max-age=0\n",
      "\t Pragma: no-cache\n",
      "\t Location: https://lasp-login.colorado.edu:443/idp/Authn/UserPassword\n",
      "\t Content-Length: 0\n",
      "\t Connection: close\n",
      "\t Content-Type: text/plain; charset=UTF-8\n"
     ]
    }
   ],
   "source": [
    "# Attempt to access the site\n",
    "r = requests.get(url2, verify=False, allow_redirects=False, cookies=cookies1)\n",
    "print('URL: ', url2)\n",
    "show_response(r)\n",
    "\n",
    "# Store redirect information\n",
    "url3 = r.headers['Location']"
   ]
  },
  {
   "cell_type": "markdown",
   "metadata": {},
   "source": [
    "### Redirect #3\n",
    "Again, follow the redirect."
   ]
  },
  {
   "cell_type": "code",
   "execution_count": 7,
   "metadata": {},
   "outputs": [
    {
     "name": "stdout",
     "output_type": "stream",
     "text": [
      "URL:  https://lasp-login.colorado.edu:443/idp/Authn/UserPassword\n",
      "Status:  200\n",
      "Cookies:  {}\n",
      "Headers:\n",
      "\t Date: Thu, 19 Apr 2018 12:29:20 GMT\n",
      "\t Expires: 0\n",
      "\t Cache-Control: no-cache, no-store, must-revalidate, max-age=0\n",
      "\t Pragma: no-cache\n",
      "\t Content-Type: text/html; charset=UTF-8\n",
      "\t Content-Length: 1820\n",
      "\t Connection: close\n",
      "Text: \n",
      "<html>\n",
      "  <head>\n",
      "    <title>LASP Login</title>\n",
      "    <link rel=\"stylesheet\" type=\"text/css\" href=\"/idp/login.css\"/>\n",
      "  </head>\n",
      "\n",
      "<body>\n",
      "  <div id=\"container\">\n",
      "    <a href=\"http://lasp.colorado.edu/\"><img src=\"/idp/images/logo.jpg\" alt=\"LASP\"/></a>\n",
      "    <div class=\"loginbox\">\n",
      "       <h1>Sign In</h1>\n",
      "       <div class=\"leftpane\">\n",
      "           \n",
      "           \n",
      "             <form action=\"/idp/Authn/UserPassword\" method=\"post\">\n",
      "           \n",
      "           <table>\n",
      "             <tr><td width=\"40%\"><label for=\"username\">Username:</label></td><td><input name=\"j_username\" type=\"text\" id=\"username\" autocapitalize=\"off\" /></td></tr>\n",
      "             <tr><td><label for=\"password\">Password:</label></td><td><input name=\"j_password\" type=\"password\" id=\"password\" /></td></tr>\n",
      "             <tr><td></td><td><button type=\"submit\" value=\"Login\">Login</button></td></tr>\n",
      "             <tr><td colspan=\"2\"><hr /></td></tr>\n",
      "             <tr><td colspan=\"2\" class=\"small\">Forgot Password? <a href=\"https://lasp-login.colorado.edu/pwm/public/ForgottenPassword\">Reset Password</a></td></tr>\n",
      "           </table></form>\n",
      "       </div>\n",
      "\n",
      "      <p class=\"disclaimer\">\n",
      "        This site is intended for the sole use of LASP Authorized users. Use of this site is subject to the Legal Notices,\n",
      "        Terms for Use and Privacy Statement located on this site. Use of the site by customers and partners, if authorized,\n",
      "        is also subject to the terms of your contract(s) with LASP. \n",
      "      </p>\n",
      "    </div><!-- loginbox -->\n",
      "    <p class=\"copyright\">\n",
      "         Laboratory&nbsp;for&nbsp;Atmospheric&nbsp;and&nbsp;Space&nbsp;Physics &middot;\n",
      "         1234 Innovation Drive, Boulder, CO  80303-7814, 303-492-6412 &middot;\n",
      "         &copy;&nbsp;2013&nbsp;Regents&nbsp;of&nbsp;the&nbsp;University&nbsp;of&nbsp;Colorado\n",
      "    </p>\n",
      "  </div><!-- container -->\n",
      "</body>\n",
      "</html>\n",
      "\n"
     ]
    }
   ],
   "source": [
    "# Access the page\n",
    "r = requests.get(url3, verify=False, allow_redirects=False, cookies=cookies1)\n",
    "print('URL: ', url3)\n",
    "show_response(r)\n",
    "print('Text:', r.text)"
   ]
  },
  {
   "cell_type": "markdown",
   "metadata": {},
   "source": [
    "### Send Log-In Credentials\n",
    "This time we get a status code of 200, meaning everything is ok. Reading through the text of the webpage, it looks like our username and password have to be submitted in association with the keys `'j_username'` and `'j_password'`. Let's try to post them. "
   ]
  },
  {
   "cell_type": "code",
   "execution_count": 8,
   "metadata": {},
   "outputs": [
    {
     "name": "stdout",
     "output_type": "stream",
     "text": [
      "URL:  https://lasp-login.colorado.edu:443/idp/Authn/UserPassword\n",
      "Status:  302\n",
      "Cookies:  {'_idp_session': 'MTMyLjE3Ny4yNDQuNjY%3D%7CYzYyMGI1Y2RkMTRkNGVjNTcxOGRkYWIwY2QzN2Y5NTQzMDg3MmZkMTg5Nzg0ZjUxMWYxYWMxODNkZWU2ZjMzYQ%3D%3D%7CIUOLJDKJ0iXwgLQKfP57JkaxwsM%3D'}\n",
      "Headers:\n",
      "\t Date: Thu, 19 Apr 2018 12:29:20 GMT\n",
      "\t Expires: 0\n",
      "\t Cache-Control: no-cache, no-store, must-revalidate, max-age=0\n",
      "\t Pragma: no-cache\n",
      "\t Set-Cookie: _idp_session=MTMyLjE3Ny4yNDQuNjY%3D%7CYzYyMGI1Y2RkMTRkNGVjNTcxOGRkYWIwY2QzN2Y5NTQzMDg3MmZkMTg5Nzg0ZjUxMWYxYWMxODNkZWU2ZjMzYQ%3D%3D%7CIUOLJDKJ0iXwgLQKfP57JkaxwsM%3D; Version=1; Path=/idp; Secure\n",
      "\t Location: https://lasp-login.colorado.edu:443/idp/profile/SAML2/Redirect/SSO\n",
      "\t Content-Length: 0\n",
      "\t Connection: close\n",
      "\t Content-Type: text/plain; charset=UTF-8\n"
     ]
    }
   ],
   "source": [
    "# Send login credentials\n",
    "payload = {'j_username': username, 'j_password': password}\n",
    "r = requests.post(url3, verify=False, allow_redirects=False, cookies=cookies1, data=payload)\n",
    "print('URL: ', url3)\n",
    "show_response(r)\n",
    "\n",
    "# Update cookies\n",
    "cookies2 = r.cookies\n",
    "all_cookies = cookies1\n",
    "all_cookies.update(cookies2)\n",
    "\n",
    "# Next redirect\n",
    "url4 = r.headers['Location']"
   ]
  },
  {
   "cell_type": "markdown",
   "metadata": {},
   "source": [
    "### Verify Log-In Status"
   ]
  },
  {
   "cell_type": "code",
   "execution_count": 9,
   "metadata": {},
   "outputs": [
    {
     "name": "stdout",
     "output_type": "stream",
     "text": [
      "URL:  https://lasp-login.colorado.edu:443/idp/profile/SAML2/Redirect/SSO\n",
      "Status:  200\n",
      "Cookies:  {}\n",
      "Headers:\n",
      "\t Date: Thu, 19 Apr 2018 12:29:21 GMT\n",
      "\t Expires: 0\n",
      "\t Cache-Control: no-cache, no-store\n",
      "\t Pragma: no-cache\n",
      "\t Set-Cookie: _idp_authn_lc_key=7936e8b1-de7e-41f8-ac83-39e70db6f476; Version=1; Max-Age=0; Expires=Thu, 01-Jan-1970 00:00:10 GMT; Path=/idp\n",
      "\t Content-Type: text/html;charset=UTF-8\n",
      "\t Connection: close\n",
      "\t Transfer-Encoding: chunked\n",
      "Text: \n",
      "<html xmlns=\"http://www.w3.org/1999/xhtml\" xml:lang=\"en\">\n",
      "\n",
      "    <body onload=\"document.forms[0].submit()\">\n",
      "        <noscript>\n",
      "            <p>\n",
      "                <strong>Note:</strong> Since your browser does not support JavaScript,\n",
      "                you must press the Continue button once to proceed.\n",
      "            </p>\n",
      "        </noscript>\n",
      "        \n",
      "        <form action=\"https&#x3a;&#x2f;&#x2f;lasp.colorado.edu&#x2f;Shibboleth.sso&#x2f;SAML2&#x2f;POST\" method=\"post\">\n",
      "            <div>\n",
      "                <input type=\"hidden\" name=\"RelayState\" value=\"ss&#x3a;mem&#x3a;4c2df31a922523d530f29727cee4845ab9fc9def5435d6a5e11269ae2807c598\"/>                \n",
      "                                \n",
      "                <input type=\"hidden\" name=\"SAMLResponse\" value=\"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\"/>                \n",
      "            </div>\n",
      "            <noscript>\n",
      "                <div>\n",
      "                    <input type=\"submit\" value=\"Continue\"/>\n",
      "                </div>\n",
      "            </noscript>\n",
      "        </form>\n",
      "        \n",
      "    </body>\n",
      "</html>\n"
     ]
    }
   ],
   "source": [
    "# Check page again, now with log-in cookies\n",
    "r = requests.get(url4, verify=False, allow_redirects=False, cookies=all_cookies)\n",
    "print('URL: ', url4)\n",
    "show_response(r)\n",
    "print('Text:', r.text)"
   ]
  },
  {
   "cell_type": "markdown",
   "metadata": {},
   "source": [
    "### Parse Form\n",
    "Now we have to read the form and click the \"Continue\" button. To do so find the form addres, then search for the input key-value pairs."
   ]
  },
  {
   "cell_type": "code",
   "execution_count": 10,
   "metadata": {
    "collapsed": true
   },
   "outputs": [],
   "source": [
    "# Function to parse the form containing the \"Continue\" button\n",
    "def parse_form(r):\n",
    "    '''Parse key-value pairs from the log-in form\n",
    "    \n",
    "    Parameters\n",
    "    ----------\n",
    "    r (object):    requests.response object.\n",
    "    \n",
    "    Returns\n",
    "    -------\n",
    "    form (dict):   key-value pairs parsed from the form.\n",
    "    '''\n",
    "    # Find action URL\n",
    "    pstart = r.text.find('<form')\n",
    "    pend = r.text.find('>', pstart)\n",
    "    paction = r.text.find('action', pstart, pend)\n",
    "    pquote1 = r.text.find('\"', pstart, pend)\n",
    "    pquote2 = r.text.find('\"', pquote1+1, pend)\n",
    "    url5 = r.text[pquote1+1:pquote2]\n",
    "    url5 = url5.replace('&#x3a;', ':')\n",
    "    url5 = url5.replace('&#x2f;', '/')\n",
    "    print('URL:', url5)\n",
    "\n",
    "    # Parse values from the form\n",
    "    pinput = r.text.find('<input', pend+1)\n",
    "    inputs = {}\n",
    "    while pinput != -1:\n",
    "        # Parse the name-value pair\n",
    "        pend = r.text.find('/>', pinput)\n",
    "\n",
    "        # Name\n",
    "        pname = r.text.find('name', pinput, pend)\n",
    "        pquote1 = r.text.find('\"', pname, pend)\n",
    "        pquote2 = r.text.find('\"', pquote1+1, pend)\n",
    "        name = r.text[pquote1+1:pquote2]\n",
    "\n",
    "        # Value\n",
    "        if pname != -1:\n",
    "            pvalue = r.text.find('value', pquote2+1, pend)\n",
    "            pquote1 = r.text.find('\"', pvalue, pend)\n",
    "            pquote2 = r.text.find('\"', pquote1+1, pend)\n",
    "            value = r.text[pquote1+1:pquote2]\n",
    "            value = value.replace('&#x3a;', ':')\n",
    "\n",
    "            # Extract the values\n",
    "            inputs[name] = value\n",
    "\n",
    "        # Next iteraction\n",
    "        pinput = r.text.find('<input', pend+1)\n",
    "    \n",
    "    form = {'url': url5,\n",
    "            'payload': inputs}\n",
    "    \n",
    "    return form"
   ]
  },
  {
   "cell_type": "code",
   "execution_count": 12,
   "metadata": {},
   "outputs": [
    {
     "name": "stdout",
     "output_type": "stream",
     "text": [
      "URL: https://lasp.colorado.edu/Shibboleth.sso/SAML2/POST\n",
      "Form:  {'url': 'https://lasp.colorado.edu/Shibboleth.sso/SAML2/POST', 'payload': {'RelayState': 'ss:mem:4c2df31a922523d530f29727cee4845ab9fc9def5435d6a5e11269ae2807c598', 'SAMLResponse': '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'}}\n"
     ]
    }
   ],
   "source": [
    "# Read the form\n",
    "form = parse_form(r)\n",
    "print('Form: ', form) "
   ]
  },
  {
   "cell_type": "markdown",
   "metadata": {},
   "source": [
    "### Click Continue\n",
    "Submitting the form to continue will return the session cookies. These can be submitted with future posts to the team site without having to log back in again."
   ]
  },
  {
   "cell_type": "code",
   "execution_count": 15,
   "metadata": {},
   "outputs": [
    {
     "name": "stdout",
     "output_type": "stream",
     "text": [
      "URL:  https://lasp.colorado.edu/Shibboleth.sso/SAML2/POST\n",
      "Status:  302\n",
      "Cookies:  {'_shibsession_64656661756c7468747470733a2f2f646d7a2d73686962322e6c6173702e636f6c6f7261646f2e6564752f73686962626f6c657468': '_ff7fd018452a2659d168d1c8d626c111'}\n",
      "Headers:\n",
      "\t Date: Thu, 19 Apr 2018 12:31:17 GMT\n",
      "\t Server: Apache/2.2.15 (Red Hat)\n",
      "\t Set-Cookie: _shibsession_64656661756c7468747470733a2f2f646d7a2d73686962322e6c6173702e636f6c6f7261646f2e6564752f73686962626f6c657468=_ff7fd018452a2659d168d1c8d626c111; path=/; secure; HttpOnly\n",
      "\t Expires: Wed, 01 Jan 1997 12:00:00 GMT\n",
      "\t Cache-Control: private,no-store,no-cache,max-age=0\n",
      "\t Location: https://lasp.colorado.edu/mms/sdc/team/\n",
      "\t Content-Length: 308\n",
      "\t Content-Type: text/html; charset=iso-8859-1\n",
      "Text: <!DOCTYPE HTML PUBLIC \"-//IETF//DTD HTML 2.0//EN\">\n",
      "<html><head>\n",
      "<title>302 Found</title>\n",
      "</head><body>\n",
      "<h1>Found</h1>\n",
      "<p>The document has moved <a href=\"https://lasp.colorado.edu/mms/sdc/team/\">here</a>.</p>\n",
      "<hr>\n",
      "<address>Apache/2.2.15 (Red Hat) Server at lasp.colorado.edu Port 443</address>\n",
      "</body></html>\n",
      "\n"
     ]
    }
   ],
   "source": [
    "# Submit the form\n",
    "r = requests.post(form['url'], verify=False, allow_redirects=False, data=form['payload'])\n",
    "print('URL: ', form['url'])\n",
    "show_response(r)\n",
    "print('Text:', r.text)"
   ]
  },
  {
   "cell_type": "markdown",
   "metadata": {},
   "source": [
    "### Save Cookies for Later\n",
    "Since the cookie dictionary has weird keys, save as a key-value pair as a tuple."
   ]
  },
  {
   "cell_type": "code",
   "execution_count": 16,
   "metadata": {},
   "outputs": [
    {
     "name": "stdout",
     "output_type": "stream",
     "text": [
      "('_shibsession_64656661756c7468747470733a2f2f646d7a2d73686962322e6c6173702e636f6c6f7261646f2e6564752f73686962626f6c657468', '_ff7fd018452a2659d168d1c8d626c111')\n"
     ]
    }
   ],
   "source": [
    "key = r.cookies.keys()[0]\n",
    "value = r.cookies[key]\n",
    "session_cookies = (key, value)\n",
    "print(session_cookies)"
   ]
  },
  {
   "cell_type": "markdown",
   "metadata": {},
   "source": [
    "<a id='auto_redirects'></a>\n",
    "## Obtain Cookie Credentials with Automated Redirects\n",
    "This time, we will do the same thing, but set `allow_redirects=True` to see if we can avoid a few steps."
   ]
  },
  {
   "cell_type": "markdown",
   "metadata": {},
   "source": [
    "### Initial Request"
   ]
  },
  {
   "cell_type": "code",
   "execution_count": 17,
   "metadata": {},
   "outputs": [
    {
     "name": "stdout",
     "output_type": "stream",
     "text": [
      "URL:  https://lasp.colorado.edu/mms/sdc/team/\n",
      "Status:  200\n",
      "Cookies:  {}\n",
      "Headers:\n",
      "\t Date: Thu, 19 Apr 2018 12:31:53 GMT\n",
      "\t Expires: 0\n",
      "\t Cache-Control: no-cache, no-store, must-revalidate, max-age=0\n",
      "\t Pragma: no-cache\n",
      "\t Content-Type: text/html; charset=UTF-8\n",
      "\t Content-Length: 1820\n",
      "\t Connection: close\n",
      "\n",
      "RESPONSE # 1 :\n",
      "Status:  302\n",
      "Cookies:  {}\n",
      "Headers:\n",
      "\t Date: Thu, 19 Apr 2018 12:31:52 GMT\n",
      "\t Expires: Wed, 01 Jan 1997 12:00:00 GMT\n",
      "\t Cache-Control: private,no-store,no-cache,max-age=0\n",
      "\t Location: https://lasp-login.colorado.edu/idp/profile/SAML2/Redirect/SSO?SAMLRequest=fZJdb4IwFIb%2FCuk9VPBj0giJ04uZuEmE7WI3S4GDNikt6yn7%2BvVD0UWzxOu%2Bfd5znpwZ8lo2bN7avdrCewtona9aKmTHh4i0RjHNUSBTvAZktmDp%2FHHNAm%2FAGqOtLrQkzhwRjBVaLbTCtgaTgvkQBTxv1xHZW9sgo1RybLwurg0vtQdlS9O9yHMtwe49RE0P4IAmmzQjzrKbRCh%2BYF4TXKl3Ql1zRNnQbphKSDhBtlAKA4WlabohzmoZkbcpr8KygLwa5ONJ5ed3k8k4HE7DaeHzUVD5XQyxhZVCy5WNSDDwp%2B5g5Pph5gds6LNx8Eqc5LTzvVClULvbgvI%2BhOwhyxK3X%2BwFDB6X6gIknh00s2OxuRB%2FG8vPtkl8NlPWPy52NgPvv2X8szyjF3V9d8OeOv5qmWgpim9nLqX%2BXBjgFiLiExr3X64vJP4F&RelayState=ss%3Amem%3A36c1d0d2c4953567862cfc982f9b5a6f2ccc78f4efa6d8fa40c4f04bfec50068\n",
      "\t Content-Length: 897\n",
      "\t Content-Type: text/html; charset=iso-8859-1\n",
      "\n",
      "RESPONSE # 2 :\n",
      "Status:  302\n",
      "Cookies:  {'JSESSIONID': '5E4C23C21A95FE91E74CCA6D5049B841', '_idp_authn_lc_key': '457aeaed-d820-4a6d-b542-40c428ef234f'}\n",
      "Headers:\n",
      "\t Date: Thu, 19 Apr 2018 12:31:52 GMT\n",
      "\t Set-Cookie: JSESSIONID=5E4C23C21A95FE91E74CCA6D5049B841; Path=/idp; Secure, _idp_authn_lc_key=457aeaed-d820-4a6d-b542-40c428ef234f; Version=1; Path=/idp; Secure\n",
      "\t Expires: 0\n",
      "\t Cache-Control: no-cache, no-store, must-revalidate, max-age=0\n",
      "\t Pragma: no-cache\n",
      "\t Location: https://lasp-login.colorado.edu:443/idp/AuthnEngine\n",
      "\t Content-Length: 0\n",
      "\t Connection: close\n",
      "\t Content-Type: text/plain; charset=UTF-8\n",
      "\n",
      "RESPONSE # 3 :\n",
      "Status:  302\n",
      "Cookies:  {}\n",
      "Headers:\n",
      "\t Date: Thu, 19 Apr 2018 12:31:52 GMT\n",
      "\t Expires: 0\n",
      "\t Cache-Control: no-cache, no-store, must-revalidate, max-age=0\n",
      "\t Pragma: no-cache\n",
      "\t Location: https://lasp-login.colorado.edu:443/idp/Authn/UserPassword\n",
      "\t Content-Length: 0\n",
      "\t Connection: close\n",
      "\t Content-Type: text/plain; charset=UTF-8\n"
     ]
    }
   ],
   "source": [
    "# Attempt to access the site\n",
    "#   - Each of the redirects are stored in the history attribute\n",
    "url0 = 'https://lasp.colorado.edu/mms/sdc/team/'\n",
    "r = requests.get(url0, verify=0)\n",
    "print('URL: ', url0)\n",
    "show_response(r)\n",
    "for idx, response in enumerate(r.history):\n",
    "    print('\\nRESPONSE #', idx+1, ':')\n",
    "    show_response(response)"
   ]
  },
  {
   "cell_type": "markdown",
   "metadata": {},
   "source": [
    "### Submit Username & Password\n",
    "With the redirect history, we can capture the cookies from the second redirect, then post our log-in information to the URL from the final redirect."
   ]
  },
  {
   "cell_type": "code",
   "execution_count": 18,
   "metadata": {
    "scrolled": true
   },
   "outputs": [
    {
     "name": "stdout",
     "output_type": "stream",
     "text": [
      "URL:          https://lasp-login.colorado.edu:443/idp/Authn/UserPassword\n",
      "Status:  200\n",
      "Cookies:  {}\n",
      "Headers:\n",
      "\t Date: Thu, 19 Apr 2018 12:31:53 GMT\n",
      "\t Expires: 0\n",
      "\t Cache-Control: no-cache, no-store\n",
      "\t Pragma: no-cache\n",
      "\t Set-Cookie: _idp_authn_lc_key=457aeaed-d820-4a6d-b542-40c428ef234f; Version=1; Max-Age=0; Expires=Thu, 01-Jan-1970 00:00:10 GMT; Path=/idp\n",
      "\t Content-Type: text/html;charset=UTF-8\n",
      "\t Connection: close\n",
      "\t Transfer-Encoding: chunked\n",
      "Text: \n",
      "<html xmlns=\"http://www.w3.org/1999/xhtml\" xml:lang=\"en\">\n",
      "\n",
      "    <body onload=\"document.forms[0].submit()\">\n",
      "        <noscript>\n",
      "            <p>\n",
      "                <strong>Note:</strong> Since your browser does not support JavaScript,\n",
      "                you must press the Continue button once to proceed.\n",
      "            </p>\n",
      "        </noscript>\n",
      "        \n",
      "        <form action=\"https&#x3a;&#x2f;&#x2f;lasp.colorado.edu&#x2f;Shibboleth.sso&#x2f;SAML2&#x2f;POST\" method=\"post\">\n",
      "            <div>\n",
      "                <input type=\"hidden\" name=\"RelayState\" value=\"ss&#x3a;mem&#x3a;36c1d0d2c4953567862cfc982f9b5a6f2ccc78f4efa6d8fa40c4f04bfec50068\"/>                \n",
      "                                \n",
      "                <input type=\"hidden\" name=\"SAMLResponse\" value=\"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\"/>                \n",
      "            </div>\n",
      "            <noscript>\n",
      "                <div>\n",
      "                    <input type=\"submit\" value=\"Continue\"/>\n",
      "                </div>\n",
      "            </noscript>\n",
      "        </form>\n",
      "        \n",
      "    </body>\n",
      "</html>\n"
     ]
    }
   ],
   "source": [
    "# Information from history\n",
    "cookies = r.history[1].cookies\n",
    "url1 = r.history[2].headers['Location']\n",
    "\n",
    "# Send login credentials\n",
    "payload = {'j_username': username, 'j_password': password}\n",
    "r = requests.post(url1, verify=False, allow_redirects=True, cookies=cookies, data=payload)\n",
    "print('URL:         ', url1)\n",
    "show_response(r)\n",
    "print('Text:', r.text)"
   ]
  },
  {
   "cell_type": "markdown",
   "metadata": {},
   "source": [
    "### Parse Form & Click Continue\n",
    "Now we have to parse the form in order to click \"Continue\""
   ]
  },
  {
   "cell_type": "code",
   "execution_count": 19,
   "metadata": {},
   "outputs": [
    {
     "name": "stdout",
     "output_type": "stream",
     "text": [
      "URL: https://lasp.colorado.edu/Shibboleth.sso/SAML2/POST\n",
      "URL:          https://lasp.colorado.edu/Shibboleth.sso/SAML2/POST\n",
      "Status:  200\n",
      "Cookies:  {}\n",
      "Headers:\n",
      "\t Date: Thu, 19 Apr 2018 12:31:54 GMT\n",
      "\t Server: Apache/2.2.15 (Red Hat)\n",
      "\t Last-Modified: Tue, 03 Oct 2017 15:32:42 GMT\n",
      "\t ETag: \"64454-175f-55aa633b31a80\"\n",
      "\t Accept-Ranges: bytes\n",
      "\t Content-Length: 5983\n",
      "\t Cache-Control: no-cache, no-store, must-revalidate\n",
      "\t Pragma: no-cache\n",
      "\t Expires: 0\n",
      "\t Content-Type: text/html; charset=UTF-8\n",
      "\n",
      "RESPONSE # 0 :\n",
      "Status:  302\n",
      "Cookies:  {'_shibsession_64656661756c7468747470733a2f2f646d7a2d73686962322e6c6173702e636f6c6f7261646f2e6564752f73686962626f6c657468': '_a71ead0e9a3bd23411a114f34d6d3d79'}\n",
      "Headers:\n",
      "\t Date: Thu, 19 Apr 2018 12:31:54 GMT\n",
      "\t Server: Apache/2.2.15 (Red Hat)\n",
      "\t Set-Cookie: _shibsession_64656661756c7468747470733a2f2f646d7a2d73686962322e6c6173702e636f6c6f7261646f2e6564752f73686962626f6c657468=_a71ead0e9a3bd23411a114f34d6d3d79; path=/; secure; HttpOnly\n",
      "\t Expires: Wed, 01 Jan 1997 12:00:00 GMT\n",
      "\t Cache-Control: private,no-store,no-cache,max-age=0\n",
      "\t Location: https://lasp.colorado.edu/mms/sdc/team/\n",
      "\t Content-Length: 308\n",
      "\t Content-Type: text/html; charset=iso-8859-1\n"
     ]
    }
   ],
   "source": [
    "# Parse the form\n",
    "form = parse_form(r)\n",
    "\n",
    "# Submit the form\n",
    "r = requests.post(form['url'], verify=False, allow_redirects=True, cookies=cookies, data=form['payload'])\n",
    "print('URL:         ', form['url'])\n",
    "show_response(r)\n",
    "for idx, response in enumerate(r.history):\n",
    "    print('\\nRESPONSE #', idx, ':')\n",
    "    show_response(response)"
   ]
  },
  {
   "cell_type": "markdown",
   "metadata": {},
   "source": [
    "### Extract Session Cookies\n",
    "The last thing to do is save the session cookies for future `get`/`post` requests."
   ]
  },
  {
   "cell_type": "code",
   "execution_count": 20,
   "metadata": {
    "scrolled": true
   },
   "outputs": [
    {
     "name": "stdout",
     "output_type": "stream",
     "text": [
      "('_shibsession_64656661756c7468747470733a2f2f646d7a2d73686962322e6c6173702e636f6c6f7261646f2e6564752f73686962626f6c657468', '_a71ead0e9a3bd23411a114f34d6d3d79')\n"
     ]
    }
   ],
   "source": [
    "key = r.history[0].cookies.keys()[0]\n",
    "value = r.history[0].cookies[key]\n",
    "session_cookies = (key, value)\n",
    "print(session_cookies)"
   ]
  },
  {
   "cell_type": "markdown",
   "metadata": {},
   "source": [
    "<a id='download_data'></a>\n",
    "## Download Data\n",
    "Now we can use the session cookies to download data from the team site. Note that we have to use the [Browse the Data](https://lasp.colorado.edu/mms/sdc/team/about/browse/) file archive tree, not the [SDC API](https://lasp.colorado.edu/mms/sdc/team/about/how-to/)."
   ]
  },
  {
   "cell_type": "code",
   "execution_count": 28,
   "metadata": {},
   "outputs": [
    {
     "name": "stdout",
     "output_type": "stream",
     "text": [
      "Status:  200\n",
      "Cookies:  {}\n",
      "Headers:\n",
      "\t Date: Thu, 19 Apr 2018 12:46:23 GMT\n",
      "\t Server: Apache/2.2.15 (Red Hat)\n",
      "\t Last-Modified: Thu, 19 Apr 2018 00:46:45 GMT\n",
      "\t ETag: \"aec72-16a2704-56a28e7e1a10b\"\n",
      "\t Accept-Ranges: bytes\n",
      "\t Content-Length: 23734020\n",
      "\t Access-Control-Allow-Origin: *\n",
      "\t Content-Type: application/x-netcdf\n",
      "Output File:  /var/folders/vx/c1d4m37n4h5gn_vtcz9hhck80000gn/T/mms4_edi_srvy_l2_amb-alt-oob_20180326_v1.2.0.cdf\n"
     ]
    }
   ],
   "source": [
    "# Write to temporary directory\n",
    "import tempfile\n",
    "import os\n",
    "\n",
    "# Note: if data is reprocessed, this link will be dead.\n",
    "host = 'https://lasp.colorado.edu/'\n",
    "path = 'mms/sdc/team/about/browse/mms4/edi/srvy/l2/amb-alt-oob/2018/03/'\n",
    "file = 'mms4_edi_srvy_l2_amb-alt-oob_20180326_v1.2.0.cdf'\n",
    "url = host + path + file\n",
    "\n",
    "# Download\n",
    "print('Downloading...')\n",
    "r = requests.get(url, cookies={session_cookies[0]: session_cookies[1]})\n",
    "show_response(r)\n",
    "\n",
    "# Write data to temporary file\n",
    "fout = os.path.join(tempfile.gettempdir(), file)\n",
    "print('Output File: ', fout)\n",
    "with open(fout, 'wb') as f:\n",
    "    f.write(r.content)"
   ]
  },
  {
   "cell_type": "markdown",
   "metadata": {},
   "source": [
    "<a id='latis_login'></a>\n",
    "## Log-In Through Latis\n",
    "As the following example shows, the session cookies obtained by logging in to the [team file browser](https://lasp.colorado.edu/mms/sdc/team/about/browse/) do not work with the [API](https://lasp.colorado.edu/mms/sdc/team/about/how-to/). After an unsuccessful attempt, I try to log-in through Latis, which the SITL does in the IDL SPEDAS distribution. However, I am unable to post my log-in credentials correctly."
   ]
  },
  {
   "cell_type": "code",
   "execution_count": 31,
   "metadata": {},
   "outputs": [
    {
     "name": "stdout",
     "output_type": "stream",
     "text": [
      "URL:  https://lasp.colorado.edu/mms/sdc/sitl/files/api/v1/download/science?sc_id=mms1&instrument_id=edi&data_rate_mode=srvy&data_level=l2&descriptor=amb-alt-oob&start_date=2018-03-26&end_date=2018-03-26\n",
      "Status:  401\n",
      "Cookies:  {}\n",
      "Headers:\n",
      "\t Date: Thu, 19 Apr 2018 13:16:15 GMT\n",
      "\t WWW-Authenticate: Basic realm=\"Secure Area\"\n",
      "\t Content-Length: 486\n",
      "\t Content-Type: text/html; charset=iso-8859-1\n"
     ]
    }
   ],
   "source": [
    "# Create a query for the API\n",
    "url = 'https://lasp.colorado.edu/mms/sdc/sitl/files/api/v1/download/science'\n",
    "payload = {'sc_id': 'mms1',\n",
    "           'instrument_id': 'edi',\n",
    "           'data_rate_mode': 'srvy',\n",
    "           'data_level': 'l2',\n",
    "           'descriptor': 'amb-alt-oob',\n",
    "           'start_date': '2018-03-26',\n",
    "           'end_date': '2018-03-26'}\n",
    "\n",
    "# Attempt to download the data with the previous session cookies\n",
    "r = requests.get(url, params=payload, cookies={session_cookies[0]: session_cookies[1]})\n",
    "print('URL: ', r.url)\n",
    "show_response(r)"
   ]
  },
  {
   "cell_type": "code",
   "execution_count": 32,
   "metadata": {},
   "outputs": [
    {
     "name": "stdout",
     "output_type": "stream",
     "text": [
      "Status:  401\n",
      "Cookies:  {}\n",
      "Headers:\n",
      "\t Date: Thu, 19 Apr 2018 13:20:19 GMT\n",
      "\t WWW-Authenticate: Basic realm=\"Secure Area\"\n",
      "\t Content-Length: 486\n",
      "\t Content-Type: text/html; charset=iso-8859-1\n"
     ]
    }
   ],
   "source": [
    "# Latis site\n",
    "url = 'https://lasp.colorado.edu/mms/sdc/sitl/latis/dap/properties.txt'\n",
    "\n",
    "# Attempt to log-in\n",
    "#   - I have also tried \"j_username\" and \"j_password\", as above\n",
    "r = requests.post(url, data={'username': username, 'password': password})\n",
    "show_response(r)"
   ]
  },
  {
   "cell_type": "markdown",
   "metadata": {},
   "source": [
    "<a id='conclusions'></a>\n",
    "# Conclusion\n",
    "We first tried to log-in to the team [File Browser](https://lasp.colorado.edu/mms/sdc/team/about/browse/) and found that this sends us through a series of redirects before landing on the log-in page. Session cookies were successfully obtained by both manually and automatically following the redirects. Next, we tried to use the same session cookies to access data through the SDC's [API](https://lasp.colorado.edu/mms/sdc/team/about/how-to/) but were unsuccessful. After looking through the SITL software in the SPEDAS distribution, we found that the SITL posts log-in information to a Latis "
   ]
  }
 ],
 "metadata": {
  "kernelspec": {
   "display_name": "Python 3",
   "language": "python",
   "name": "python3"
  },
  "language_info": {
   "codemirror_mode": {
    "name": "ipython",
    "version": 3
   },
   "file_extension": ".py",
   "mimetype": "text/x-python",
   "name": "python",
   "nbconvert_exporter": "python",
   "pygments_lexer": "ipython3",
   "version": "3.6.3"
  }
 },
 "nbformat": 4,
 "nbformat_minor": 2
}
