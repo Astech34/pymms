{
 "cells": [
  {
   "cell_type": "markdown",
   "metadata": {},
   "source": [
    "# Objective\n",
    "The goal of this notebook is to test various methods of plotting an image. It follows [this StackExchange post](https://stackoverflow.com/questions/30121351/fastest-pcolor-like-method-with-log-scale-support). Given particle fluxes as a function of sample times and energy bins, F(t,E), plot F as a 2D image with the E-axis log-scaled.\n",
    "\n",
    "# Setup"
   ]
  },
  {
   "cell_type": "code",
   "execution_count": null,
   "metadata": {},
   "outputs": [],
   "source": [
    "import numpy as np\n",
    "import datetime as dt\n",
    "import spacepy\n",
    "from spacepy import pycdf\n",
    "import pandas as pd\n",
    "from pandas import DataFrame\n",
    "import matplotlib.pyplot as plt\n",
    "import matplotlib.dates as mdates\n",
    "import pymms\n",
    "from pymms import mms_utils\n",
    "\n",
    "# Create an instance of SDC object\n",
    "sdc = pymms.MrMMS_SDC_API()\n",
    "\n",
    "# Define the spacecraft. We will use the variable later when accessing the CDF files.\n",
    "sc = 'mms1'\n",
    "mode = 'srvy'\n",
    "level = 'l2'                    # 'l2' or 'sitl'\n",
    "start_date = '2015-12-06'\n",
    "end_date = '2015-12-06T23:59:59'\n",
    "data_root = '/Users/argall/data/mms/' # Specifying data_root=\"~/\" does not expand the tilde yet\n",
    "                                      # However, if data_root=None, then ~/data is the default\n",
    "\n",
    "# Set attributes\n",
    "sdc.sc = sc\n",
    "sdc.mode = mode\n",
    "sdc.start_date = start_date\n",
    "sdc.end_date = end_date\n",
    "sdc.data_root = data_root"
   ]
  },
  {
   "cell_type": "markdown",
   "metadata": {},
   "source": [
    "# Load Data"
   ]
  },
  {
   "cell_type": "code",
   "execution_count": null,
   "metadata": {},
   "outputs": [],
   "source": [
    "# Update instrument-specific variables\n",
    "des_instr = 'fpi'\n",
    "\n",
    "if mode == 'brst':\n",
    "    des_mode = mode\n",
    "else:\n",
    "    des_mode = 'fast'\n",
    "\n",
    "if level == 'sitl':\n",
    "    des_coords = 'dbcs'\n",
    "    des_level = 'ql'\n",
    "    des_optdesc = 'des'\n",
    "else:\n",
    "    des_coords = 'gse'\n",
    "    des_level = level\n",
    "    des_optdesc = 'des-moms'\n",
    "\n",
    "# Set attributes\n",
    "sdc.instr = des_instr\n",
    "sdc.mode = des_mode\n",
    "sdc.level = des_level\n",
    "sdc.optdesc = des_optdesc\n",
    "\n",
    "# DIS variable names\n",
    "espec_vname = '_'.join((sc, 'des', 'energyspectr', 'omni', des_mode))\n",
    "\n",
    "# Open the file\n",
    "files = sdc.Download()\n",
    "files = mms_utils.sort_files(files)[0]\n",
    "\n",
    "# Read the data\n",
    "des_t = []\n",
    "des_espec = []\n",
    "des_energy = []\n",
    "for file in files:\n",
    "    # Open the file\n",
    "    cdf = pycdf.CDF(file)\n",
    "    \n",
    "    # Read timee and shift to center of interval\n",
    "    #   - There must be a bug in the CDF package because the Epoch_plus_var variables\n",
    "    #     are read as empty but really contain scalar values\n",
    "    t = cdf[cdf[espec_vname].attrs['DEPEND_0']][:]\n",
    "#    dt_minus = t.attrs['DELTA_MINUS_VAR']\n",
    "#    dt_plus = t.attrs['DELTA_PLUS_VAR']\n",
    "    dt_minus = 0\n",
    "    dt_plus = 4.5\n",
    "    t += dt.timedelta(seconds=(dt_plus - dt_minus) / 2.0)\n",
    "    \n",
    "    # Read the data\n",
    "    des_t += list(t)\n",
    "    des_espec += list(cdf[espec_vname][:])\n",
    "    des_energy += list(cdf[cdf[espec_vname].attrs['DEPEND_1']][:])\n",
    "\n",
    "    # Close the file\n",
    "    cdf.close()\n",
    "    print('  ' + file)\n",
    "\n",
    "# Convert back to numpy arrays\n",
    "des_t = np.array(des_t)\n",
    "des_espec = np.array(des_espec)\n",
    "des_energy = np.array(des_energy)"
   ]
  },
  {
   "cell_type": "markdown",
   "metadata": {},
   "source": [
    "# Plot\n",
    "## NonUniformImage"
   ]
  },
  {
   "cell_type": "code",
   "execution_count": null,
   "metadata": {},
   "outputs": [],
   "source": [
    "from matplotlib.image import NonUniformImage\n",
    "from matplotlib import cm\n",
    "\n",
    "t_sec = [(t - dt.datetime.strptime(start_date, '%Y-%m-%d')).total_seconds() for t in des_t]\n",
    "t_sec = np.array(t_sec)\n",
    "\n",
    "fig, axs = plt.subplots(nrows=1, ncols=1, squeeze=False)\n",
    "fig.subplots_adjust(bottom=0.07, hspace=0.3)\n",
    "fig.suptitle('NonUniformImage Class', fontsize='large')\n",
    "\n",
    "ax = axs[0,0]\n",
    "im = NonUniformImage(ax, interpolation='nearest', extent=(t_sec[0], t_sec[10], des_energy[0,:].min(), des_energy[0,:].max()),\n",
    "                     cmap=cm.Purples)\n",
    "im.set_data(t_sec[0:10], des_energy[0,:], des_espec[0:10,:].transpose())\n",
    "\n",
    "ax.images.append(im)\n",
    "ax.set_title('ESpec')\n",
    "\n",
    "plt.show()"
   ]
  },
  {
   "cell_type": "markdown",
   "metadata": {},
   "source": [
    "## PColorImage"
   ]
  },
  {
   "cell_type": "code",
   "execution_count": null,
   "metadata": {},
   "outputs": [],
   "source": [
    "from matplotlib import PColor\n",
    "\n",
    "fig, ax0 = plt.subplots(1, 1, squeeze=False)\n",
    "\n",
    "c = ax.pcolor(Z)\n",
    "ax0.set_title('default: no edges')\n",
    "\n",
    "c = ax1.pcolor(Z, edgecolors='k', linewidths=4)\n",
    "ax1.set_title('thick edges')\n",
    "\n",
    "fig.tight_layout()\n",
    "plt.show()"
   ]
  },
  {
   "cell_type": "markdown",
   "metadata": {},
   "source": [
    "# Test Data"
   ]
  },
  {
   "cell_type": "code",
   "execution_count": null,
   "metadata": {
    "scrolled": true
   },
   "outputs": [],
   "source": [
    "import numpy as np\n",
    "from matplotlib.image import NonUniformImage\n",
    "import matplotlib.pyplot as plt\n",
    "\n",
    "# Time array\n",
    "T = 100\n",
    "dt = 1.0\n",
    "t = np.arange(0, T, dt)\n",
    "nt = t.size\n",
    "\n",
    "# Energy array (log spaced)\n",
    "E0 = 10.0\n",
    "E1 = 20000\n",
    "nE = 32\n",
    "E = np.logspace(np.log(E0), np.log(E1), nE)\n",
    "\n",
    "# Differential flux\n",
    "F = np.random.normal(size=(nE, nt))\n",
    "\n",
    "# Attempt to plot with NonUniformImage\n",
    "fig, axes = plt.subplots(nrows=1, ncols=1, squeeze=False)\n",
    "ax = axes[0,0]\n",
    "im = NonUniformImage(ax, interpolation='nearest', extent=(t_sec[0], t_sec[-1], E[0], E[-1]),\n",
    "                     cmap=cm.Purples)\n",
    "im.set_data(t, E, F)\n",
    "\n",
    "ax.images.append(im)\n",
    "ax.set_title('ESpec')\n",
    "\n",
    "plt.show()"
   ]
  }
 ],
 "metadata": {
  "kernelspec": {
   "display_name": "Python 3",
   "language": "python",
   "name": "python3"
  },
  "language_info": {
   "codemirror_mode": {
    "name": "ipython",
    "version": 3
   },
   "file_extension": ".py",
   "mimetype": "text/x-python",
   "name": "python",
   "nbconvert_exporter": "python",
   "pygments_lexer": "ipython3",
   "version": "3.6.3"
  }
 },
 "nbformat": 4,
 "nbformat_minor": 2
}
